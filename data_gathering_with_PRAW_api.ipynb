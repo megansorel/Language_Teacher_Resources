{
 "cells": [
  {
   "cell_type": "markdown",
   "metadata": {},
   "source": [
    "# Getting Subreddit Submissions from Reddit \n",
    "\n",
    "We used PRAW to get submissions in order to get enough comments and questions for at least 1,000 submissions from each subreddit."
   ]
  },
  {
   "cell_type": "code",
   "execution_count": 1,
   "metadata": {},
   "outputs": [],
   "source": [
    "import pandas as pd\n",
    "import numpy as np\n",
    "import datetime\n",
    "import praw\n",
    "from sklearn.feature_extraction.text import CountVectorizer\n",
    "from sklearn.feature_extraction.text import TfidfVectorizer\n",
    "from sklearn.datasets import fetch_20newsgroups\n",
    "from pprint import pprint\n",
    "import re\n",
    "\n",
    "import spacy\n",
    "from spacytextblob.spacytextblob import SpacyTextBlob"
   ]
  },
  {
   "cell_type": "code",
   "execution_count": 2,
   "metadata": {},
   "outputs": [],
   "source": [
    "reddit = praw.Reddit(\n",
    "    #personal use script\n",
    "    client_id = 'sQ-FPslTJiefaA',\n",
    "    #secret\n",
    "    client_secret = 'uIxv_Poyngp2l7yUMZca4lMKx4esIA',\n",
    "    #account password\n",
    "    password = 'T4sK5Ge&QiXYt!6',\n",
    "    username = 'Designer_Staff_1284',\n",
    "    user_agent = 'attempt three by u/Designer_Staff_1284 ' #description by my name\n",
    ")"
   ]
  },
  {
   "cell_type": "code",
   "execution_count": 3,
   "metadata": {},
   "outputs": [],
   "source": [
    "previous = pd.read_csv('previous.csv')"
   ]
  },
  {
   "cell_type": "code",
   "execution_count": 4,
   "metadata": {},
   "outputs": [
    {
     "data": {
      "text/html": [
       "<div>\n",
       "<style scoped>\n",
       "    .dataframe tbody tr th:only-of-type {\n",
       "        vertical-align: middle;\n",
       "    }\n",
       "\n",
       "    .dataframe tbody tr th {\n",
       "        vertical-align: top;\n",
       "    }\n",
       "\n",
       "    .dataframe thead th {\n",
       "        text-align: right;\n",
       "    }\n",
       "</style>\n",
       "<table border=\"1\" class=\"dataframe\">\n",
       "  <thead>\n",
       "    <tr style=\"text-align: right;\">\n",
       "      <th></th>\n",
       "      <th>id</th>\n",
       "      <th>title</th>\n",
       "      <th>num_comments</th>\n",
       "      <th>body</th>\n",
       "      <th>num_upvotes</th>\n",
       "      <th>time_posted</th>\n",
       "      <th>time_now</th>\n",
       "      <th>time_delta</th>\n",
       "      <th>subreddit</th>\n",
       "      <th>top_comment</th>\n",
       "      <th>text_length</th>\n",
       "    </tr>\n",
       "  </thead>\n",
       "  <tbody>\n",
       "    <tr>\n",
       "      <th>0</th>\n",
       "      <td>nb0592</td>\n",
       "      <td>how common is it to not have your country's mo...</td>\n",
       "      <td>3</td>\n",
       "      <td>/r/titlegoretaken spain as a whole, the most w...</td>\n",
       "      <td>3</td>\n",
       "      <td>2021-05-12 21:37:16</td>\n",
       "      <td>2021-05-13 01:20:57.717158</td>\n",
       "      <td>0 days 03:43:41.717163</td>\n",
       "      <td>1</td>\n",
       "      <td>[\"About 40% of the population speaks French. I...</td>\n",
       "      <td>318</td>\n",
       "    </tr>\n",
       "    <tr>\n",
       "      <th>1</th>\n",
       "      <td>nb3wei</td>\n",
       "      <td>most popular fast food restaurant/take-away?</td>\n",
       "      <td>14</td>\n",
       "      <td>hey guys i’m not from usa but i have seen many...</td>\n",
       "      <td>3</td>\n",
       "      <td>2021-05-13 00:31:12</td>\n",
       "      <td>2021-05-13 01:20:57.864588</td>\n",
       "      <td>0 days 00:49:45.864594</td>\n",
       "      <td>0</td>\n",
       "      <td>[\"McDonalds, Subway and Starbucks are probably...</td>\n",
       "      <td>22</td>\n",
       "    </tr>\n",
       "    <tr>\n",
       "      <th>2</th>\n",
       "      <td>nb339e</td>\n",
       "      <td>is it true that you guys don't like/go to mcdo...</td>\n",
       "      <td>55</td>\n",
       "      <td>here in my country they're one of the most pop...</td>\n",
       "      <td>3</td>\n",
       "      <td>2021-05-12 23:52:33</td>\n",
       "      <td>2021-05-13 01:20:58.146242</td>\n",
       "      <td>0 days 01:28:25.146249</td>\n",
       "      <td>0</td>\n",
       "      <td>['It’s not my first choice by far. I’d rather ...</td>\n",
       "      <td>49</td>\n",
       "    </tr>\n",
       "    <tr>\n",
       "      <th>3</th>\n",
       "      <td>nb2x64</td>\n",
       "      <td>why were football fans so upset by the europea...</td>\n",
       "      <td>3</td>\n",
       "      <td>it seemed to me like it would increase the lev...</td>\n",
       "      <td>0</td>\n",
       "      <td>2021-05-12 23:44:35</td>\n",
       "      <td>2021-05-13 01:20:58.274452</td>\n",
       "      <td>0 days 01:36:23.274458</td>\n",
       "      <td>1</td>\n",
       "      <td>['Cause fans don\\'t want \"top-notch matches\" i...</td>\n",
       "      <td>25</td>\n",
       "    </tr>\n",
       "    <tr>\n",
       "      <th>4</th>\n",
       "      <td>nb0xx6</td>\n",
       "      <td>why do people stick four fingers out?</td>\n",
       "      <td>29</td>\n",
       "      <td>usually it's people in a lifted truck who do i...</td>\n",
       "      <td>1</td>\n",
       "      <td>2021-05-12 22:13:39</td>\n",
       "      <td>2021-05-13 01:20:58.525647</td>\n",
       "      <td>0 days 03:07:19.525654</td>\n",
       "      <td>0</td>\n",
       "      <td>['Are you talking about waving?  Do we serious...</td>\n",
       "      <td>17</td>\n",
       "    </tr>\n",
       "  </tbody>\n",
       "</table>\n",
       "</div>"
      ],
      "text/plain": [
       "       id                                              title  num_comments  \\\n",
       "0  nb0592  how common is it to not have your country's mo...             3   \n",
       "1  nb3wei       most popular fast food restaurant/take-away?            14   \n",
       "2  nb339e  is it true that you guys don't like/go to mcdo...            55   \n",
       "3  nb2x64  why were football fans so upset by the europea...             3   \n",
       "4  nb0xx6              why do people stick four fingers out?            29   \n",
       "\n",
       "                                                body  num_upvotes  \\\n",
       "0  /r/titlegoretaken spain as a whole, the most w...            3   \n",
       "1  hey guys i’m not from usa but i have seen many...            3   \n",
       "2  here in my country they're one of the most pop...            3   \n",
       "3  it seemed to me like it would increase the lev...            0   \n",
       "4  usually it's people in a lifted truck who do i...            1   \n",
       "\n",
       "           time_posted                    time_now              time_delta  \\\n",
       "0  2021-05-12 21:37:16  2021-05-13 01:20:57.717158  0 days 03:43:41.717163   \n",
       "1  2021-05-13 00:31:12  2021-05-13 01:20:57.864588  0 days 00:49:45.864594   \n",
       "2  2021-05-12 23:52:33  2021-05-13 01:20:58.146242  0 days 01:28:25.146249   \n",
       "3  2021-05-12 23:44:35  2021-05-13 01:20:58.274452  0 days 01:36:23.274458   \n",
       "4  2021-05-12 22:13:39  2021-05-13 01:20:58.525647  0 days 03:07:19.525654   \n",
       "\n",
       "   subreddit                                        top_comment  text_length  \n",
       "0          1  [\"About 40% of the population speaks French. I...          318  \n",
       "1          0  [\"McDonalds, Subway and Starbucks are probably...           22  \n",
       "2          0  ['It’s not my first choice by far. I’d rather ...           49  \n",
       "3          1  ['Cause fans don\\'t want \"top-notch matches\" i...           25  \n",
       "4          0  ['Are you talking about waving?  Do we serious...           17  "
      ]
     },
     "execution_count": 4,
     "metadata": {},
     "output_type": "execute_result"
    }
   ],
   "source": [
    "previous.head()"
   ]
  },
  {
   "cell_type": "code",
   "execution_count": 5,
   "metadata": {},
   "outputs": [
    {
     "data": {
      "text/plain": [
       "(1428, 11)"
      ]
     },
     "execution_count": 5,
     "metadata": {},
     "output_type": "execute_result"
    }
   ],
   "source": [
    "previous.shape"
   ]
  },
  {
   "cell_type": "code",
   "execution_count": 7,
   "metadata": {},
   "outputs": [],
   "source": [
    "ids = []\n",
    "titles = [] \n",
    "bodies = []\n",
    "subreddits = []\n",
    "num_comments = []\n",
    "num_upvotes = []\n",
    "time_posted = []\n",
    "time_now = []\n",
    "time_delta = []\n",
    "top_comment = []\n",
    "for submission in reddit.subreddit('AskAnAmerican').top('year', limit = 1_000):\n",
    "    submission.comment_sort = 'best'\n",
    "    submission.comment_limit = 2\n",
    "\n",
    "    if submission.title not in previous.title.values: \n",
    "        \n",
    "        ids.append(submission.id)\n",
    "        titles.append(submission.title) \n",
    "        bodies.append(submission.selftext)\n",
    "        subreddits.append(submission.subreddit)\n",
    "        num_comments.append(submission.num_comments)\n",
    "        num_upvotes.append(submission.ups)\n",
    "        time_posted.append(submission.created_utc)\n",
    "        time_now.append(datetime.datetime.utcnow())\n",
    "        time_delta.append(datetime.datetime.utcnow() - \\\n",
    "                              datetime.datetime.utcfromtimestamp(submission.created_utc))\n",
    "        top_comment.append('' if not submission.comments \\\n",
    "                     else [comment.body \\\n",
    "                           for comment in submission.comments \\\n",
    "                           if (hasattr(comment, 'body') \\\n",
    "                           and comment.stickied == False)][0])\n",
    "america_df = pd.DataFrame({'id': ids, \n",
    "                       'title': titles,\n",
    "                      'num_comments': num_comments,\n",
    "                       'body': bodies,\n",
    "                      'num_upvotes': num_upvotes,\n",
    "                      'time_posted': time_posted,\n",
    "                      'time_now': time_now,\n",
    "                      'time_delta': time_delta,\n",
    "                      'subreddit': subreddits,\n",
    "                      'top_comment': top_comment})"
   ]
  },
  {
   "cell_type": "code",
   "execution_count": 8,
   "metadata": {},
   "outputs": [],
   "source": [
    "\n",
    "# instantiate the lists\n",
    "ids = []\n",
    "titles = [] \n",
    "bodies = []\n",
    "subreddits = []\n",
    "num_comments = []\n",
    "num_upvotes = []\n",
    "time_posted = []\n",
    "time_now = []\n",
    "time_delta = []\n",
    "top_comment = []\n",
    "for submission in reddit.subreddit('AskEurope').top('year', limit = 1_000):\n",
    "    submission.comment_sort = 'best'\n",
    "    submission.comment_limit = 2\n",
    "\n",
    "    if submission.title not in previous.title.values: \n",
    "        \n",
    "        ids.append(submission.id)\n",
    "        titles.append(submission.title) \n",
    "        bodies.append(submission.selftext)\n",
    "        subreddits.append(submission.subreddit)\n",
    "        num_comments.append(submission.num_comments)\n",
    "        num_upvotes.append(submission.ups)\n",
    "        time_posted.append(submission.created_utc)\n",
    "        time_now.append(datetime.datetime.utcnow())\n",
    "        time_delta.append(datetime.datetime.utcnow() - \\\n",
    "                              datetime.datetime.utcfromtimestamp(submission.created_utc))\n",
    "        top_comment.append('' if not submission.comments \\\n",
    "                     else [comment.body \\\n",
    "                           for comment in submission.comments \\\n",
    "                           if (hasattr(comment, 'body') \\\n",
    "                           and comment.stickied == False)][0])\n",
    "europe_df = pd.DataFrame({'id': ids, \n",
    "                       'title': titles,\n",
    "                      'num_comments': num_comments,\n",
    "                       'body': bodies,\n",
    "                      'num_upvotes': num_upvotes,\n",
    "                      'time_posted': time_posted,\n",
    "                      'time_now': time_now,\n",
    "                      'time_delta': time_delta,\n",
    "                      'subreddit': subreddits,\n",
    "                      'top_comment': top_comment})"
   ]
  },
  {
   "cell_type": "code",
   "execution_count": 9,
   "metadata": {},
   "outputs": [],
   "source": [
    "merged_df = pd.concat([america_df, europe_df])"
   ]
  },
  {
   "cell_type": "code",
   "execution_count": 10,
   "metadata": {},
   "outputs": [
    {
     "data": {
      "text/plain": [
       "(1997, 10)"
      ]
     },
     "execution_count": 10,
     "metadata": {},
     "output_type": "execute_result"
    }
   ],
   "source": [
    "merged_df.shape"
   ]
  },
  {
   "cell_type": "code",
   "execution_count": 11,
   "metadata": {},
   "outputs": [
    {
     "name": "stdout",
     "output_type": "stream",
     "text": [
      "998 998 998 998 998 998 998 998\n"
     ]
    }
   ],
   "source": [
    "print(len(ids),\n",
    "      len(titles),\n",
    "      len(subreddits),\n",
    "      len(num_comments),\n",
    "      len(num_upvotes),\n",
    "      len(time_posted),\n",
    "      len(time_now),\n",
    "      len(time_delta))\n",
    "#      len(top_comment))"
   ]
  },
  {
   "cell_type": "code",
   "execution_count": 146,
   "metadata": {},
   "outputs": [
    {
     "data": {
      "text/plain": [
       "((996, 10), (995, 10))"
      ]
     },
     "execution_count": 146,
     "metadata": {},
     "output_type": "execute_result"
    }
   ],
   "source": [
    "# america_df.shape, europe_df.shape"
   ]
  },
  {
   "cell_type": "code",
   "execution_count": 115,
   "metadata": {},
   "outputs": [
    {
     "data": {
      "text/plain": [
       "AskAnAmerican    51\n",
       "AskEurope        49\n",
       "Name: subreddit, dtype: int64"
      ]
     },
     "execution_count": 115,
     "metadata": {},
     "output_type": "execute_result"
    }
   ],
   "source": [
    "# america_df['subreddit'].value_counts()"
   ]
  },
  {
   "cell_type": "code",
   "execution_count": 116,
   "metadata": {},
   "outputs": [
    {
     "data": {
      "text/plain": [
       "Subreddit(display_name='AskEurope')"
      ]
     },
     "execution_count": 116,
     "metadata": {},
     "output_type": "execute_result"
    }
   ],
   "source": [
    "# df['subreddit'].iloc[6]"
   ]
  },
  {
   "cell_type": "code",
   "execution_count": 117,
   "metadata": {},
   "outputs": [
    {
     "data": {
      "text/plain": [
       "'Same thing as always. By abusing of populist propaganda, and by taking advantage from the fear of the people by turning it into racism, sexism and homophobia ( seriously, about 60% of their propaganda is fake and people somehow still believes it [like seriously wtf how tf can someone unironically think we can go back to the 1600 empire days in 2021??? ]). Aaaaand of course, because once again, the left isnt doing a shit to stop it. They are actually not doing anything at all. At this point I wouldnt be surprised if, in a few years, we are being ruled by fascists. Once more, I mean.'"
      ]
     },
     "execution_count": 117,
     "metadata": {},
     "output_type": "execute_result"
    }
   ],
   "source": [
    "# df['top_comment'].iloc[6]"
   ]
  },
  {
   "cell_type": "code",
   "execution_count": 12,
   "metadata": {},
   "outputs": [],
   "source": [
    "merged_df['text_length'] = [len(body.split(' ')) for body in merged_df['body']]"
   ]
  },
  {
   "cell_type": "code",
   "execution_count": 13,
   "metadata": {},
   "outputs": [],
   "source": [
    "merged_df = merged_df[merged_df['text_length'] != 1]"
   ]
  },
  {
   "cell_type": "code",
   "execution_count": 15,
   "metadata": {},
   "outputs": [
    {
     "data": {
      "text/plain": [
       "AskAnAmerican    740\n",
       "AskEurope        730\n",
       "Name: subreddit, dtype: int64"
      ]
     },
     "execution_count": 15,
     "metadata": {},
     "output_type": "execute_result"
    }
   ],
   "source": [
    "merged_df.subreddit.value_counts()"
   ]
  },
  {
   "cell_type": "code",
   "execution_count": 16,
   "metadata": {},
   "outputs": [],
   "source": [
    "merged_df['subreddit'].replace({'AskAnAmerican':0, 'AskEurope':1}, inplace = True)"
   ]
  },
  {
   "cell_type": "code",
   "execution_count": 17,
   "metadata": {},
   "outputs": [
    {
     "data": {
      "text/plain": [
       "0    740\n",
       "1    730\n",
       "Name: subreddit, dtype: int64"
      ]
     },
     "execution_count": 17,
     "metadata": {},
     "output_type": "execute_result"
    }
   ],
   "source": [
    "merged_df['subreddit'].value_counts()"
   ]
  },
  {
   "cell_type": "code",
   "execution_count": null,
   "metadata": {},
   "outputs": [],
   "source": []
  },
  {
   "cell_type": "code",
   "execution_count": 124,
   "metadata": {},
   "outputs": [],
   "source": [
    "# # drop duplicates\n",
    "# print('Shape w/duplicates:', df.shape)\n",
    "# df.drop_duplicates(subset = ['title', 'text_length', 'subreddit'], inplace = True)\n",
    "\n",
    "# print('Shape w/o duplicates:', df.shape)"
   ]
  },
  {
   "cell_type": "code",
   "execution_count": 125,
   "metadata": {},
   "outputs": [
    {
     "data": {
      "text/plain": [
       "0    39\n",
       "1    34\n",
       "Name: subreddit, dtype: int64"
      ]
     },
     "execution_count": 125,
     "metadata": {},
     "output_type": "execute_result"
    }
   ],
   "source": [
    "df['subreddit'].value_counts()"
   ]
  },
  {
   "cell_type": "code",
   "execution_count": 126,
   "metadata": {},
   "outputs": [
    {
     "data": {
      "text/plain": [
       "0"
      ]
     },
     "execution_count": 126,
     "metadata": {},
     "output_type": "execute_result"
    }
   ],
   "source": [
    "df['subreddit'].isna().sum()"
   ]
  },
  {
   "cell_type": "code",
   "execution_count": 19,
   "metadata": {},
   "outputs": [],
   "source": [
    "merged_df['time_posted'] = merged_df.time_posted.apply(lambda x: datetime.datetime.utcfromtimestamp(x))"
   ]
  },
  {
   "cell_type": "code",
   "execution_count": 20,
   "metadata": {},
   "outputs": [
    {
     "data": {
      "text/html": [
       "<div>\n",
       "<style scoped>\n",
       "    .dataframe tbody tr th:only-of-type {\n",
       "        vertical-align: middle;\n",
       "    }\n",
       "\n",
       "    .dataframe tbody tr th {\n",
       "        vertical-align: top;\n",
       "    }\n",
       "\n",
       "    .dataframe thead th {\n",
       "        text-align: right;\n",
       "    }\n",
       "</style>\n",
       "<table border=\"1\" class=\"dataframe\">\n",
       "  <thead>\n",
       "    <tr style=\"text-align: right;\">\n",
       "      <th></th>\n",
       "      <th>id</th>\n",
       "      <th>title</th>\n",
       "      <th>num_comments</th>\n",
       "      <th>body</th>\n",
       "      <th>num_upvotes</th>\n",
       "      <th>time_posted</th>\n",
       "      <th>time_now</th>\n",
       "      <th>time_delta</th>\n",
       "      <th>subreddit</th>\n",
       "      <th>top_comment</th>\n",
       "      <th>text_length</th>\n",
       "    </tr>\n",
       "  </thead>\n",
       "  <tbody>\n",
       "    <tr>\n",
       "      <th>0</th>\n",
       "      <td>jpu7tu</td>\n",
       "      <td>Congratulations to President Elect Joe Biden a...</td>\n",
       "      <td>5060</td>\n",
       "      <td>Both Fox and CNN have called it for Biden. \\n\\...</td>\n",
       "      <td>29251</td>\n",
       "      <td>2020-11-07 16:52:48</td>\n",
       "      <td>2021-05-14 15:52:46.490986</td>\n",
       "      <td>187 days 22:59:58.490991</td>\n",
       "      <td>0</td>\n",
       "      <td>Georgia senate runoffs will be an absolute blo...</td>\n",
       "      <td>72</td>\n",
       "    </tr>\n",
       "    <tr>\n",
       "      <th>1</th>\n",
       "      <td>j5qqm1</td>\n",
       "      <td>Do you support the construction of a high-spee...</td>\n",
       "      <td>2753</td>\n",
       "      <td>[Here](https://i.insider.com/511262026bb3f78e2...</td>\n",
       "      <td>20282</td>\n",
       "      <td>2020-10-05 20:04:03</td>\n",
       "      <td>2021-05-14 15:52:46.710351</td>\n",
       "      <td>220 days 19:48:43.710355</td>\n",
       "      <td>0</td>\n",
       "      <td>I support high speed rail just make it regiona...</td>\n",
       "      <td>25</td>\n",
       "    </tr>\n",
       "    <tr>\n",
       "      <th>2</th>\n",
       "      <td>l530zd</td>\n",
       "      <td>Plans to put Harriet Tubman on the $20 bill ar...</td>\n",
       "      <td>1604</td>\n",
       "      <td>[https://finance.yahoo.com/news/harriet-tubman...</td>\n",
       "      <td>6909</td>\n",
       "      <td>2021-01-26 01:34:08</td>\n",
       "      <td>2021-05-14 15:52:46.967642</td>\n",
       "      <td>108 days 14:18:38.967647</td>\n",
       "      <td>0</td>\n",
       "      <td>I plan to continue using $20 bills.</td>\n",
       "      <td>3</td>\n",
       "    </tr>\n",
       "    <tr>\n",
       "      <th>3</th>\n",
       "      <td>m3gemo</td>\n",
       "      <td>Anyone else hasn’t got sick since the pandemic...</td>\n",
       "      <td>1161</td>\n",
       "      <td>I haven’t been sick with anything at all since...</td>\n",
       "      <td>6255</td>\n",
       "      <td>2021-03-12 12:19:32</td>\n",
       "      <td>2021-05-14 15:52:47.235304</td>\n",
       "      <td>63 days 03:33:15.235309</td>\n",
       "      <td>0</td>\n",
       "      <td>Not sick once.   But \"THE POLLENING\" (an ignor...</td>\n",
       "      <td>114</td>\n",
       "    </tr>\n",
       "    <tr>\n",
       "      <th>4</th>\n",
       "      <td>hbp7pd</td>\n",
       "      <td>July 4th - Is it OK for a foreigner to display...</td>\n",
       "      <td>822</td>\n",
       "      <td>I lived in the US for the last years and love ...</td>\n",
       "      <td>3145</td>\n",
       "      <td>2020-06-18 23:11:40</td>\n",
       "      <td>2021-05-14 15:52:47.433490</td>\n",
       "      <td>329 days 16:41:07.433494</td>\n",
       "      <td>0</td>\n",
       "      <td>If you're happy to be here and want to celebra...</td>\n",
       "      <td>105</td>\n",
       "    </tr>\n",
       "  </tbody>\n",
       "</table>\n",
       "</div>"
      ],
      "text/plain": [
       "       id                                              title  num_comments  \\\n",
       "0  jpu7tu  Congratulations to President Elect Joe Biden a...          5060   \n",
       "1  j5qqm1  Do you support the construction of a high-spee...          2753   \n",
       "2  l530zd  Plans to put Harriet Tubman on the $20 bill ar...          1604   \n",
       "3  m3gemo  Anyone else hasn’t got sick since the pandemic...          1161   \n",
       "4  hbp7pd  July 4th - Is it OK for a foreigner to display...           822   \n",
       "\n",
       "                                                body  num_upvotes  \\\n",
       "0  Both Fox and CNN have called it for Biden. \\n\\...        29251   \n",
       "1  [Here](https://i.insider.com/511262026bb3f78e2...        20282   \n",
       "2  [https://finance.yahoo.com/news/harriet-tubman...         6909   \n",
       "3  I haven’t been sick with anything at all since...         6255   \n",
       "4  I lived in the US for the last years and love ...         3145   \n",
       "\n",
       "          time_posted                   time_now               time_delta  \\\n",
       "0 2020-11-07 16:52:48 2021-05-14 15:52:46.490986 187 days 22:59:58.490991   \n",
       "1 2020-10-05 20:04:03 2021-05-14 15:52:46.710351 220 days 19:48:43.710355   \n",
       "2 2021-01-26 01:34:08 2021-05-14 15:52:46.967642 108 days 14:18:38.967647   \n",
       "3 2021-03-12 12:19:32 2021-05-14 15:52:47.235304  63 days 03:33:15.235309   \n",
       "4 2020-06-18 23:11:40 2021-05-14 15:52:47.433490 329 days 16:41:07.433494   \n",
       "\n",
       "   subreddit                                        top_comment  text_length  \n",
       "0          0  Georgia senate runoffs will be an absolute blo...           72  \n",
       "1          0  I support high speed rail just make it regiona...           25  \n",
       "2          0                I plan to continue using $20 bills.            3  \n",
       "3          0  Not sick once.   But \"THE POLLENING\" (an ignor...          114  \n",
       "4          0  If you're happy to be here and want to celebra...          105  "
      ]
     },
     "execution_count": 20,
     "metadata": {},
     "output_type": "execute_result"
    }
   ],
   "source": [
    "merged_df.head()"
   ]
  },
  {
   "cell_type": "code",
   "execution_count": 129,
   "metadata": {},
   "outputs": [
    {
     "name": "stdout",
     "output_type": "stream",
     "text": [
      "1     nbq272\n",
      "2     nbppey\n",
      "4     nbphjo\n",
      "5     nbpgy6\n",
      "8     nbjya4\n",
      "       ...  \n",
      "94    n9xifj\n",
      "95    n9xw8i\n",
      "96    n9vkj6\n",
      "97    n9w0tz\n",
      "98    n9wl1q\n",
      "Name: id, Length: 73, dtype: object\n",
      "1     Is the nine nations an accurate representation...\n",
      "2             Is Texas a \"Southern\" or \"Western\" state?\n",
      "4     What's the deal with the controversy about zon...\n",
      "5     Is there often misunderstanding in spoken lang...\n",
      "8     Does anybody use a reliable service that sends...\n",
      "                            ...                        \n",
      "94    Is getting charged per condiment packet common...\n",
      "95              California’s how do you feel about Cox?\n",
      "96    Selling your property in the North to buy a ni...\n",
      "97    How much difference can it make the state you ...\n",
      "98              Is it common to tell who you voted for?\n",
      "Name: title, Length: 73, dtype: object\n",
      "1      17\n",
      "2      24\n",
      "4       7\n",
      "5      29\n",
      "8       2\n",
      "     ... \n",
      "94     35\n",
      "95     56\n",
      "96     86\n",
      "97    563\n",
      "98     95\n",
      "Name: num_comments, Length: 73, dtype: int64\n",
      "1     It was written 40 years ago in the book nine n...\n",
      "2     I got into an argument with a friend of mine a...\n",
      "4     Scrolling through Reddit I saw a video of a du...\n",
      "5     It seems you really have to emphasize that \"t\"...\n",
      "8     I'd like to order something online from USA bu...\n",
      "                            ...                        \n",
      "94    I saw someone mention that in Denmark they cha...\n",
      "95    I’m referring to John Cox who’s running for go...\n",
      "96    Hi there, I remember a few years ago my Americ...\n",
      "97    Hey all. \\nI was wondering how much power do s...\n",
      "98    I'm propably just weird but not a single perso...\n",
      "Name: body, Length: 73, dtype: object\n",
      "1       4\n",
      "2       2\n",
      "4       3\n",
      "5       0\n",
      "8       2\n",
      "     ... \n",
      "94     15\n",
      "95      8\n",
      "96     34\n",
      "97    637\n",
      "98     40\n",
      "Name: num_upvotes, Length: 73, dtype: int64\n",
      "1    2021-05-13 20:07:19\n",
      "2    2021-05-13 19:52:33\n",
      "4    2021-05-13 19:43:45\n",
      "5    2021-05-13 19:43:01\n",
      "8    2021-05-13 15:58:00\n",
      "             ...        \n",
      "94   2021-05-11 13:53:27\n",
      "95   2021-05-11 14:11:18\n",
      "96   2021-05-11 12:11:08\n",
      "97   2021-05-11 12:36:44\n",
      "98   2021-05-11 13:06:19\n",
      "Name: time_posted, Length: 73, dtype: datetime64[ns]\n",
      "1    2021-05-13 21:23:11.160858\n",
      "2    2021-05-13 21:23:11.301651\n",
      "4    2021-05-13 21:23:11.591783\n",
      "5    2021-05-13 21:23:11.786338\n",
      "8    2021-05-13 21:23:12.178437\n",
      "                ...            \n",
      "94   2021-05-13 21:23:33.894681\n",
      "95   2021-05-13 21:23:34.938474\n",
      "96   2021-05-13 21:23:35.358267\n",
      "97   2021-05-13 21:23:35.721200\n",
      "98   2021-05-13 21:23:35.865807\n",
      "Name: time_now, Length: 73, dtype: datetime64[ns]\n",
      "1    0 days 01:15:52.160862\n",
      "2    0 days 01:30:38.301655\n",
      "4    0 days 01:39:26.591791\n",
      "5    0 days 01:40:10.786343\n",
      "8    0 days 05:25:12.178443\n",
      "              ...          \n",
      "94   2 days 07:30:06.894685\n",
      "95   2 days 07:12:16.938478\n",
      "96   2 days 09:12:27.358271\n",
      "97   2 days 08:46:51.721204\n",
      "98   2 days 08:17:16.865813\n",
      "Name: time_delta, Length: 73, dtype: timedelta64[ns]\n",
      "1     0\n",
      "2     0\n",
      "4     0\n",
      "5     0\n",
      "8     1\n",
      "     ..\n",
      "94    1\n",
      "95    0\n",
      "96    0\n",
      "97    0\n",
      "98    1\n",
      "Name: subreddit, Length: 73, dtype: int64\n",
      "1     I only recognize the authority of the Seven Na...\n",
      "2     It's a big state, parts of it are certainly so...\n",
      "4     Let me say this:\\n\\nIf there weren’t zoning la...\n",
      "5     The only \"t\" we refused to acknowledge was thr...\n",
      "8     I've never personally used their services befo...\n",
      "                            ...                        \n",
      "94    It's common for fast food restaurant chains to...\n",
      "95                       Lots of Cox suckers out there.\n",
      "96    This isn't specifically a North/South thing, i...\n",
      "97    Most of the laws that actually affect your day...\n",
      "98    In my experience, we don't ask and rarely tell...\n",
      "Name: top_comment, Length: 73, dtype: object\n",
      "1      14\n",
      "2      18\n",
      "4      49\n",
      "5      31\n",
      "8      43\n",
      "     ... \n",
      "94     43\n",
      "95     13\n",
      "96    107\n",
      "97     21\n",
      "98     36\n",
      "Name: text_length, Length: 73, dtype: int64\n"
     ]
    }
   ],
   "source": [
    "for column in df.columns:\n",
    "    print(df[column])"
   ]
  },
  {
   "cell_type": "code",
   "execution_count": 21,
   "metadata": {},
   "outputs": [],
   "source": [
    "for column in ['title', 'body']:\n",
    "\n",
    "    merged_df[column] = [re.sub('[\\(\\[].*?[\\)\\]]', '', t.replace('\\n', '')) for t in merged_df[column]]\n",
    "    merged_df[column] = [t.replace('/\\\\', ' ').replace(':-)', ' ').replace('tdb> ', ' ') \n",
    "                  for t in merged_df[column]]\n",
    "    merged_df[column] = [t.replace('=', ' ').replace('--', ' ').replace('_', ' ')\\\n",
    "                  .replace('}', ' ').replace('*', ' ').replace('^', ' ')\\\n",
    "                  .replace('~', ' ')\n",
    "                  for t in merged_df[column]]\n",
    "    merged_df[column] = [t.replace('- < > -', ' ').replace('|', ' ').replace('*-', ' ') \n",
    "                  for t in merged_df[column]]\n",
    "\n",
    "    merged_df[column] = [t.replace('...', ' ').replace('\\t', ' ').lower().strip() \n",
    "                  for t in merged_df[column]]"
   ]
  },
  {
   "cell_type": "code",
   "execution_count": 22,
   "metadata": {},
   "outputs": [
    {
     "data": {
      "text/plain": [
       "(1428, 11)"
      ]
     },
     "execution_count": 22,
     "metadata": {},
     "output_type": "execute_result"
    }
   ],
   "source": [
    "previous.shape"
   ]
  },
  {
   "cell_type": "markdown",
   "metadata": {},
   "source": [
    "# Combining DataFrames with Previous"
   ]
  },
  {
   "cell_type": "code",
   "execution_count": 23,
   "metadata": {},
   "outputs": [],
   "source": [
    "combined = pd.concat([previous, merged_df])"
   ]
  },
  {
   "cell_type": "code",
   "execution_count": 24,
   "metadata": {},
   "outputs": [
    {
     "data": {
      "text/plain": [
       "((2898, 11), (1470, 11), (1428, 11))"
      ]
     },
     "execution_count": 24,
     "metadata": {},
     "output_type": "execute_result"
    }
   ],
   "source": [
    "combined.shape, merged_df.shape, previous.shape"
   ]
  },
  {
   "cell_type": "code",
   "execution_count": 25,
   "metadata": {},
   "outputs": [],
   "source": [
    "combined.drop_duplicates(subset = ['title'],inplace = True)"
   ]
  },
  {
   "cell_type": "code",
   "execution_count": 26,
   "metadata": {},
   "outputs": [
    {
     "data": {
      "text/plain": [
       "((2683, 11), (1470, 11), (1428, 11))"
      ]
     },
     "execution_count": 26,
     "metadata": {},
     "output_type": "execute_result"
    }
   ],
   "source": [
    "combined.shape, merged_df.shape, previous.shape"
   ]
  },
  {
   "cell_type": "markdown",
   "metadata": {},
   "source": [
    "# Saving to DF "
   ]
  },
  {
   "cell_type": "code",
   "execution_count": 27,
   "metadata": {},
   "outputs": [],
   "source": [
    "combined.to_csv('./previous.csv', index = False)"
   ]
  }
 ],
 "metadata": {
  "kernelspec": {
   "display_name": "Python 3",
   "language": "python",
   "name": "python3"
  },
  "language_info": {
   "codemirror_mode": {
    "name": "ipython",
    "version": 3
   },
   "file_extension": ".py",
   "mimetype": "text/x-python",
   "name": "python",
   "nbconvert_exporter": "python",
   "pygments_lexer": "ipython3",
   "version": "3.8.5"
  }
 },
 "nbformat": 4,
 "nbformat_minor": 4
}
