{
 "cells": [
  {
   "cell_type": "markdown",
   "metadata": {},
   "source": [
    "# Using a WebScraper in Reddit for language lessons"
   ]
  },
  {
   "cell_type": "markdown",
   "metadata": {},
   "source": [
    "## Introduction\n",
    "\n",
    "When it comes to inspiring students to learn another language, teachers try to be creative but it can be hard to research and then build lessons using limited resources. \n",
    "\n",
    "Not only by using relevant topics to what students want to learn but also but staying on top of word use is a difficult task for teachers who are busy designing homework, lessons and other aspects of their job. With online learning, it has become increasingly hard to maintain motivation and find inspiring topics while getting students engaged. \n",
    "\n",
    "How can we get students to want to learn a language and how can we provide lesson materials to teachers to support them? \n",
    "\n",
    "### Solution \n",
    "\n",
    "Reddit is a popular website on a global scale, offering a majority of users, many of whom are under 30 years old an oppurtunity ask about different cultures. The vast sharing network allows conversation and language to flourish naturally. It is a great way to keep up with and find relevent topics and language use to use in lessons. \n",
    "\n",
    "Teachers don't have a lot on their plate, they have time to browse submissions to find trends in language and topics though right? \n",
    "\n",
    "Of course not! \n",
    "\n",
    "That is why we are building a Reddit Web Scraper that will browse reddit's `Ask an American` and `Ask Europe` subreddit submissions to find trends in langauge use and topics. We can quickly scan over 2,000 submissions to find patterns in conversations and build a report of suggestions for teachers lessons. \n",
    "\n",
    "### Goals\n",
    "The report aims to includes: \n",
    "- recomendations on topics\n",
    "- top used words for lessons \n",
    "- unique words to a subreddit\n",
    "- exploration of communication styles in target languages\n",
    "\n",
    "Teachers may use the report to build lessons, prepare for study abroad trips, or help students understand communication differences across cultures. \n",
    "\n",
    "\n",
    "### Subreddits Selected \n",
    "AskEurope was selected due to the comparable popularity to AskAnAmerican, as well as its inclusion of countries whose langauges are among the most popular taught in American high school. AskAnAmerican was included for ESL or TEFL teachers. "
   ]
  },
  {
   "cell_type": "code",
   "execution_count": 999,
   "metadata": {},
   "outputs": [
    {
     "name": "stdout",
     "output_type": "stream",
     "text": [
      "Requirement already satisfied: contextualSpellCheck in /opt/anaconda3/lib/python3.8/site-packages (0.4.1)\n",
      "Requirement already satisfied: editdistance==0.5.3 in /opt/anaconda3/lib/python3.8/site-packages (from contextualSpellCheck) (0.5.3)\n",
      "Requirement already satisfied: spacy>=3.0.0 in /opt/anaconda3/lib/python3.8/site-packages (from contextualSpellCheck) (3.0.6)\n",
      "Requirement already satisfied: torch>=1.4 in /opt/anaconda3/lib/python3.8/site-packages (from contextualSpellCheck) (1.8.1)\n",
      "Requirement already satisfied: transformers>=4.0.0 in /opt/anaconda3/lib/python3.8/site-packages (from contextualSpellCheck) (4.6.0)\n",
      "Requirement already satisfied: spacy-legacy<3.1.0,>=3.0.4 in /opt/anaconda3/lib/python3.8/site-packages (from spacy>=3.0.0->contextualSpellCheck) (3.0.5)\n",
      "Requirement already satisfied: typer<0.4.0,>=0.3.0 in /opt/anaconda3/lib/python3.8/site-packages (from spacy>=3.0.0->contextualSpellCheck) (0.3.2)\n",
      "Requirement already satisfied: setuptools in /opt/anaconda3/lib/python3.8/site-packages (from spacy>=3.0.0->contextualSpellCheck) (50.3.1.post20201107)\n",
      "Requirement already satisfied: requests<3.0.0,>=2.13.0 in /opt/anaconda3/lib/python3.8/site-packages (from spacy>=3.0.0->contextualSpellCheck) (2.24.0)\n",
      "Requirement already satisfied: wasabi<1.1.0,>=0.8.1 in /opt/anaconda3/lib/python3.8/site-packages (from spacy>=3.0.0->contextualSpellCheck) (0.8.2)\n",
      "Requirement already satisfied: srsly<3.0.0,>=2.4.1 in /opt/anaconda3/lib/python3.8/site-packages (from spacy>=3.0.0->contextualSpellCheck) (2.4.1)\n",
      "Requirement already satisfied: pathy>=0.3.5 in /opt/anaconda3/lib/python3.8/site-packages (from spacy>=3.0.0->contextualSpellCheck) (0.5.2)\n",
      "Requirement already satisfied: preshed<3.1.0,>=3.0.2 in /opt/anaconda3/lib/python3.8/site-packages (from spacy>=3.0.0->contextualSpellCheck) (3.0.5)\n",
      "Requirement already satisfied: cymem<2.1.0,>=2.0.2 in /opt/anaconda3/lib/python3.8/site-packages (from spacy>=3.0.0->contextualSpellCheck) (2.0.5)\n",
      "Requirement already satisfied: packaging>=20.0 in /opt/anaconda3/lib/python3.8/site-packages (from spacy>=3.0.0->contextualSpellCheck) (20.4)\n",
      "Requirement already satisfied: catalogue<2.1.0,>=2.0.3 in /opt/anaconda3/lib/python3.8/site-packages (from spacy>=3.0.0->contextualSpellCheck) (2.0.4)\n",
      "Requirement already satisfied: jinja2 in /opt/anaconda3/lib/python3.8/site-packages (from spacy>=3.0.0->contextualSpellCheck) (2.11.2)\n",
      "Requirement already satisfied: blis<0.8.0,>=0.4.0 in /opt/anaconda3/lib/python3.8/site-packages (from spacy>=3.0.0->contextualSpellCheck) (0.7.4)\n",
      "Requirement already satisfied: numpy>=1.15.0 in /opt/anaconda3/lib/python3.8/site-packages (from spacy>=3.0.0->contextualSpellCheck) (1.19.2)\n",
      "Requirement already satisfied: tqdm<5.0.0,>=4.38.0 in /opt/anaconda3/lib/python3.8/site-packages (from spacy>=3.0.0->contextualSpellCheck) (4.50.2)\n",
      "Requirement already satisfied: pydantic<1.8.0,>=1.7.1 in /opt/anaconda3/lib/python3.8/site-packages (from spacy>=3.0.0->contextualSpellCheck) (1.7.3)\n",
      "Requirement already satisfied: murmurhash<1.1.0,>=0.28.0 in /opt/anaconda3/lib/python3.8/site-packages (from spacy>=3.0.0->contextualSpellCheck) (1.0.5)\n",
      "Requirement already satisfied: thinc<8.1.0,>=8.0.3 in /opt/anaconda3/lib/python3.8/site-packages (from spacy>=3.0.0->contextualSpellCheck) (8.0.3)\n",
      "Requirement already satisfied: typing-extensions in /opt/anaconda3/lib/python3.8/site-packages (from torch>=1.4->contextualSpellCheck) (3.7.4.3)\n",
      "Requirement already satisfied: filelock in /opt/anaconda3/lib/python3.8/site-packages (from transformers>=4.0.0->contextualSpellCheck) (3.0.12)\n",
      "Requirement already satisfied: huggingface-hub==0.0.8 in /opt/anaconda3/lib/python3.8/site-packages (from transformers>=4.0.0->contextualSpellCheck) (0.0.8)\n",
      "Requirement already satisfied: tokenizers<0.11,>=0.10.1 in /opt/anaconda3/lib/python3.8/site-packages (from transformers>=4.0.0->contextualSpellCheck) (0.10.2)\n",
      "Requirement already satisfied: sacremoses in /opt/anaconda3/lib/python3.8/site-packages (from transformers>=4.0.0->contextualSpellCheck) (0.0.45)\n",
      "Requirement already satisfied: regex!=2019.12.17 in /opt/anaconda3/lib/python3.8/site-packages (from transformers>=4.0.0->contextualSpellCheck) (2020.10.15)\n",
      "Requirement already satisfied: click<7.2.0,>=7.1.1 in /opt/anaconda3/lib/python3.8/site-packages (from typer<0.4.0,>=0.3.0->spacy>=3.0.0->contextualSpellCheck) (7.1.2)\n",
      "Requirement already satisfied: certifi>=2017.4.17 in /opt/anaconda3/lib/python3.8/site-packages (from requests<3.0.0,>=2.13.0->spacy>=3.0.0->contextualSpellCheck) (2020.6.20)\n",
      "Requirement already satisfied: idna<3,>=2.5 in /opt/anaconda3/lib/python3.8/site-packages (from requests<3.0.0,>=2.13.0->spacy>=3.0.0->contextualSpellCheck) (2.10)\n",
      "Requirement already satisfied: urllib3!=1.25.0,!=1.25.1,<1.26,>=1.21.1 in /opt/anaconda3/lib/python3.8/site-packages (from requests<3.0.0,>=2.13.0->spacy>=3.0.0->contextualSpellCheck) (1.25.11)\n",
      "Requirement already satisfied: chardet<4,>=3.0.2 in /opt/anaconda3/lib/python3.8/site-packages (from requests<3.0.0,>=2.13.0->spacy>=3.0.0->contextualSpellCheck) (3.0.4)\n",
      "Requirement already satisfied: smart-open<4.0.0,>=2.2.0 in /opt/anaconda3/lib/python3.8/site-packages (from pathy>=0.3.5->spacy>=3.0.0->contextualSpellCheck) (3.0.0)\n",
      "Requirement already satisfied: pyparsing>=2.0.2 in /opt/anaconda3/lib/python3.8/site-packages (from packaging>=20.0->spacy>=3.0.0->contextualSpellCheck) (2.4.7)\n",
      "Requirement already satisfied: six in /opt/anaconda3/lib/python3.8/site-packages (from packaging>=20.0->spacy>=3.0.0->contextualSpellCheck) (1.15.0)\n",
      "Requirement already satisfied: MarkupSafe>=0.23 in /opt/anaconda3/lib/python3.8/site-packages (from jinja2->spacy>=3.0.0->contextualSpellCheck) (1.1.1)\n",
      "Requirement already satisfied: joblib in /opt/anaconda3/lib/python3.8/site-packages (from sacremoses->transformers>=4.0.0->contextualSpellCheck) (0.17.0)\n",
      "Note: you may need to restart the kernel to use updated packages.\n"
     ]
    }
   ],
   "source": [
    "pip install contextualSpellCheck"
   ]
  },
  {
   "cell_type": "code",
   "execution_count": 1000,
   "metadata": {},
   "outputs": [
    {
     "name": "stdout",
     "output_type": "stream",
     "text": [
      "Requirement already satisfied: contractions in /opt/anaconda3/lib/python3.8/site-packages (0.0.48)\r\n",
      "Requirement already satisfied: textsearch>=0.0.21 in /opt/anaconda3/lib/python3.8/site-packages (from contractions) (0.0.21)\r\n",
      "Requirement already satisfied: anyascii in /opt/anaconda3/lib/python3.8/site-packages (from textsearch>=0.0.21->contractions) (0.2.0)\r\n",
      "Requirement already satisfied: pyahocorasick in /opt/anaconda3/lib/python3.8/site-packages (from textsearch>=0.0.21->contractions) (1.4.2)\r\n"
     ]
    }
   ],
   "source": [
    "!pip install contractions"
   ]
  },
  {
   "cell_type": "code",
   "execution_count": 1001,
   "metadata": {},
   "outputs": [
    {
     "name": "stdout",
     "output_type": "stream",
     "text": [
      "Requirement already satisfied: spacy in /opt/anaconda3/lib/python3.8/site-packages (3.0.6)\n",
      "Requirement already satisfied: tqdm<5.0.0,>=4.38.0 in /opt/anaconda3/lib/python3.8/site-packages (from spacy) (4.50.2)\n",
      "Requirement already satisfied: blis<0.8.0,>=0.4.0 in /opt/anaconda3/lib/python3.8/site-packages (from spacy) (0.7.4)\n",
      "Requirement already satisfied: thinc<8.1.0,>=8.0.3 in /opt/anaconda3/lib/python3.8/site-packages (from spacy) (8.0.3)\n",
      "Requirement already satisfied: murmurhash<1.1.0,>=0.28.0 in /opt/anaconda3/lib/python3.8/site-packages (from spacy) (1.0.5)\n",
      "Requirement already satisfied: wasabi<1.1.0,>=0.8.1 in /opt/anaconda3/lib/python3.8/site-packages (from spacy) (0.8.2)\n",
      "Requirement already satisfied: srsly<3.0.0,>=2.4.1 in /opt/anaconda3/lib/python3.8/site-packages (from spacy) (2.4.1)\n",
      "Requirement already satisfied: catalogue<2.1.0,>=2.0.3 in /opt/anaconda3/lib/python3.8/site-packages (from spacy) (2.0.4)\n",
      "Requirement already satisfied: requests<3.0.0,>=2.13.0 in /opt/anaconda3/lib/python3.8/site-packages (from spacy) (2.24.0)\n",
      "Requirement already satisfied: numpy>=1.15.0 in /opt/anaconda3/lib/python3.8/site-packages (from spacy) (1.19.2)\n",
      "Requirement already satisfied: packaging>=20.0 in /opt/anaconda3/lib/python3.8/site-packages (from spacy) (20.4)\n",
      "Requirement already satisfied: typer<0.4.0,>=0.3.0 in /opt/anaconda3/lib/python3.8/site-packages (from spacy) (0.3.2)\n",
      "Requirement already satisfied: pydantic<1.8.0,>=1.7.1 in /opt/anaconda3/lib/python3.8/site-packages (from spacy) (1.7.3)\n",
      "Requirement already satisfied: jinja2 in /opt/anaconda3/lib/python3.8/site-packages (from spacy) (2.11.2)\n",
      "Requirement already satisfied: spacy-legacy<3.1.0,>=3.0.4 in /opt/anaconda3/lib/python3.8/site-packages (from spacy) (3.0.5)\n",
      "Requirement already satisfied: setuptools in /opt/anaconda3/lib/python3.8/site-packages (from spacy) (50.3.1.post20201107)\n",
      "Requirement already satisfied: preshed<3.1.0,>=3.0.2 in /opt/anaconda3/lib/python3.8/site-packages (from spacy) (3.0.5)\n",
      "Requirement already satisfied: cymem<2.1.0,>=2.0.2 in /opt/anaconda3/lib/python3.8/site-packages (from spacy) (2.0.5)\n",
      "Requirement already satisfied: pathy>=0.3.5 in /opt/anaconda3/lib/python3.8/site-packages (from spacy) (0.5.2)\n",
      "Requirement already satisfied: urllib3!=1.25.0,!=1.25.1,<1.26,>=1.21.1 in /opt/anaconda3/lib/python3.8/site-packages (from requests<3.0.0,>=2.13.0->spacy) (1.25.11)\n",
      "Requirement already satisfied: certifi>=2017.4.17 in /opt/anaconda3/lib/python3.8/site-packages (from requests<3.0.0,>=2.13.0->spacy) (2020.6.20)\n",
      "Requirement already satisfied: chardet<4,>=3.0.2 in /opt/anaconda3/lib/python3.8/site-packages (from requests<3.0.0,>=2.13.0->spacy) (3.0.4)\n",
      "Requirement already satisfied: idna<3,>=2.5 in /opt/anaconda3/lib/python3.8/site-packages (from requests<3.0.0,>=2.13.0->spacy) (2.10)\n",
      "Requirement already satisfied: six in /opt/anaconda3/lib/python3.8/site-packages (from packaging>=20.0->spacy) (1.15.0)\n",
      "Requirement already satisfied: pyparsing>=2.0.2 in /opt/anaconda3/lib/python3.8/site-packages (from packaging>=20.0->spacy) (2.4.7)\n",
      "Requirement already satisfied: click<7.2.0,>=7.1.1 in /opt/anaconda3/lib/python3.8/site-packages (from typer<0.4.0,>=0.3.0->spacy) (7.1.2)\n",
      "Requirement already satisfied: MarkupSafe>=0.23 in /opt/anaconda3/lib/python3.8/site-packages (from jinja2->spacy) (1.1.1)\n",
      "Requirement already satisfied: smart-open<4.0.0,>=2.2.0 in /opt/anaconda3/lib/python3.8/site-packages (from pathy>=0.3.5->spacy) (3.0.0)\n"
     ]
    }
   ],
   "source": [
    "!pip install spacy"
   ]
  },
  {
   "cell_type": "code",
   "execution_count": 1002,
   "metadata": {},
   "outputs": [
    {
     "name": "stdout",
     "output_type": "stream",
     "text": [
      "Requirement already satisfied: spacytextblob in /opt/anaconda3/lib/python3.8/site-packages (3.0.1)\n",
      "Requirement already satisfied: textblob<0.16.0,>=0.15.3 in /opt/anaconda3/lib/python3.8/site-packages (from spacytextblob) (0.15.3)\n",
      "Requirement already satisfied: spacy<4.0,>=3.0 in /opt/anaconda3/lib/python3.8/site-packages (from spacytextblob) (3.0.6)\n",
      "Requirement already satisfied: nltk>=3.1 in /opt/anaconda3/lib/python3.8/site-packages (from textblob<0.16.0,>=0.15.3->spacytextblob) (3.5)\n",
      "Requirement already satisfied: wasabi<1.1.0,>=0.8.1 in /opt/anaconda3/lib/python3.8/site-packages (from spacy<4.0,>=3.0->spacytextblob) (0.8.2)\n",
      "Requirement already satisfied: murmurhash<1.1.0,>=0.28.0 in /opt/anaconda3/lib/python3.8/site-packages (from spacy<4.0,>=3.0->spacytextblob) (1.0.5)\n",
      "Requirement already satisfied: preshed<3.1.0,>=3.0.2 in /opt/anaconda3/lib/python3.8/site-packages (from spacy<4.0,>=3.0->spacytextblob) (3.0.5)\n",
      "Requirement already satisfied: catalogue<2.1.0,>=2.0.3 in /opt/anaconda3/lib/python3.8/site-packages (from spacy<4.0,>=3.0->spacytextblob) (2.0.4)\n",
      "Requirement already satisfied: pathy>=0.3.5 in /opt/anaconda3/lib/python3.8/site-packages (from spacy<4.0,>=3.0->spacytextblob) (0.5.2)\n",
      "Requirement already satisfied: setuptools in /opt/anaconda3/lib/python3.8/site-packages (from spacy<4.0,>=3.0->spacytextblob) (50.3.1.post20201107)\n",
      "Requirement already satisfied: numpy>=1.15.0 in /opt/anaconda3/lib/python3.8/site-packages (from spacy<4.0,>=3.0->spacytextblob) (1.19.2)\n",
      "Requirement already satisfied: requests<3.0.0,>=2.13.0 in /opt/anaconda3/lib/python3.8/site-packages (from spacy<4.0,>=3.0->spacytextblob) (2.24.0)\n",
      "Requirement already satisfied: typer<0.4.0,>=0.3.0 in /opt/anaconda3/lib/python3.8/site-packages (from spacy<4.0,>=3.0->spacytextblob) (0.3.2)\n",
      "Requirement already satisfied: thinc<8.1.0,>=8.0.3 in /opt/anaconda3/lib/python3.8/site-packages (from spacy<4.0,>=3.0->spacytextblob) (8.0.3)\n",
      "Requirement already satisfied: pydantic<1.8.0,>=1.7.1 in /opt/anaconda3/lib/python3.8/site-packages (from spacy<4.0,>=3.0->spacytextblob) (1.7.3)\n",
      "Requirement already satisfied: jinja2 in /opt/anaconda3/lib/python3.8/site-packages (from spacy<4.0,>=3.0->spacytextblob) (2.11.2)\n",
      "Requirement already satisfied: packaging>=20.0 in /opt/anaconda3/lib/python3.8/site-packages (from spacy<4.0,>=3.0->spacytextblob) (20.4)\n",
      "Requirement already satisfied: spacy-legacy<3.1.0,>=3.0.4 in /opt/anaconda3/lib/python3.8/site-packages (from spacy<4.0,>=3.0->spacytextblob) (3.0.5)\n",
      "Requirement already satisfied: srsly<3.0.0,>=2.4.1 in /opt/anaconda3/lib/python3.8/site-packages (from spacy<4.0,>=3.0->spacytextblob) (2.4.1)\n",
      "Requirement already satisfied: blis<0.8.0,>=0.4.0 in /opt/anaconda3/lib/python3.8/site-packages (from spacy<4.0,>=3.0->spacytextblob) (0.7.4)\n",
      "Requirement already satisfied: cymem<2.1.0,>=2.0.2 in /opt/anaconda3/lib/python3.8/site-packages (from spacy<4.0,>=3.0->spacytextblob) (2.0.5)\n",
      "Requirement already satisfied: tqdm<5.0.0,>=4.38.0 in /opt/anaconda3/lib/python3.8/site-packages (from spacy<4.0,>=3.0->spacytextblob) (4.50.2)\n",
      "Requirement already satisfied: regex in /opt/anaconda3/lib/python3.8/site-packages (from nltk>=3.1->textblob<0.16.0,>=0.15.3->spacytextblob) (2020.10.15)\n",
      "Requirement already satisfied: click in /opt/anaconda3/lib/python3.8/site-packages (from nltk>=3.1->textblob<0.16.0,>=0.15.3->spacytextblob) (7.1.2)\n",
      "Requirement already satisfied: joblib in /opt/anaconda3/lib/python3.8/site-packages (from nltk>=3.1->textblob<0.16.0,>=0.15.3->spacytextblob) (0.17.0)\n",
      "Requirement already satisfied: smart-open<4.0.0,>=2.2.0 in /opt/anaconda3/lib/python3.8/site-packages (from pathy>=0.3.5->spacy<4.0,>=3.0->spacytextblob) (3.0.0)\n",
      "Requirement already satisfied: urllib3!=1.25.0,!=1.25.1,<1.26,>=1.21.1 in /opt/anaconda3/lib/python3.8/site-packages (from requests<3.0.0,>=2.13.0->spacy<4.0,>=3.0->spacytextblob) (1.25.11)\n",
      "Requirement already satisfied: chardet<4,>=3.0.2 in /opt/anaconda3/lib/python3.8/site-packages (from requests<3.0.0,>=2.13.0->spacy<4.0,>=3.0->spacytextblob) (3.0.4)\n",
      "Requirement already satisfied: certifi>=2017.4.17 in /opt/anaconda3/lib/python3.8/site-packages (from requests<3.0.0,>=2.13.0->spacy<4.0,>=3.0->spacytextblob) (2020.6.20)\n",
      "Requirement already satisfied: idna<3,>=2.5 in /opt/anaconda3/lib/python3.8/site-packages (from requests<3.0.0,>=2.13.0->spacy<4.0,>=3.0->spacytextblob) (2.10)\n",
      "Requirement already satisfied: MarkupSafe>=0.23 in /opt/anaconda3/lib/python3.8/site-packages (from jinja2->spacy<4.0,>=3.0->spacytextblob) (1.1.1)\n",
      "Requirement already satisfied: pyparsing>=2.0.2 in /opt/anaconda3/lib/python3.8/site-packages (from packaging>=20.0->spacy<4.0,>=3.0->spacytextblob) (2.4.7)\n",
      "Requirement already satisfied: six in /opt/anaconda3/lib/python3.8/site-packages (from packaging>=20.0->spacy<4.0,>=3.0->spacytextblob) (1.15.0)\n"
     ]
    }
   ],
   "source": [
    "!pip install spacytextblob"
   ]
  },
  {
   "cell_type": "code",
   "execution_count": 1003,
   "metadata": {},
   "outputs": [
    {
     "name": "stdout",
     "output_type": "stream",
     "text": [
      "Requirement already satisfied: pycountry in /opt/anaconda3/lib/python3.8/site-packages (20.7.3)\n",
      "Note: you may need to restart the kernel to use updated packages.\n"
     ]
    }
   ],
   "source": [
    "pip install pycountry"
   ]
  },
  {
   "cell_type": "code",
   "execution_count": 1004,
   "metadata": {},
   "outputs": [],
   "source": [
    "import pandas as pd\n",
    "import numpy as np\n",
    "import seaborn as sns\n",
    "import matplotlib.pyplot as plt\n",
    "\n",
    "import sklearn.metrics as metrics\n",
    "from sklearn.linear_model import LogisticRegression\n",
    "\n",
    "from sklearn.feature_extraction.text import TfidfVectorizer\n",
    "from sklearn.feature_extraction.text import CountVectorizer\n",
    "from sklearn.feature_extraction import text\n",
    "from sklearn.pipeline import Pipeline\n",
    "from sklearn.model_selection import train_test_split, GridSearchCV\n",
    "import spacy\n",
    "from spacytextblob.spacytextblob import SpacyTextBlob\n",
    "\n",
    "import contractions\n",
    "import re\n",
    "from nltk.stem import WordNetLemmatizer\n",
    "import nltk\n",
    "from collections import Counter  \n",
    "\n",
    "from sklearn.decomposition import LatentDirichletAllocation\n",
    "from sklearn.datasets import make_multilabel_classification\n",
    "\n",
    "import datetime as dt\n",
    "import contextualSpellCheck\n",
    "\n",
    "from sklearn.compose import ColumnTransformer\n",
    "from sklearn.preprocessing import FunctionTransformer\n",
    "from sklearn.pipeline import FeatureUnion\n",
    "import datetime as dt\n",
    "\n",
    "import pycountry\n",
    "\n",
    "import warnings\n",
    "warnings.filterwarnings('ignore')\n",
    "\n",
    "from sklearn.base import TransformerMixin\n",
    "\n",
    "from sklearn.metrics import confusion_matrix"
   ]
  },
  {
   "cell_type": "code",
   "execution_count": 1005,
   "metadata": {},
   "outputs": [
    {
     "data": {
      "text/plain": [
       "249"
      ]
     },
     "execution_count": 1005,
     "metadata": {},
     "output_type": "execute_result"
    }
   ],
   "source": [
    "len(list(pycountry.countries))"
   ]
  },
  {
   "cell_type": "code",
   "execution_count": 1006,
   "metadata": {},
   "outputs": [],
   "source": [
    "# making a list to add to stop words\n",
    "\n",
    "countries = []\n",
    "for country in pycountry.countries:\n",
    "    countries.append(country.name.lower())\n",
    "    \n",
    "for language in pycountry.languages:\n",
    "    countries.append(language.name.lower())"
   ]
  },
  {
   "cell_type": "code",
   "execution_count": 1007,
   "metadata": {},
   "outputs": [],
   "source": [
    "#load spacy \n",
    "nlp = spacy.load(\"en_core_web_sm\") "
   ]
  },
  {
   "cell_type": "code",
   "execution_count": 1008,
   "metadata": {},
   "outputs": [
    {
     "data": {
      "text/plain": [
       "<spacytextblob.spacytextblob.SpacyTextBlob at 0x7fd55aaa9d90>"
      ]
     },
     "execution_count": 1008,
     "metadata": {},
     "output_type": "execute_result"
    }
   ],
   "source": [
    "# load spacy text blob\n",
    "nlp.add_pipe('spacytextblob')"
   ]
  },
  {
   "cell_type": "code",
   "execution_count": 1009,
   "metadata": {},
   "outputs": [
    {
     "data": {
      "text/plain": [
       "frozenset({'dilling',\n",
       "           'ninzo',\n",
       "           'galo',\n",
       "           'so (democratic republic of congo)',\n",
       "           'iloko',\n",
       "           'yucatec maya sign language',\n",
       "           'i',\n",
       "           'northern subanen',\n",
       "           'there',\n",
       "           'upper grand valley dani',\n",
       "           'western bolivian guaraní',\n",
       "           'vao',\n",
       "           'elsewhere',\n",
       "           'mono (solomon islands)',\n",
       "           'seko padang',\n",
       "           'kagate',\n",
       "           'duvle',\n",
       "           'tokharian a',\n",
       "           'laura',\n",
       "           'wayanad chetti',\n",
       "           'tigon mbembe',\n",
       "           'cree',\n",
       "           'yucuna',\n",
       "           'baoulé',\n",
       "           \"ngbaka ma'bo\",\n",
       "           'bouvet island',\n",
       "           'terebu',\n",
       "           'toromono',\n",
       "           'media lengua',\n",
       "           'turoyo',\n",
       "           'tobo',\n",
       "           'aimaq',\n",
       "           'inuktitut',\n",
       "           'mende (papua new guinea)',\n",
       "           'biritai',\n",
       "           'south muyu',\n",
       "           'kunza',\n",
       "           'aguna',\n",
       "           'bassari',\n",
       "           'são paulo kaingáng',\n",
       "           'old french (842-ca. 1400)',\n",
       "           'aruop',\n",
       "           'javindo',\n",
       "           'saxwe gbe',\n",
       "           'sangir',\n",
       "           'wè southern',\n",
       "           'warkay-bipim',\n",
       "           'khinalugh',\n",
       "           'yinggarda',\n",
       "           'kato',\n",
       "           'kaike',\n",
       "           'ocotlán zapotec',\n",
       "           'mintil',\n",
       "           'boro (ethiopia)',\n",
       "           'xiang chinese',\n",
       "           'honduras sign language',\n",
       "           'hebrew',\n",
       "           'bunganditj',\n",
       "           'adele',\n",
       "           'wakde',\n",
       "           'anjam',\n",
       "           'barbacoas',\n",
       "           'jumjum',\n",
       "           'seem',\n",
       "           'sari',\n",
       "           'wara',\n",
       "           'sangil',\n",
       "           'eastern yiddish',\n",
       "           'arikara',\n",
       "           'edopi',\n",
       "           'ndo',\n",
       "           'carrier',\n",
       "           'tupinambá',\n",
       "           'barzani jewish neo-aramaic',\n",
       "           'mal',\n",
       "           'weliki',\n",
       "           'chicomuceltec',\n",
       "           'nokuku',\n",
       "           'lamma',\n",
       "           'viet nam',\n",
       "           'flaaitaal',\n",
       "           'wagi',\n",
       "           'bahonsuai',\n",
       "           'ivatan',\n",
       "           'walio',\n",
       "           'venetic',\n",
       "           'sherdukpen',\n",
       "           'next',\n",
       "           'juang',\n",
       "           'mpiemo',\n",
       "           'osing',\n",
       "           'karitiâna',\n",
       "           'bualkhaw chin',\n",
       "           'koba',\n",
       "           'marúbo',\n",
       "           'bharia',\n",
       "           'former',\n",
       "           'jair awyu',\n",
       "           'defaka',\n",
       "           'eastern frisian',\n",
       "           'logo',\n",
       "           'tairuma',\n",
       "           'kaur',\n",
       "           'kurtokha',\n",
       "           'wewaw',\n",
       "           'ndoe',\n",
       "           'mawa (nigeria)',\n",
       "           'ngizim',\n",
       "           'kwaya',\n",
       "           'lorang',\n",
       "           'pande',\n",
       "           'abun',\n",
       "           'western huasteca nahuatl',\n",
       "           'afar',\n",
       "           'ngombe (central african republic)',\n",
       "           'gweno',\n",
       "           'my',\n",
       "           'dagbani',\n",
       "           'tobian',\n",
       "           'north tairora',\n",
       "           'bati (indonesia)',\n",
       "           'baruya',\n",
       "           'malaccan creole malay',\n",
       "           'kiowa',\n",
       "           'mansoanka',\n",
       "           'lamaholot',\n",
       "           'eastern gorkha tamang',\n",
       "           'wik-ngathana',\n",
       "           'kachi koli',\n",
       "           'which',\n",
       "           'chodri',\n",
       "           'kanggape',\n",
       "           'marka',\n",
       "           'cebaara senoufo',\n",
       "           'tandia',\n",
       "           'maeng itneg',\n",
       "           'biem',\n",
       "           'önge',\n",
       "           'takestani',\n",
       "           'hupa',\n",
       "           'umatilla',\n",
       "           'jabutí',\n",
       "           'oroha',\n",
       "           'sri lankan creole malay',\n",
       "           'mori bawah',\n",
       "           'san agustín mixtepec zapotec',\n",
       "           'magbukun ayta',\n",
       "           'southwest pashai',\n",
       "           'tsamai',\n",
       "           'mam',\n",
       "           'buli (indonesia)',\n",
       "           'nakara',\n",
       "           \"hawai'i creole english\",\n",
       "           'malaysian sign language',\n",
       "           'ben tey dogon',\n",
       "           'balkan gagauz turkish',\n",
       "           'phangduwali',\n",
       "           'kinabalian',\n",
       "           'mama',\n",
       "           'rana tharu',\n",
       "           'barí',\n",
       "           'twi',\n",
       "           'toro so dogon',\n",
       "           'rasawa',\n",
       "           'budu',\n",
       "           'najdi arabic',\n",
       "           'pear',\n",
       "           'ontenu',\n",
       "           'guibei zhuang',\n",
       "           'lower burdekin',\n",
       "           'benggoi',\n",
       "           'cwi bwamu',\n",
       "           'nisenan',\n",
       "           'xavánte',\n",
       "           'eleven',\n",
       "           'nandi',\n",
       "           'nêlêmwa-nixumwak',\n",
       "           'maklew',\n",
       "           'gāndhārī',\n",
       "           'tebul sign language',\n",
       "           'lamu-lamu',\n",
       "           'seems',\n",
       "           'laua',\n",
       "           'dzùùngoo',\n",
       "           'hmong shua',\n",
       "           'mori atas',\n",
       "           'owenia',\n",
       "           'chamorro',\n",
       "           'jola-kasa',\n",
       "           'extremaduran',\n",
       "           'congo, the democratic republic of the',\n",
       "           'kami (tanzania)',\n",
       "           'desiya',\n",
       "           'bardi',\n",
       "           'korafe-yegha',\n",
       "           'mahou',\n",
       "           'marghi central',\n",
       "           'kitja',\n",
       "           'bandial',\n",
       "           'akolet',\n",
       "           'malapandaram',\n",
       "           'antarctica',\n",
       "           'lauje',\n",
       "           'akukem',\n",
       "           'gorontalo',\n",
       "           'northwest alaska inupiatun',\n",
       "           'gayo',\n",
       "           'solano',\n",
       "           'batak dairi',\n",
       "           'fagani',\n",
       "           'gibanawa',\n",
       "           'sartang',\n",
       "           'lonzo',\n",
       "           'moikodi',\n",
       "           'utarmbung',\n",
       "           'iko',\n",
       "           'wajarri',\n",
       "           'cao miao',\n",
       "           'where',\n",
       "           'sinaugoro',\n",
       "           'tlamacazapa nahuatl',\n",
       "           'dusun witu',\n",
       "           'tuyuca',\n",
       "           'makhuwa',\n",
       "           'south slavey',\n",
       "           'southern sami',\n",
       "           'groma',\n",
       "           'kerinci',\n",
       "           'kaurna',\n",
       "           'ngwaba',\n",
       "           'shor',\n",
       "           'saint lucia',\n",
       "           'e',\n",
       "           'urum',\n",
       "           'aka-kora',\n",
       "           'päri',\n",
       "           'jumli',\n",
       "           'koiwat',\n",
       "           'tagish',\n",
       "           'yitha yitha',\n",
       "           'kela (papua new guinea)',\n",
       "           'psikye',\n",
       "           'ayoquesco zapotec',\n",
       "           'bunak',\n",
       "           'mandaic',\n",
       "           'como karim',\n",
       "           'djinang',\n",
       "           'antigua and barbuda creole english',\n",
       "           'darlong',\n",
       "           'lo-toga',\n",
       "           'aka-kol',\n",
       "           'ndolo',\n",
       "           'nocamán',\n",
       "           'pangutaran sama',\n",
       "           'kasiguranin',\n",
       "           'nauo',\n",
       "           'caluyanun',\n",
       "           'miraya bikol',\n",
       "           'kaamba',\n",
       "           'bangolan',\n",
       "           'lydian',\n",
       "           'whereby',\n",
       "           'northern nuni',\n",
       "           'konni',\n",
       "           'duala',\n",
       "           'chimborazo highland quichua',\n",
       "           'temacine tamazight',\n",
       "           'achang',\n",
       "           'mongondow',\n",
       "           'chamari',\n",
       "           'namiae',\n",
       "           'sadri',\n",
       "           'yabaâna',\n",
       "           'amoungst',\n",
       "           'after',\n",
       "           'tanimuca-retuarã',\n",
       "           'wagaya',\n",
       "           'yuanga',\n",
       "           'friulian',\n",
       "           'delaware',\n",
       "           'vaiphei',\n",
       "           'domung',\n",
       "           'ambakich',\n",
       "           'bilur',\n",
       "           'laba',\n",
       "           'northern amami-oshima',\n",
       "           'rao',\n",
       "           'miwa',\n",
       "           'upper necaxa totonac',\n",
       "           'uisai',\n",
       "           'mbula',\n",
       "           'banda-yangere',\n",
       "           'iraya',\n",
       "           'yout wam',\n",
       "           'vitu',\n",
       "           'get',\n",
       "           'northern nago',\n",
       "           'inupiaq',\n",
       "           'ogea',\n",
       "           'taliabu',\n",
       "           'nyamwezi',\n",
       "           'kara-kalpak',\n",
       "           'eastern khumi chin',\n",
       "           'dolpo',\n",
       "           'yaeyama',\n",
       "           'orma',\n",
       "           'nyâlayu',\n",
       "           'cameroon',\n",
       "           'guarayu',\n",
       "           'nari nari',\n",
       "           'wajuk',\n",
       "           'ngbaka',\n",
       "           'tai',\n",
       "           'san dionisio del mar huave',\n",
       "           'wergaia',\n",
       "           'kowiai',\n",
       "           'mari (east sepik province)',\n",
       "           'gongduk',\n",
       "           'karipuna',\n",
       "           'moloko',\n",
       "           'huamalíes-dos de mayo huánuco quechua',\n",
       "           'urumi',\n",
       "           'apatani',\n",
       "           'bubi',\n",
       "           'karon dori',\n",
       "           'katkari',\n",
       "           'monastic sign language',\n",
       "           'south west bay',\n",
       "           'siar-lak',\n",
       "           'moro',\n",
       "           'galindan',\n",
       "           'kantosi',\n",
       "           'ponam',\n",
       "           'somyev',\n",
       "           'tofin gbe',\n",
       "           'south marquesan',\n",
       "           'pagi',\n",
       "           'south levantine arabic',\n",
       "           'north mesopotamian arabic',\n",
       "           'tampias lobu',\n",
       "           'galibi carib',\n",
       "           'puerto rican sign language',\n",
       "           'mano',\n",
       "           'hlepho phowa',\n",
       "           'loxicha zapotec',\n",
       "           'ndoola',\n",
       "           'varhadi-nagpuri',\n",
       "           'old breton',\n",
       "           'sorkhei',\n",
       "           'mullu kurumba',\n",
       "           'oti',\n",
       "           'muratayak',\n",
       "           'macaguán',\n",
       "           'ogbia',\n",
       "           'brokpake',\n",
       "           'lithuania',\n",
       "           'drents',\n",
       "           'among',\n",
       "           'southern rincon zapotec',\n",
       "           \"toura (côte d'ivoire)\",\n",
       "           'yemen',\n",
       "           'southern puget sound salish',\n",
       "           'wakoná',\n",
       "           'gitua',\n",
       "           'foau',\n",
       "           'boko (democratic republic of congo)',\n",
       "           'northern haida',\n",
       "           'tese',\n",
       "           'buwal',\n",
       "           'mundabli',\n",
       "           'central tagbanwa',\n",
       "           'gilima',\n",
       "           'principense',\n",
       "           'buduma',\n",
       "           'elymian',\n",
       "           'rennellese sign language',\n",
       "           'hamap',\n",
       "           'tok pisin',\n",
       "           'such',\n",
       "           'masiwang',\n",
       "           'ute-southern paiute',\n",
       "           'jah hut',\n",
       "           'migabac',\n",
       "           'southern pomo',\n",
       "           'hani',\n",
       "           'natioro',\n",
       "           'north alaskan inupiatun',\n",
       "           'kiunum',\n",
       "           'bali (democratic republic of congo)',\n",
       "           'kung',\n",
       "           'kemiehua',\n",
       "           'chothe naga',\n",
       "           \"lamnso'\",\n",
       "           'apiaká',\n",
       "           'banggai',\n",
       "           'southern amami-oshima',\n",
       "           'palauan',\n",
       "           'shasta',\n",
       "           'gail',\n",
       "           'latundê',\n",
       "           'french guiana',\n",
       "           'ngurimi',\n",
       "           'oko-eni-osayen',\n",
       "           'amurdak',\n",
       "           'southern pashto',\n",
       "           'chhattisgarhi',\n",
       "           'umon',\n",
       "           'sinicahua mixtec',\n",
       "           'old korean (3rd-9th cent.)',\n",
       "           'iu mien',\n",
       "           'tecpatlán totonac',\n",
       "           'lombi',\n",
       "           'tibea',\n",
       "           'waray (australia)',\n",
       "           'kamula',\n",
       "           'zangwal',\n",
       "           'yulu',\n",
       "           'east futuna',\n",
       "           'ache',\n",
       "           'northern conchucos ancash quechua',\n",
       "           'samvedi',\n",
       "           'warwar feni',\n",
       "           'avokaya',\n",
       "           'ngando (democratic republic of congo)',\n",
       "           'syrian arab republic',\n",
       "           'xibe',\n",
       "           'garo',\n",
       "           'bavarian',\n",
       "           'chonyi-dzihana-kauma',\n",
       "           'luba-lulua',\n",
       "           'queyu',\n",
       "           'manyika',\n",
       "           'yindjibarndi',\n",
       "           'wab',\n",
       "           'pipil',\n",
       "           'koroni',\n",
       "           'delo',\n",
       "           'mokole',\n",
       "           'hidatsa',\n",
       "           'panobo',\n",
       "           'molengue',\n",
       "           'sudanese creole arabic',\n",
       "           'achi',\n",
       "           'namla',\n",
       "           'khmu',\n",
       "           'kosraean',\n",
       "           'occitan (post 1500)',\n",
       "           'malgana',\n",
       "           'ono',\n",
       "           'north junín quechua',\n",
       "           'dama',\n",
       "           'maiadomu',\n",
       "           'kurama',\n",
       "           'tita',\n",
       "           'kare (central african republic)',\n",
       "           'pima bajo',\n",
       "           'enggano',\n",
       "           'boko (benin)',\n",
       "           'hemba',\n",
       "           'bo-ung',\n",
       "           'kosarek yale',\n",
       "           'gadsup',\n",
       "           'cashinahua',\n",
       "           'tamazola mixtec',\n",
       "           'northern dong',\n",
       "           'amganad ifugao',\n",
       "           'matu chin',\n",
       "           'tee',\n",
       "           'ulukwumi',\n",
       "           'wawa',\n",
       "           'odoodee',\n",
       "           'old manipuri',\n",
       "           'maa',\n",
       "           'anyhow',\n",
       "           'kerak',\n",
       "           'adioukrou',\n",
       "           'roma',\n",
       "           'alyawarr',\n",
       "           'mazanderani',\n",
       "           'sinte romani',\n",
       "           'solong',\n",
       "           'nete',\n",
       "           \"tae'\",\n",
       "           'amarasi',\n",
       "           'phuan',\n",
       "           'pintupi-luritja',\n",
       "           'karajá',\n",
       "           'should',\n",
       "           'isle of man',\n",
       "           'achterhoeks',\n",
       "           'tornedalen finnish',\n",
       "           'awara',\n",
       "           'gikyode',\n",
       "           'morom',\n",
       "           'balo',\n",
       "           'evenki',\n",
       "           'pangseng',\n",
       "           'amo',\n",
       "           'northern sorsoganon',\n",
       "           'dera (nigeria)',\n",
       "           'pankararú',\n",
       "           'sibu melanau',\n",
       "           'shau',\n",
       "           'teke-tege',\n",
       "           'gambera',\n",
       "           'cajonos zapotec',\n",
       "           'waimiri-atroari',\n",
       "           'doso',\n",
       "           'ngaanyatjarra',\n",
       "           'guernsey',\n",
       "           'miyobe',\n",
       "           'trinidad and tobago',\n",
       "           'soga',\n",
       "           'baga manduri',\n",
       "           'phu thai',\n",
       "           'haiphong sign language',\n",
       "           'kutto',\n",
       "           'assan',\n",
       "           'in',\n",
       "           'hmong dô',\n",
       "           'walla walla',\n",
       "           'central kanuri',\n",
       "           'lezghian',\n",
       "           'namat',\n",
       "           'tandaganon',\n",
       "           'kokoda',\n",
       "           'nyamal',\n",
       "           'luguru',\n",
       "           'kaki ae',\n",
       "           'jiba',\n",
       "           'french polynesia',\n",
       "           'hazaragi',\n",
       "           'pele-ata',\n",
       "           'lopa',\n",
       "           'burusu',\n",
       "           'bokobaru',\n",
       "           'ekari',\n",
       "           'northern emberá',\n",
       "           'maonan',\n",
       "           'disa',\n",
       "           'rakahanga-manihiki',\n",
       "           'tiagbamrin aizi',\n",
       "           'tedim chin',\n",
       "           'tacana',\n",
       "           'bamwe',\n",
       "           'lalia',\n",
       "           'kibiri',\n",
       "           'turkana',\n",
       "           'koroshi',\n",
       "           'iteri',\n",
       "           'dirari',\n",
       "           'awad bing',\n",
       "           'pinigura',\n",
       "           'seberuang',\n",
       "           'iha',\n",
       "           'western arrarnta',\n",
       "           'wangganguru',\n",
       "           'nzakara',\n",
       "           \"silt'e\",\n",
       "           'thaiphum chin',\n",
       "           'wanap',\n",
       "           'tremembé',\n",
       "           'lugbara',\n",
       "           'ogbogolo',\n",
       "           'nafaanra',\n",
       "           'sebat bet gurage',\n",
       "           'uruangnirin',\n",
       "           'chhulung',\n",
       "           'herdé',\n",
       "           'yankunytjatjara',\n",
       "           'benin',\n",
       "           'un',\n",
       "           'paiwan',\n",
       "           'through',\n",
       "           'domaaki',\n",
       "           'lycian',\n",
       "           'cacgia roglai',\n",
       "           'kiowa apache',\n",
       "           'tomo kan dogon',\n",
       "           'ixil',\n",
       "           'leti (indonesia)',\n",
       "           'pei',\n",
       "           'walloon',\n",
       "           'pular',\n",
       "           'ditidaht',\n",
       "           'fire',\n",
       "           'seze',\n",
       "           'mugom',\n",
       "           'yosondúa mixtec',\n",
       "           'thracian',\n",
       "           'ding',\n",
       "           'south tairora',\n",
       "           'kasanga',\n",
       "           'nomane',\n",
       "           'mangga buang',\n",
       "           'alak',\n",
       "           'north bolivian quechua',\n",
       "           'macedo-romanian',\n",
       "           'nyawaygi',\n",
       "           'margu',\n",
       "           'philippines',\n",
       "           'phukha',\n",
       "           'east kewa',\n",
       "           'switzerland',\n",
       "           'sensi',\n",
       "           'muluridyi',\n",
       "           'karey',\n",
       "           'nafusi',\n",
       "           'pataxó hã-ha-hãe',\n",
       "           'baissa fali',\n",
       "           'pattani',\n",
       "           'swahili (individual language)',\n",
       "           'dandami maria',\n",
       "           'logba',\n",
       "           'back',\n",
       "           'babango',\n",
       "           'yarawata',\n",
       "           'gugadj',\n",
       "           'malaryan',\n",
       "           'teke-ebo',\n",
       "           'ottawa',\n",
       "           'paumarí',\n",
       "           'kakabe',\n",
       "           'opata',\n",
       "           'sebop',\n",
       "           'vale',\n",
       "           'mbariman-gudhinma',\n",
       "           'luvale',\n",
       "           'xokleng',\n",
       "           'totoro',\n",
       "           'kuthant',\n",
       "           'dzao min',\n",
       "           'gbagyi',\n",
       "           'khams tibetan',\n",
       "           'san pedro amuzgos amuzgo',\n",
       "           'lave',\n",
       "           'papar',\n",
       "           'momina',\n",
       "           'sekapan',\n",
       "           'eton (vanuatu)',\n",
       "           'tho',\n",
       "           'wandji',\n",
       "           'tehuelche',\n",
       "           'nasal',\n",
       "           'ngurmbur',\n",
       "           'angola',\n",
       "           'chinese sign language',\n",
       "           'caddo',\n",
       "           'ai-cham',\n",
       "           'san jerónimo tecóatl mazatec',\n",
       "           'orang kanaq',\n",
       "           'esuma',\n",
       "           'alaba-k’abeena',\n",
       "           'nyaw',\n",
       "           'sokoro',\n",
       "           'votic',\n",
       "           'tundra enets',\n",
       "           'bhalay',\n",
       "           'badimaya',\n",
       "           'santa maría del mar huave',\n",
       "           'guambiano',\n",
       "           'bitur',\n",
       "           'santa catarina albarradas zapotec',\n",
       "           'central tarahumara',\n",
       "           'krio',\n",
       "           'ibatan',\n",
       "           'ihievbe',\n",
       "           'erokwanas',\n",
       "           'orya',\n",
       "           'shall-zwall',\n",
       "           'itself',\n",
       "           'eastern lalu',\n",
       "           'jamaican country sign language',\n",
       "           'kemak',\n",
       "           'ambai',\n",
       "           'kam',\n",
       "           'mpi',\n",
       "           'bai',\n",
       "           'ngangam',\n",
       "           'ganza',\n",
       "           'judeo-arabic',\n",
       "           'kemtuik',\n",
       "           'ma (papua new guinea)',\n",
       "           'kenswei nsei',\n",
       "           'bindal',\n",
       "           'cisalpine gaulish',\n",
       "           'guwa',\n",
       "           'west makian',\n",
       "           'budeh stieng',\n",
       "           'vincentian creole english',\n",
       "           'dũya',\n",
       "           'haeke',\n",
       "           'kongo',\n",
       "           'whose',\n",
       "           'kohumono',\n",
       "           'mandarin chinese',\n",
       "           'negerhollands',\n",
       "           'abau',\n",
       "           'old irish (to 900)',\n",
       "           'kuku-muminh',\n",
       "           'kafoa',\n",
       "           'mulam',\n",
       "           'third',\n",
       "           'oro win',\n",
       "           'wahau kayan',\n",
       "           'eteocypriot',\n",
       "           'yaroamë',\n",
       "           'south african sign language',\n",
       "           'boro (ghana)',\n",
       "           'tchitchege',\n",
       "           'woods cree',\n",
       "           'panim',\n",
       "           'tawandê',\n",
       "           'erromintxela',\n",
       "           'bepour',\n",
       "           'hong kong',\n",
       "           'united states',\n",
       "           'pahanan agta',\n",
       "           'tonsawang',\n",
       "           'lusitanian',\n",
       "           'mala malasar',\n",
       "           'wasa',\n",
       "           'dorze',\n",
       "           'noy',\n",
       "           'gabon',\n",
       "           'dogri (individual language)',\n",
       "           'sewa bay',\n",
       "           'cyprus',\n",
       "           'karaim',\n",
       "           'kaera',\n",
       "           'korean',\n",
       "           'buksa',\n",
       "           'eastern maninkakan',\n",
       "           'bentong',\n",
       "           'maring',\n",
       "           'romanian sign language',\n",
       "           'biak',\n",
       "           'penchal',\n",
       "           'yinwum',\n",
       "           'araona',\n",
       "           'huitepec mixtec',\n",
       "           'yir yoront',\n",
       "           'khaling',\n",
       "           'lambadi',\n",
       "           'boikin',\n",
       "           'kami (nigeria)',\n",
       "           'greece',\n",
       "           'gitonga',\n",
       "           'telugu',\n",
       "           'kuamasi',\n",
       "           'tocho',\n",
       "           'carolina algonquian',\n",
       "           'nding',\n",
       "           'saisiyat',\n",
       "           'dinka',\n",
       "           'cajun french',\n",
       "           'lingao',\n",
       "           'burmese',\n",
       "           'zimakani',\n",
       "           'toward',\n",
       "           'ambo',\n",
       "           'bench',\n",
       "           'southern mashan hmong',\n",
       "           'lusengo',\n",
       "           'anyin morofo',\n",
       "           'nyanga-li',\n",
       "           'mentawai',\n",
       "           'nyahkur',\n",
       "           'poland',\n",
       "           'thin',\n",
       "           'french sign language',\n",
       "           'apasco-apoala mixtec',\n",
       "           'skepi creole dutch',\n",
       "           'acroá',\n",
       "           'dombe',\n",
       "           'wanga',\n",
       "           'bagirmi',\n",
       "           'kuku-yalanji',\n",
       "           'bago-kusuntu',\n",
       "           'moba',\n",
       "           'southeastern puebla nahuatl',\n",
       "           'oksapmin',\n",
       "           'bugan',\n",
       "           'pawnee',\n",
       "           'achagua',\n",
       "           'bahnar',\n",
       "           'kapya',\n",
       "           'narua',\n",
       "           'yanahuanca pasco quechua',\n",
       "           'kulisusu',\n",
       "           'marwari (pakistan)',\n",
       "           'merwari',\n",
       "           'konomala',\n",
       "           'isarog agta',\n",
       "           'muniche',\n",
       "           'tulishi',\n",
       "           'humla',\n",
       "           'tiruray',\n",
       "           'kabwa',\n",
       "           'fali',\n",
       "           'kambaira',\n",
       "           'mundari',\n",
       "           'byangsi',\n",
       "           'kanufi',\n",
       "           'mungkip',\n",
       "           'zabana',\n",
       "           'konkani (macrolanguage)',\n",
       "           'selungai murut',\n",
       "           'khasi',\n",
       "           'rajah kabunsuwan manobo',\n",
       "           'baham',\n",
       "           'mpur',\n",
       "           'bashkir',\n",
       "           'them',\n",
       "           'had',\n",
       "           'pacific gulf yupik',\n",
       "           'creek',\n",
       "           'pacahuara',\n",
       "           'pamlico',\n",
       "           'ternate',\n",
       "           'kerewo',\n",
       "           'between',\n",
       "           'busoa',\n",
       "           'simbari',\n",
       "           'pagu',\n",
       "           'zotung chin',\n",
       "           'kalam',\n",
       "           'tanzania, united republic of',\n",
       "           'cen',\n",
       "           'dhalandji',\n",
       "           'kis',\n",
       "           'sarangani manobo',\n",
       "           'andi',\n",
       "           'mabaan',\n",
       "           'okiek',\n",
       "           'qiubei zhuang',\n",
       "           'sausi',\n",
       "           'borana-arsi-guji oromo',\n",
       "           'idi',\n",
       "           'everywhere',\n",
       "           'kuvi',\n",
       "           'wuliwuli',\n",
       "           'ajawa',\n",
       "           'central pashto',\n",
       "           'kasem',\n",
       "           'kita maninkakan',\n",
       "           'halbi',\n",
       "           'marimanindji',\n",
       "           'aimol',\n",
       "           'bughotu',\n",
       "           'northwest gbaya',\n",
       "           'selee',\n",
       "           'halia',\n",
       "           'ilue',\n",
       "           'lenje',\n",
       "           'tilung',\n",
       "           'boloki',\n",
       "           'min nan chinese',\n",
       "           'omurano',\n",
       "           'northern pashto',\n",
       "           'gor',\n",
       "           'digaro-mishmi',\n",
       "           'southern conchucos ancash quechua',\n",
       "           'yautepec zapotec',\n",
       "           'eloyi',\n",
       "           'ayoreo',\n",
       "           'morerebi',\n",
       "           'hadrami',\n",
       "           'selepet',\n",
       "           'pyu (papua new guinea)',\n",
       "           'arbëreshë albanian',\n",
       "           'kuranko',\n",
       "           'lamet',\n",
       "           'andoque',\n",
       "           'highland puebla nahuatl',\n",
       "           'mru',\n",
       "           'ixtayutla mixtec',\n",
       "           'lhokpu',\n",
       "           'sometime',\n",
       "           \"kw'adza\",\n",
       "           'mbudum',\n",
       "           'adivasi oriya',\n",
       "           'takelma',\n",
       "           'yinhawangka',\n",
       "           'dubu',\n",
       "           'firan',\n",
       "           'mal paharia',\n",
       "           'mobwa karen',\n",
       "           'arandai',\n",
       "           'tainae',\n",
       "           'pontic',\n",
       "           'shipibo-conibo',\n",
       "           'oy',\n",
       "           'manado malay',\n",
       "           'bolivia, plurinational state of',\n",
       "           'garlali',\n",
       "           'bu',\n",
       "           'moji',\n",
       "           'jirel',\n",
       "           'obulom',\n",
       "           \"'are'are\",\n",
       "           'malalamai',\n",
       "           'skou',\n",
       "           'lehali',\n",
       "           'avá-canoeiro',\n",
       "           'bafut',\n",
       "           'southern dagaare',\n",
       "           'ghomara',\n",
       "           'adang',\n",
       "           'langi',\n",
       "           'tonkawa',\n",
       "           'busam',\n",
       "           'bayali',\n",
       "           'quiotepec chinantec',\n",
       "           'gofa',\n",
       "           'luxembourg',\n",
       "           'upper tanana',\n",
       "           'bina (nigeria)',\n",
       "           'awtuw',\n",
       "           'lambya',\n",
       "           'brithenig',\n",
       "           'ikoma-nata-isenye',\n",
       "           'guam',\n",
       "           'alune',\n",
       "           'bagvalal',\n",
       "           'centúúm',\n",
       "           'baniva',\n",
       "           'middle newar',\n",
       "           'putoh',\n",
       "           'krahô',\n",
       "           'phunoi',\n",
       "           'hanga hundi',\n",
       "           'veddah',\n",
       "           'dagoman',\n",
       "           'mannan',\n",
       "           'ndasa',\n",
       "           'reyesano',\n",
       "           'nobody',\n",
       "           'wayoró',\n",
       "           'lepontic',\n",
       "           'mazaltepec zapotec',\n",
       "           'khalaj',\n",
       "           'tunica',\n",
       "           'serbia',\n",
       "           'markweeta',\n",
       "           'duruma',\n",
       "           'sylheti',\n",
       "           'tai long',\n",
       "           'kungarakany',\n",
       "           'kara (tanzania)',\n",
       "           'eastern oromo',\n",
       "           'maii',\n",
       "           'oku',\n",
       "           'awun',\n",
       "           'biao mon',\n",
       "           'cheyenne',\n",
       "           'ilianen manobo',\n",
       "           'wayuu',\n",
       "           'throughout',\n",
       "           'lolak',\n",
       "           'yidgha',\n",
       "           'bata',\n",
       "           'copala triqui',\n",
       "           'huastec',\n",
       "           'capanahua',\n",
       "           'tabassaran',\n",
       "           'rangkas',\n",
       "           'tobati',\n",
       "           'namakura',\n",
       "           'alege',\n",
       "           'belarus',\n",
       "           'runga',\n",
       "           'lawangan',\n",
       "           'fanagalo',\n",
       "           'biatah bidayuh',\n",
       "           'mansi',\n",
       "           'daur',\n",
       "           'kuman (russia)',\n",
       "           'khorezmian',\n",
       "           'tajikistan',\n",
       "           'kove',\n",
       "           'duri',\n",
       "           'amol',\n",
       "           'awak',\n",
       "           'malagasy',\n",
       "           'bora',\n",
       "           'suabo',\n",
       "           'ratagnon',\n",
       "           'luo (kenya and tanzania)',\n",
       "           'nguôn',\n",
       "           'kalumpang',\n",
       "           'yongnan zhuang',\n",
       "           'lake miwok',\n",
       "           'finland-swedish sign language',\n",
       "           'majhwar',\n",
       "           'tasmate',\n",
       "           'cahuilla',\n",
       "           'kabuverdianu',\n",
       "           'kayupulau',\n",
       "           'moraid',\n",
       "           ...})"
      ]
     },
     "execution_count": 1009,
     "metadata": {},
     "output_type": "execute_result"
    }
   ],
   "source": [
    "# make a list of stop words to stop filtering\n",
    "\n",
    "my_stop_words = text.ENGLISH_STOP_WORDS.union(['american', 'country', 'america', 'europe', 'european', 'usa', 'us', 'uk']) \n",
    "my_stop_words = my_stop_words.union(countries)\n",
    "\n",
    "my_stop_words"
   ]
  },
  {
   "cell_type": "code",
   "execution_count": 1010,
   "metadata": {},
   "outputs": [],
   "source": [
    "# read in dataframe\n",
    "df = pd.read_csv('./previous.csv')"
   ]
  },
  {
   "cell_type": "code",
   "execution_count": 1011,
   "metadata": {},
   "outputs": [
    {
     "data": {
      "text/html": [
       "<div>\n",
       "<style scoped>\n",
       "    .dataframe tbody tr th:only-of-type {\n",
       "        vertical-align: middle;\n",
       "    }\n",
       "\n",
       "    .dataframe tbody tr th {\n",
       "        vertical-align: top;\n",
       "    }\n",
       "\n",
       "    .dataframe thead th {\n",
       "        text-align: right;\n",
       "    }\n",
       "</style>\n",
       "<table border=\"1\" class=\"dataframe\">\n",
       "  <thead>\n",
       "    <tr style=\"text-align: right;\">\n",
       "      <th></th>\n",
       "      <th>id</th>\n",
       "      <th>title</th>\n",
       "      <th>num_comments</th>\n",
       "      <th>body</th>\n",
       "      <th>num_upvotes</th>\n",
       "      <th>time_posted</th>\n",
       "      <th>time_now</th>\n",
       "      <th>time_delta</th>\n",
       "      <th>subreddit</th>\n",
       "      <th>top_comment</th>\n",
       "      <th>text_length</th>\n",
       "    </tr>\n",
       "  </thead>\n",
       "  <tbody>\n",
       "    <tr>\n",
       "      <th>0</th>\n",
       "      <td>nb0592</td>\n",
       "      <td>how common is it to not have your country's mo...</td>\n",
       "      <td>3</td>\n",
       "      <td>/r/titlegoretaken spain as a whole, the most w...</td>\n",
       "      <td>3</td>\n",
       "      <td>2021-05-12 21:37:16</td>\n",
       "      <td>2021-05-13 01:20:57.717158</td>\n",
       "      <td>0 days 03:43:41.717163</td>\n",
       "      <td>1</td>\n",
       "      <td>[\"About 40% of the population speaks French. I...</td>\n",
       "      <td>318</td>\n",
       "    </tr>\n",
       "    <tr>\n",
       "      <th>1</th>\n",
       "      <td>nb3wei</td>\n",
       "      <td>most popular fast food restaurant/take-away?</td>\n",
       "      <td>14</td>\n",
       "      <td>hey guys i’m not from usa but i have seen many...</td>\n",
       "      <td>3</td>\n",
       "      <td>2021-05-13 00:31:12</td>\n",
       "      <td>2021-05-13 01:20:57.864588</td>\n",
       "      <td>0 days 00:49:45.864594</td>\n",
       "      <td>0</td>\n",
       "      <td>[\"McDonalds, Subway and Starbucks are probably...</td>\n",
       "      <td>22</td>\n",
       "    </tr>\n",
       "    <tr>\n",
       "      <th>2</th>\n",
       "      <td>nb339e</td>\n",
       "      <td>is it true that you guys don't like/go to mcdo...</td>\n",
       "      <td>55</td>\n",
       "      <td>here in my country they're one of the most pop...</td>\n",
       "      <td>3</td>\n",
       "      <td>2021-05-12 23:52:33</td>\n",
       "      <td>2021-05-13 01:20:58.146242</td>\n",
       "      <td>0 days 01:28:25.146249</td>\n",
       "      <td>0</td>\n",
       "      <td>['It’s not my first choice by far. I’d rather ...</td>\n",
       "      <td>49</td>\n",
       "    </tr>\n",
       "    <tr>\n",
       "      <th>3</th>\n",
       "      <td>nb2x64</td>\n",
       "      <td>why were football fans so upset by the europea...</td>\n",
       "      <td>3</td>\n",
       "      <td>it seemed to me like it would increase the lev...</td>\n",
       "      <td>0</td>\n",
       "      <td>2021-05-12 23:44:35</td>\n",
       "      <td>2021-05-13 01:20:58.274452</td>\n",
       "      <td>0 days 01:36:23.274458</td>\n",
       "      <td>1</td>\n",
       "      <td>['Cause fans don\\'t want \"top-notch matches\" i...</td>\n",
       "      <td>25</td>\n",
       "    </tr>\n",
       "    <tr>\n",
       "      <th>4</th>\n",
       "      <td>nb0xx6</td>\n",
       "      <td>why do people stick four fingers out?</td>\n",
       "      <td>29</td>\n",
       "      <td>usually it's people in a lifted truck who do i...</td>\n",
       "      <td>1</td>\n",
       "      <td>2021-05-12 22:13:39</td>\n",
       "      <td>2021-05-13 01:20:58.525647</td>\n",
       "      <td>0 days 03:07:19.525654</td>\n",
       "      <td>0</td>\n",
       "      <td>['Are you talking about waving?  Do we serious...</td>\n",
       "      <td>17</td>\n",
       "    </tr>\n",
       "  </tbody>\n",
       "</table>\n",
       "</div>"
      ],
      "text/plain": [
       "       id                                              title  num_comments  \\\n",
       "0  nb0592  how common is it to not have your country's mo...             3   \n",
       "1  nb3wei       most popular fast food restaurant/take-away?            14   \n",
       "2  nb339e  is it true that you guys don't like/go to mcdo...            55   \n",
       "3  nb2x64  why were football fans so upset by the europea...             3   \n",
       "4  nb0xx6              why do people stick four fingers out?            29   \n",
       "\n",
       "                                                body  num_upvotes  \\\n",
       "0  /r/titlegoretaken spain as a whole, the most w...            3   \n",
       "1  hey guys i’m not from usa but i have seen many...            3   \n",
       "2  here in my country they're one of the most pop...            3   \n",
       "3  it seemed to me like it would increase the lev...            0   \n",
       "4  usually it's people in a lifted truck who do i...            1   \n",
       "\n",
       "           time_posted                    time_now              time_delta  \\\n",
       "0  2021-05-12 21:37:16  2021-05-13 01:20:57.717158  0 days 03:43:41.717163   \n",
       "1  2021-05-13 00:31:12  2021-05-13 01:20:57.864588  0 days 00:49:45.864594   \n",
       "2  2021-05-12 23:52:33  2021-05-13 01:20:58.146242  0 days 01:28:25.146249   \n",
       "3  2021-05-12 23:44:35  2021-05-13 01:20:58.274452  0 days 01:36:23.274458   \n",
       "4  2021-05-12 22:13:39  2021-05-13 01:20:58.525647  0 days 03:07:19.525654   \n",
       "\n",
       "   subreddit                                        top_comment  text_length  \n",
       "0          1  [\"About 40% of the population speaks French. I...          318  \n",
       "1          0  [\"McDonalds, Subway and Starbucks are probably...           22  \n",
       "2          0  ['It’s not my first choice by far. I’d rather ...           49  \n",
       "3          1  ['Cause fans don\\'t want \"top-notch matches\" i...           25  \n",
       "4          0  ['Are you talking about waving?  Do we serious...           17  "
      ]
     },
     "execution_count": 1011,
     "metadata": {},
     "output_type": "execute_result"
    }
   ],
   "source": [
    "df.head()"
   ]
  },
  {
   "cell_type": "code",
   "execution_count": 1012,
   "metadata": {},
   "outputs": [
    {
     "data": {
      "text/plain": [
       "(2683, 11)"
      ]
     },
     "execution_count": 1012,
     "metadata": {},
     "output_type": "execute_result"
    }
   ],
   "source": [
    "df.shape"
   ]
  },
  {
   "cell_type": "code",
   "execution_count": 1013,
   "metadata": {},
   "outputs": [
    {
     "data": {
      "text/plain": [
       "0    1367\n",
       "1    1316\n",
       "Name: subreddit, dtype: int64"
      ]
     },
     "execution_count": 1013,
     "metadata": {},
     "output_type": "execute_result"
    }
   ],
   "source": [
    "df.subreddit.value_counts()"
   ]
  },
  {
   "cell_type": "code",
   "execution_count": 1014,
   "metadata": {},
   "outputs": [
    {
     "data": {
      "text/plain": [
       "id               0\n",
       "title            0\n",
       "num_comments     0\n",
       "body            10\n",
       "num_upvotes      0\n",
       "time_posted      0\n",
       "time_now         0\n",
       "time_delta       0\n",
       "subreddit        0\n",
       "top_comment      0\n",
       "text_length      0\n",
       "dtype: int64"
      ]
     },
     "execution_count": 1014,
     "metadata": {},
     "output_type": "execute_result"
    }
   ],
   "source": [
    "df.isna().sum()"
   ]
  },
  {
   "cell_type": "code",
   "execution_count": 1015,
   "metadata": {},
   "outputs": [],
   "source": [
    "# get rid of null body rows\n",
    "\n",
    "df = df[df['body'].notna()]"
   ]
  },
  {
   "cell_type": "code",
   "execution_count": 1016,
   "metadata": {},
   "outputs": [
    {
     "data": {
      "text/plain": [
       "(2673, 11)"
      ]
     },
     "execution_count": 1016,
     "metadata": {},
     "output_type": "execute_result"
    }
   ],
   "source": [
    "df.shape"
   ]
  },
  {
   "cell_type": "code",
   "execution_count": 1017,
   "metadata": {},
   "outputs": [
    {
     "data": {
      "text/html": [
       "<div>\n",
       "<style scoped>\n",
       "    .dataframe tbody tr th:only-of-type {\n",
       "        vertical-align: middle;\n",
       "    }\n",
       "\n",
       "    .dataframe tbody tr th {\n",
       "        vertical-align: top;\n",
       "    }\n",
       "\n",
       "    .dataframe thead th {\n",
       "        text-align: right;\n",
       "    }\n",
       "</style>\n",
       "<table border=\"1\" class=\"dataframe\">\n",
       "  <thead>\n",
       "    <tr style=\"text-align: right;\">\n",
       "      <th></th>\n",
       "      <th>id</th>\n",
       "      <th>title</th>\n",
       "      <th>num_comments</th>\n",
       "      <th>body</th>\n",
       "      <th>num_upvotes</th>\n",
       "      <th>time_posted</th>\n",
       "      <th>time_now</th>\n",
       "      <th>time_delta</th>\n",
       "      <th>subreddit</th>\n",
       "      <th>top_comment</th>\n",
       "      <th>text_length</th>\n",
       "    </tr>\n",
       "  </thead>\n",
       "  <tbody>\n",
       "  </tbody>\n",
       "</table>\n",
       "</div>"
      ],
      "text/plain": [
       "Empty DataFrame\n",
       "Columns: [id, title, num_comments, body, num_upvotes, time_posted, time_now, time_delta, subreddit, top_comment, text_length]\n",
       "Index: []"
      ]
     },
     "execution_count": 1017,
     "metadata": {},
     "output_type": "execute_result"
    }
   ],
   "source": [
    "# check if anything is duplicated \n",
    "\n",
    "df[df.duplicated()]"
   ]
  },
  {
   "cell_type": "code",
   "execution_count": 1018,
   "metadata": {},
   "outputs": [],
   "source": [
    "# clean up comment column\n",
    "\n",
    "df['top_comment'] = [str(x).strip(\n",
    "    '[').strip(\n",
    "    ']').strip(\n",
    "    \"'\").strip(\n",
    "    '\"') for x in df.top_comment]"
   ]
  },
  {
   "cell_type": "code",
   "execution_count": 1019,
   "metadata": {},
   "outputs": [],
   "source": [
    "# get comment length\n",
    "\n",
    "df['comment_length'] = [len(str(x)) for x in df['top_comment']]"
   ]
  },
  {
   "cell_type": "code",
   "execution_count": 1020,
   "metadata": {},
   "outputs": [
    {
     "data": {
      "text/plain": [
       "0    9\n",
       "Name: subreddit, dtype: int64"
      ]
     },
     "execution_count": 1020,
     "metadata": {},
     "output_type": "execute_result"
    }
   ],
   "source": [
    "# check how many comments are 0\n",
    "\n",
    "df[df['comment_length'] < 3]['subreddit'].value_counts()"
   ]
  },
  {
   "cell_type": "code",
   "execution_count": 1021,
   "metadata": {},
   "outputs": [],
   "source": [
    "# get rid of rows with no comments\n",
    "\n",
    "df = df[df['comment_length'] > 1]"
   ]
  },
  {
   "cell_type": "code",
   "execution_count": 1022,
   "metadata": {},
   "outputs": [
    {
     "data": {
      "text/plain": [
       "0    1351\n",
       "1    1313\n",
       "Name: subreddit, dtype: int64"
      ]
     },
     "execution_count": 1022,
     "metadata": {},
     "output_type": "execute_result"
    }
   ],
   "source": [
    "df['subreddit'].value_counts()"
   ]
  },
  {
   "cell_type": "code",
   "execution_count": 1023,
   "metadata": {},
   "outputs": [
    {
     "data": {
      "text/plain": [
       "(2664, 12)"
      ]
     },
     "execution_count": 1023,
     "metadata": {},
     "output_type": "execute_result"
    }
   ],
   "source": [
    "df.shape"
   ]
  },
  {
   "cell_type": "code",
   "execution_count": 1024,
   "metadata": {},
   "outputs": [
    {
     "data": {
      "text/plain": [
       "id                0\n",
       "title             0\n",
       "num_comments      0\n",
       "body              0\n",
       "num_upvotes       0\n",
       "time_posted       0\n",
       "time_now          0\n",
       "time_delta        0\n",
       "subreddit         0\n",
       "top_comment       0\n",
       "text_length       0\n",
       "comment_length    0\n",
       "dtype: int64"
      ]
     },
     "execution_count": 1024,
     "metadata": {},
     "output_type": "execute_result"
    }
   ],
   "source": [
    "df.isna().sum()"
   ]
  },
  {
   "cell_type": "markdown",
   "metadata": {},
   "source": [
    "# Adding columns"
   ]
  },
  {
   "cell_type": "code",
   "execution_count": 1025,
   "metadata": {},
   "outputs": [],
   "source": [
    "# get length of title \n",
    "\n",
    "df['title_length'] = [len(title) for title in df['title']]"
   ]
  },
  {
   "cell_type": "code",
   "execution_count": 1026,
   "metadata": {},
   "outputs": [
    {
     "data": {
      "text/html": [
       "<div>\n",
       "<style scoped>\n",
       "    .dataframe tbody tr th:only-of-type {\n",
       "        vertical-align: middle;\n",
       "    }\n",
       "\n",
       "    .dataframe tbody tr th {\n",
       "        vertical-align: top;\n",
       "    }\n",
       "\n",
       "    .dataframe thead th {\n",
       "        text-align: right;\n",
       "    }\n",
       "</style>\n",
       "<table border=\"1\" class=\"dataframe\">\n",
       "  <thead>\n",
       "    <tr style=\"text-align: right;\">\n",
       "      <th></th>\n",
       "      <th>id</th>\n",
       "      <th>title</th>\n",
       "      <th>num_comments</th>\n",
       "      <th>body</th>\n",
       "      <th>num_upvotes</th>\n",
       "      <th>time_posted</th>\n",
       "      <th>time_now</th>\n",
       "      <th>time_delta</th>\n",
       "      <th>subreddit</th>\n",
       "      <th>top_comment</th>\n",
       "      <th>text_length</th>\n",
       "      <th>comment_length</th>\n",
       "      <th>title_length</th>\n",
       "    </tr>\n",
       "  </thead>\n",
       "  <tbody>\n",
       "  </tbody>\n",
       "</table>\n",
       "</div>"
      ],
      "text/plain": [
       "Empty DataFrame\n",
       "Columns: [id, title, num_comments, body, num_upvotes, time_posted, time_now, time_delta, subreddit, top_comment, text_length, comment_length, title_length]\n",
       "Index: []"
      ]
     },
     "execution_count": 1026,
     "metadata": {},
     "output_type": "execute_result"
    }
   ],
   "source": [
    "df[df['title_length'] < 2]"
   ]
  },
  {
   "cell_type": "code",
   "execution_count": 1027,
   "metadata": {},
   "outputs": [
    {
     "data": {
      "text/plain": [
       "id                0\n",
       "title             0\n",
       "num_comments      0\n",
       "body              0\n",
       "num_upvotes       0\n",
       "time_posted       0\n",
       "time_now          0\n",
       "time_delta        0\n",
       "subreddit         0\n",
       "top_comment       0\n",
       "text_length       0\n",
       "comment_length    0\n",
       "title_length      0\n",
       "dtype: int64"
      ]
     },
     "execution_count": 1027,
     "metadata": {},
     "output_type": "execute_result"
    }
   ],
   "source": [
    "df.isna().sum()"
   ]
  },
  {
   "cell_type": "code",
   "execution_count": 1028,
   "metadata": {},
   "outputs": [],
   "source": [
    "# combining title with body \n",
    "\n",
    "df['question'] = df['title'] + ' ' + df['body']"
   ]
  },
  {
   "cell_type": "code",
   "execution_count": 1029,
   "metadata": {},
   "outputs": [
    {
     "data": {
      "text/plain": [
       "'why were football fans so upset by the european super league? it seemed to me like it would increase the level of play and the number of top-notch matches?  why were fans so against it?'"
      ]
     },
     "execution_count": 1029,
     "metadata": {},
     "output_type": "execute_result"
    }
   ],
   "source": [
    "df['question'][3]"
   ]
  },
  {
   "cell_type": "code",
   "execution_count": 1030,
   "metadata": {},
   "outputs": [],
   "source": [
    "# get length of full question\n",
    "\n",
    "df['question_length'] = [len(question) for question in df['question']]"
   ]
  },
  {
   "cell_type": "code",
   "execution_count": 1031,
   "metadata": {},
   "outputs": [
    {
     "data": {
      "text/plain": [
       "count    2664.000000\n",
       "mean      411.720345\n",
       "std       464.834516\n",
       "min        43.000000\n",
       "25%       203.000000\n",
       "50%       307.500000\n",
       "75%       483.000000\n",
       "max      7778.000000\n",
       "Name: question_length, dtype: float64"
      ]
     },
     "execution_count": 1031,
     "metadata": {},
     "output_type": "execute_result"
    }
   ],
   "source": [
    "df['question_length'].describe()"
   ]
  },
  {
   "cell_type": "code",
   "execution_count": 1032,
   "metadata": {},
   "outputs": [],
   "source": [
    "# get full question and answer \n",
    "\n",
    "df['conversation'] = df['question'] + ' ' + df['top_comment']"
   ]
  },
  {
   "cell_type": "code",
   "execution_count": 1033,
   "metadata": {},
   "outputs": [],
   "source": [
    "df['conversation'] = [re.sub(r\"http\\S+\", \"URL\", x) for x in df['conversation']]\n",
    "df['conversation'] = [re.sub(r\"www.\\S+\", \"URL\", x) for x in df['conversation']]\n",
    "df['conversation'] = [x.replace('$', 'MONEYSIGN').replace('£', 'MONEYSIGN')\\\n",
    "                      .replace('€', 'MONEYSIGN') for x in df['conversation']]\n",
    "\n",
    "#https://stackoverflow.com/questions/24399820/expression-to-remove-url-links-from-twitter-tweet"
   ]
  },
  {
   "cell_type": "code",
   "execution_count": 1034,
   "metadata": {},
   "outputs": [],
   "source": [
    "# get length of conversation\n",
    "\n",
    "df['conversation_length'] =  [len(text) for text in df['conversation']]"
   ]
  },
  {
   "cell_type": "code",
   "execution_count": 1035,
   "metadata": {},
   "outputs": [
    {
     "data": {
      "text/plain": [
       "id                     0\n",
       "title                  0\n",
       "num_comments           0\n",
       "body                   0\n",
       "num_upvotes            0\n",
       "time_posted            0\n",
       "time_now               0\n",
       "time_delta             0\n",
       "subreddit              0\n",
       "top_comment            0\n",
       "text_length            0\n",
       "comment_length         0\n",
       "title_length           0\n",
       "question               0\n",
       "question_length        0\n",
       "conversation           0\n",
       "conversation_length    0\n",
       "dtype: int64"
      ]
     },
     "execution_count": 1035,
     "metadata": {},
     "output_type": "execute_result"
    }
   ],
   "source": [
    "df.isna().sum()"
   ]
  },
  {
   "cell_type": "code",
   "execution_count": 1036,
   "metadata": {},
   "outputs": [
    {
     "data": {
      "text/plain": [
       "count    2664.000000\n",
       "mean      696.552177\n",
       "std       612.141662\n",
       "min        60.000000\n",
       "25%       363.750000\n",
       "50%       539.000000\n",
       "75%       820.000000\n",
       "max      8838.000000\n",
       "Name: conversation_length, dtype: float64"
      ]
     },
     "execution_count": 1036,
     "metadata": {},
     "output_type": "execute_result"
    }
   ],
   "source": [
    "df['conversation_length'].describe()"
   ]
  },
  {
   "cell_type": "code",
   "execution_count": 1037,
   "metadata": {},
   "outputs": [
    {
     "data": {
      "text/html": [
       "<div>\n",
       "<style scoped>\n",
       "    .dataframe tbody tr th:only-of-type {\n",
       "        vertical-align: middle;\n",
       "    }\n",
       "\n",
       "    .dataframe tbody tr th {\n",
       "        vertical-align: top;\n",
       "    }\n",
       "\n",
       "    .dataframe thead th {\n",
       "        text-align: right;\n",
       "    }\n",
       "</style>\n",
       "<table border=\"1\" class=\"dataframe\">\n",
       "  <thead>\n",
       "    <tr style=\"text-align: right;\">\n",
       "      <th></th>\n",
       "      <th>count</th>\n",
       "      <th>mean</th>\n",
       "      <th>std</th>\n",
       "      <th>min</th>\n",
       "      <th>25%</th>\n",
       "      <th>50%</th>\n",
       "      <th>75%</th>\n",
       "      <th>max</th>\n",
       "    </tr>\n",
       "    <tr>\n",
       "      <th>subreddit</th>\n",
       "      <th></th>\n",
       "      <th></th>\n",
       "      <th></th>\n",
       "      <th></th>\n",
       "      <th></th>\n",
       "      <th></th>\n",
       "      <th></th>\n",
       "      <th></th>\n",
       "    </tr>\n",
       "  </thead>\n",
       "  <tbody>\n",
       "    <tr>\n",
       "      <th>0</th>\n",
       "      <td>1351.0</td>\n",
       "      <td>385.697261</td>\n",
       "      <td>497.110241</td>\n",
       "      <td>43.0</td>\n",
       "      <td>194.0</td>\n",
       "      <td>286.0</td>\n",
       "      <td>447.5</td>\n",
       "      <td>7778.0</td>\n",
       "    </tr>\n",
       "    <tr>\n",
       "      <th>1</th>\n",
       "      <td>1313.0</td>\n",
       "      <td>438.496573</td>\n",
       "      <td>427.638009</td>\n",
       "      <td>50.0</td>\n",
       "      <td>212.0</td>\n",
       "      <td>337.0</td>\n",
       "      <td>524.0</td>\n",
       "      <td>6344.0</td>\n",
       "    </tr>\n",
       "  </tbody>\n",
       "</table>\n",
       "</div>"
      ],
      "text/plain": [
       "            count        mean         std   min    25%    50%    75%     max\n",
       "subreddit                                                                   \n",
       "0          1351.0  385.697261  497.110241  43.0  194.0  286.0  447.5  7778.0\n",
       "1          1313.0  438.496573  427.638009  50.0  212.0  337.0  524.0  6344.0"
      ]
     },
     "execution_count": 1037,
     "metadata": {},
     "output_type": "execute_result"
    }
   ],
   "source": [
    "df.groupby('subreddit')['question_length'].describe()"
   ]
  },
  {
   "cell_type": "code",
   "execution_count": 1038,
   "metadata": {},
   "outputs": [
    {
     "data": {
      "text/html": [
       "<div>\n",
       "<style scoped>\n",
       "    .dataframe tbody tr th:only-of-type {\n",
       "        vertical-align: middle;\n",
       "    }\n",
       "\n",
       "    .dataframe tbody tr th {\n",
       "        vertical-align: top;\n",
       "    }\n",
       "\n",
       "    .dataframe thead th {\n",
       "        text-align: right;\n",
       "    }\n",
       "</style>\n",
       "<table border=\"1\" class=\"dataframe\">\n",
       "  <thead>\n",
       "    <tr style=\"text-align: right;\">\n",
       "      <th></th>\n",
       "      <th>count</th>\n",
       "      <th>mean</th>\n",
       "      <th>std</th>\n",
       "      <th>min</th>\n",
       "      <th>25%</th>\n",
       "      <th>50%</th>\n",
       "      <th>75%</th>\n",
       "      <th>max</th>\n",
       "    </tr>\n",
       "    <tr>\n",
       "      <th>subreddit</th>\n",
       "      <th></th>\n",
       "      <th></th>\n",
       "      <th></th>\n",
       "      <th></th>\n",
       "      <th></th>\n",
       "      <th></th>\n",
       "      <th></th>\n",
       "      <th></th>\n",
       "    </tr>\n",
       "  </thead>\n",
       "  <tbody>\n",
       "    <tr>\n",
       "      <th>0</th>\n",
       "      <td>1351.0</td>\n",
       "      <td>57.470022</td>\n",
       "      <td>86.834285</td>\n",
       "      <td>2.0</td>\n",
       "      <td>23.0</td>\n",
       "      <td>40.0</td>\n",
       "      <td>71.0</td>\n",
       "      <td>1307.0</td>\n",
       "    </tr>\n",
       "    <tr>\n",
       "      <th>1</th>\n",
       "      <td>1313.0</td>\n",
       "      <td>67.987814</td>\n",
       "      <td>79.474119</td>\n",
       "      <td>2.0</td>\n",
       "      <td>26.0</td>\n",
       "      <td>48.0</td>\n",
       "      <td>84.0</td>\n",
       "      <td>1176.0</td>\n",
       "    </tr>\n",
       "  </tbody>\n",
       "</table>\n",
       "</div>"
      ],
      "text/plain": [
       "            count       mean        std  min   25%   50%   75%     max\n",
       "subreddit                                                             \n",
       "0          1351.0  57.470022  86.834285  2.0  23.0  40.0  71.0  1307.0\n",
       "1          1313.0  67.987814  79.474119  2.0  26.0  48.0  84.0  1176.0"
      ]
     },
     "execution_count": 1038,
     "metadata": {},
     "output_type": "execute_result"
    }
   ],
   "source": [
    "df.groupby('subreddit')['text_length'].describe()"
   ]
  },
  {
   "cell_type": "code",
   "execution_count": 1039,
   "metadata": {},
   "outputs": [],
   "source": [
    "df['question'] = [contractions.fix(row) for row in df['question']]\n",
    "df['conversation'] = [contractions.fix(row) for row in df['conversation']]"
   ]
  },
  {
   "cell_type": "code",
   "execution_count": 1040,
   "metadata": {},
   "outputs": [
    {
     "data": {
      "text/plain": [
       "id                     0\n",
       "title                  0\n",
       "num_comments           0\n",
       "body                   0\n",
       "num_upvotes            0\n",
       "time_posted            0\n",
       "time_now               0\n",
       "time_delta             0\n",
       "subreddit              0\n",
       "top_comment            0\n",
       "text_length            0\n",
       "comment_length         0\n",
       "title_length           0\n",
       "question               0\n",
       "question_length        0\n",
       "conversation           0\n",
       "conversation_length    0\n",
       "dtype: int64"
      ]
     },
     "execution_count": 1040,
     "metadata": {},
     "output_type": "execute_result"
    }
   ],
   "source": [
    "df.isna().sum()"
   ]
  },
  {
   "cell_type": "code",
   "execution_count": 1041,
   "metadata": {},
   "outputs": [],
   "source": [
    "#reset the index\n",
    "df = df.reset_index(drop = True)"
   ]
  },
  {
   "cell_type": "markdown",
   "metadata": {},
   "source": [
    "# POS in Subreddit Posts"
   ]
  },
  {
   "cell_type": "code",
   "execution_count": 1042,
   "metadata": {},
   "outputs": [],
   "source": [
    "# make a list of parts of speech for only commments\n",
    "comment_pos_for_df = df.top_comment.map(lambda x: Counter([word.pos_ for\n",
    "                                                           word in nlp(x)]))"
   ]
  },
  {
   "cell_type": "code",
   "execution_count": 1043,
   "metadata": {},
   "outputs": [],
   "source": [
    "# make keys for parts of speech by conversation and comment\n",
    "\n",
    "comment_all_pos = list(set([key for pos_counter in comment_pos_for_df for\n",
    "                            key in pos_counter.keys()]))"
   ]
  },
  {
   "cell_type": "code",
   "execution_count": 1044,
   "metadata": {},
   "outputs": [],
   "source": [
    "for pos in comment_all_pos:\n",
    "    df[pos+'_comment'] = 0"
   ]
  },
  {
   "cell_type": "code",
   "execution_count": 1045,
   "metadata": {},
   "outputs": [
    {
     "data": {
      "text/html": [
       "<div>\n",
       "<style scoped>\n",
       "    .dataframe tbody tr th:only-of-type {\n",
       "        vertical-align: middle;\n",
       "    }\n",
       "\n",
       "    .dataframe tbody tr th {\n",
       "        vertical-align: top;\n",
       "    }\n",
       "\n",
       "    .dataframe thead th {\n",
       "        text-align: right;\n",
       "    }\n",
       "</style>\n",
       "<table border=\"1\" class=\"dataframe\">\n",
       "  <thead>\n",
       "    <tr style=\"text-align: right;\">\n",
       "      <th></th>\n",
       "      <th>id</th>\n",
       "      <th>title</th>\n",
       "      <th>num_comments</th>\n",
       "      <th>body</th>\n",
       "      <th>num_upvotes</th>\n",
       "      <th>time_posted</th>\n",
       "      <th>time_now</th>\n",
       "      <th>time_delta</th>\n",
       "      <th>subreddit</th>\n",
       "      <th>top_comment</th>\n",
       "      <th>...</th>\n",
       "      <th>X_comment</th>\n",
       "      <th>PROPN_comment</th>\n",
       "      <th>DET_comment</th>\n",
       "      <th>PUNCT_comment</th>\n",
       "      <th>CCONJ_comment</th>\n",
       "      <th>PRON_comment</th>\n",
       "      <th>SYM_comment</th>\n",
       "      <th>INTJ_comment</th>\n",
       "      <th>NOUN_comment</th>\n",
       "      <th>ADP_comment</th>\n",
       "    </tr>\n",
       "  </thead>\n",
       "  <tbody>\n",
       "    <tr>\n",
       "      <th>0</th>\n",
       "      <td>nb0592</td>\n",
       "      <td>how common is it to not have your country's mo...</td>\n",
       "      <td>3</td>\n",
       "      <td>/r/titlegoretaken spain as a whole, the most w...</td>\n",
       "      <td>3</td>\n",
       "      <td>2021-05-12 21:37:16</td>\n",
       "      <td>2021-05-13 01:20:57.717158</td>\n",
       "      <td>0 days 03:43:41.717163</td>\n",
       "      <td>1</td>\n",
       "      <td>About 40% of the population speaks French. Inc...</td>\n",
       "      <td>...</td>\n",
       "      <td>0.0</td>\n",
       "      <td>0.027778</td>\n",
       "      <td>0.055556</td>\n",
       "      <td>0.083333</td>\n",
       "      <td>0.027778</td>\n",
       "      <td>0.055556</td>\n",
       "      <td>0.0</td>\n",
       "      <td>0.000000</td>\n",
       "      <td>0.250000</td>\n",
       "      <td>0.083333</td>\n",
       "    </tr>\n",
       "    <tr>\n",
       "      <th>1</th>\n",
       "      <td>nb3wei</td>\n",
       "      <td>most popular fast food restaurant/take-away?</td>\n",
       "      <td>14</td>\n",
       "      <td>hey guys i’m not from usa but i have seen many...</td>\n",
       "      <td>3</td>\n",
       "      <td>2021-05-13 00:31:12</td>\n",
       "      <td>2021-05-13 01:20:57.864588</td>\n",
       "      <td>0 days 00:49:45.864594</td>\n",
       "      <td>0</td>\n",
       "      <td>McDonalds, Subway and Starbucks are probably t...</td>\n",
       "      <td>...</td>\n",
       "      <td>0.0</td>\n",
       "      <td>0.061404</td>\n",
       "      <td>0.096491</td>\n",
       "      <td>0.078947</td>\n",
       "      <td>0.070175</td>\n",
       "      <td>0.078947</td>\n",
       "      <td>0.0</td>\n",
       "      <td>0.000000</td>\n",
       "      <td>0.078947</td>\n",
       "      <td>0.087719</td>\n",
       "    </tr>\n",
       "    <tr>\n",
       "      <th>2</th>\n",
       "      <td>nb339e</td>\n",
       "      <td>is it true that you guys don't like/go to mcdo...</td>\n",
       "      <td>55</td>\n",
       "      <td>here in my country they're one of the most pop...</td>\n",
       "      <td>3</td>\n",
       "      <td>2021-05-12 23:52:33</td>\n",
       "      <td>2021-05-13 01:20:58.146242</td>\n",
       "      <td>0 days 01:28:25.146249</td>\n",
       "      <td>0</td>\n",
       "      <td>It’s not my first choice by far. I’d rather go...</td>\n",
       "      <td>...</td>\n",
       "      <td>0.0</td>\n",
       "      <td>0.190476</td>\n",
       "      <td>0.000000</td>\n",
       "      <td>0.095238</td>\n",
       "      <td>0.000000</td>\n",
       "      <td>0.142857</td>\n",
       "      <td>0.0</td>\n",
       "      <td>0.000000</td>\n",
       "      <td>0.047619</td>\n",
       "      <td>0.142857</td>\n",
       "    </tr>\n",
       "    <tr>\n",
       "      <th>3</th>\n",
       "      <td>nb2x64</td>\n",
       "      <td>why were football fans so upset by the europea...</td>\n",
       "      <td>3</td>\n",
       "      <td>it seemed to me like it would increase the lev...</td>\n",
       "      <td>0</td>\n",
       "      <td>2021-05-12 23:44:35</td>\n",
       "      <td>2021-05-13 01:20:58.274452</td>\n",
       "      <td>0 days 01:36:23.274458</td>\n",
       "      <td>1</td>\n",
       "      <td>Cause fans don\\'t want \"top-notch matches\" in ...</td>\n",
       "      <td>...</td>\n",
       "      <td>0.0</td>\n",
       "      <td>0.052910</td>\n",
       "      <td>0.121693</td>\n",
       "      <td>0.142857</td>\n",
       "      <td>0.031746</td>\n",
       "      <td>0.047619</td>\n",
       "      <td>0.0</td>\n",
       "      <td>0.005291</td>\n",
       "      <td>0.137566</td>\n",
       "      <td>0.095238</td>\n",
       "    </tr>\n",
       "    <tr>\n",
       "      <th>4</th>\n",
       "      <td>nb0xx6</td>\n",
       "      <td>why do people stick four fingers out?</td>\n",
       "      <td>29</td>\n",
       "      <td>usually it's people in a lifted truck who do i...</td>\n",
       "      <td>1</td>\n",
       "      <td>2021-05-12 22:13:39</td>\n",
       "      <td>2021-05-13 01:20:58.525647</td>\n",
       "      <td>0 days 03:07:19.525654</td>\n",
       "      <td>0</td>\n",
       "      <td>Are you talking about waving?  Do we seriously...</td>\n",
       "      <td>...</td>\n",
       "      <td>0.0</td>\n",
       "      <td>0.000000</td>\n",
       "      <td>0.000000</td>\n",
       "      <td>0.125000</td>\n",
       "      <td>0.000000</td>\n",
       "      <td>0.125000</td>\n",
       "      <td>0.0</td>\n",
       "      <td>0.000000</td>\n",
       "      <td>0.000000</td>\n",
       "      <td>0.062500</td>\n",
       "    </tr>\n",
       "  </tbody>\n",
       "</table>\n",
       "<p>5 rows × 35 columns</p>\n",
       "</div>"
      ],
      "text/plain": [
       "       id                                              title  num_comments  \\\n",
       "0  nb0592  how common is it to not have your country's mo...             3   \n",
       "1  nb3wei       most popular fast food restaurant/take-away?            14   \n",
       "2  nb339e  is it true that you guys don't like/go to mcdo...            55   \n",
       "3  nb2x64  why were football fans so upset by the europea...             3   \n",
       "4  nb0xx6              why do people stick four fingers out?            29   \n",
       "\n",
       "                                                body  num_upvotes  \\\n",
       "0  /r/titlegoretaken spain as a whole, the most w...            3   \n",
       "1  hey guys i’m not from usa but i have seen many...            3   \n",
       "2  here in my country they're one of the most pop...            3   \n",
       "3  it seemed to me like it would increase the lev...            0   \n",
       "4  usually it's people in a lifted truck who do i...            1   \n",
       "\n",
       "           time_posted                    time_now              time_delta  \\\n",
       "0  2021-05-12 21:37:16  2021-05-13 01:20:57.717158  0 days 03:43:41.717163   \n",
       "1  2021-05-13 00:31:12  2021-05-13 01:20:57.864588  0 days 00:49:45.864594   \n",
       "2  2021-05-12 23:52:33  2021-05-13 01:20:58.146242  0 days 01:28:25.146249   \n",
       "3  2021-05-12 23:44:35  2021-05-13 01:20:58.274452  0 days 01:36:23.274458   \n",
       "4  2021-05-12 22:13:39  2021-05-13 01:20:58.525647  0 days 03:07:19.525654   \n",
       "\n",
       "   subreddit                                        top_comment  ...  \\\n",
       "0          1  About 40% of the population speaks French. Inc...  ...   \n",
       "1          0  McDonalds, Subway and Starbucks are probably t...  ...   \n",
       "2          0  It’s not my first choice by far. I’d rather go...  ...   \n",
       "3          1  Cause fans don\\'t want \"top-notch matches\" in ...  ...   \n",
       "4          0  Are you talking about waving?  Do we seriously...  ...   \n",
       "\n",
       "   X_comment  PROPN_comment  DET_comment PUNCT_comment  CCONJ_comment  \\\n",
       "0        0.0       0.027778     0.055556      0.083333       0.027778   \n",
       "1        0.0       0.061404     0.096491      0.078947       0.070175   \n",
       "2        0.0       0.190476     0.000000      0.095238       0.000000   \n",
       "3        0.0       0.052910     0.121693      0.142857       0.031746   \n",
       "4        0.0       0.000000     0.000000      0.125000       0.000000   \n",
       "\n",
       "  PRON_comment  SYM_comment  INTJ_comment  NOUN_comment  ADP_comment  \n",
       "0     0.055556          0.0      0.000000      0.250000     0.083333  \n",
       "1     0.078947          0.0      0.000000      0.078947     0.087719  \n",
       "2     0.142857          0.0      0.000000      0.047619     0.142857  \n",
       "3     0.047619          0.0      0.005291      0.137566     0.095238  \n",
       "4     0.125000          0.0      0.000000      0.000000     0.062500  \n",
       "\n",
       "[5 rows x 35 columns]"
      ]
     },
     "execution_count": 1045,
     "metadata": {},
     "output_type": "execute_result"
    }
   ],
   "source": [
    "# comment pos\n",
    "\n",
    "for i, row in enumerate(comment_pos_for_df):\n",
    "    \n",
    "    total = sum([item[1] for item in row.items()])\n",
    "    for item in row.items():\n",
    "        name = item[0] + '_comment'\n",
    "        df.loc[i, name] = item[1]/total\n",
    "        \n",
    "df.head()"
   ]
  },
  {
   "cell_type": "code",
   "execution_count": 1046,
   "metadata": {},
   "outputs": [
    {
     "data": {
      "text/plain": [
       "Index(['id', 'title', 'num_comments', 'body', 'num_upvotes', 'time_posted',\n",
       "       'time_now', 'time_delta', 'subreddit', 'top_comment', 'text_length',\n",
       "       'comment_length', 'title_length', 'question', 'question_length',\n",
       "       'conversation', 'conversation_length', 'AUX_comment', 'NUM_comment',\n",
       "       'ADV_comment', 'SCONJ_comment', 'VERB_comment', 'ADJ_comment',\n",
       "       'SPACE_comment', 'PART_comment', 'X_comment', 'PROPN_comment',\n",
       "       'DET_comment', 'PUNCT_comment', 'CCONJ_comment', 'PRON_comment',\n",
       "       'SYM_comment', 'INTJ_comment', 'NOUN_comment', 'ADP_comment'],\n",
       "      dtype='object')"
      ]
     },
     "execution_count": 1046,
     "metadata": {},
     "output_type": "execute_result"
    }
   ],
   "source": [
    "df.columns"
   ]
  },
  {
   "cell_type": "code",
   "execution_count": 1047,
   "metadata": {},
   "outputs": [
    {
     "data": {
      "text/plain": [
       "RangeIndex(start=0, stop=2664, step=1)"
      ]
     },
     "execution_count": 1047,
     "metadata": {},
     "output_type": "execute_result"
    }
   ],
   "source": [
    "df.index"
   ]
  },
  {
   "cell_type": "code",
   "execution_count": 1048,
   "metadata": {},
   "outputs": [
    {
     "data": {
      "text/plain": [
       "0"
      ]
     },
     "execution_count": 1048,
     "metadata": {},
     "output_type": "execute_result"
    }
   ],
   "source": [
    "df.isna().sum().sum()"
   ]
  },
  {
   "cell_type": "code",
   "execution_count": 1049,
   "metadata": {},
   "outputs": [
    {
     "data": {
      "text/plain": [
       "num_comments          -0.118546\n",
       "AUX_comment           -0.086245\n",
       "PRON_comment          -0.076416\n",
       "num_upvotes           -0.061094\n",
       "PART_comment          -0.052347\n",
       "INTJ_comment          -0.048305\n",
       "VERB_comment          -0.032200\n",
       "PROPN_comment         -0.021813\n",
       "SCONJ_comment         -0.017501\n",
       "X_comment              0.000867\n",
       "NOUN_comment           0.004120\n",
       "CCONJ_comment          0.014523\n",
       "DET_comment            0.019473\n",
       "ADV_comment            0.025920\n",
       "SPACE_comment          0.033663\n",
       "ADP_comment            0.040777\n",
       "NUM_comment            0.043588\n",
       "title_length           0.046626\n",
       "ADJ_comment            0.051225\n",
       "SYM_comment            0.052152\n",
       "question_length        0.056799\n",
       "text_length            0.063033\n",
       "PUNCT_comment          0.087395\n",
       "conversation_length    0.109117\n",
       "comment_length         0.115056\n",
       "subreddit              1.000000\n",
       "Name: subreddit, dtype: float64"
      ]
     },
     "execution_count": 1049,
     "metadata": {},
     "output_type": "execute_result"
    }
   ],
   "source": [
    "# exploring correlations to the df \n",
    "\n",
    "df.corr()['subreddit'].sort_values()"
   ]
  },
  {
   "cell_type": "markdown",
   "metadata": {},
   "source": [
    "# Exploring Features in DF "
   ]
  },
  {
   "cell_type": "code",
   "execution_count": 1050,
   "metadata": {},
   "outputs": [],
   "source": [
    "df.to_csv('./progress_datasets/df1.csv', index = False)"
   ]
  },
  {
   "cell_type": "code",
   "execution_count": 1051,
   "metadata": {},
   "outputs": [],
   "source": [
    "df1 = pd.read_csv('./progress_datasets/df1.csv')"
   ]
  },
  {
   "cell_type": "code",
   "execution_count": 1052,
   "metadata": {},
   "outputs": [
    {
     "data": {
      "text/plain": [
       "Text(0.5, 1.0, 'Conversation Length by Subreddit')"
      ]
     },
     "execution_count": 1052,
     "metadata": {},
     "output_type": "execute_result"
    },
    {
     "data": {
      "image/png": "[encoded data removed]",
      "text/plain": [
       "<Figure size 720x576 with 1 Axes>"
      ]
     },
     "metadata": {},
     "output_type": "display_data"
    }
   ],
   "source": [
    "plt.figure(figsize = (10, 8))\n",
    "sns.boxplot(y = df1['conversation_length'], \\\n",
    "            x = df1['subreddit']).set_title('Conversation Length by Subreddit')"
   ]
  },
  {
   "cell_type": "code",
   "execution_count": 1053,
   "metadata": {},
   "outputs": [
    {
     "data": {
      "text/plain": [
       "Text(0.5, 1.0, 'Adj Use by Subreddit Comments')"
      ]
     },
     "execution_count": 1053,
     "metadata": {},
     "output_type": "execute_result"
    },
    {
     "data": {
      "image/png": "[encoded data removed]",
      "text/plain": [
       "<Figure size 720x576 with 1 Axes>"
      ]
     },
     "metadata": {},
     "output_type": "display_data"
    }
   ],
   "source": [
    "plt.figure(figsize = (10, 8))\n",
    "sns.boxplot(y = df1['ADJ_comment'], \\\n",
    "            x = df1['subreddit']).set_title('Adj Use by Subreddit Comments')"
   ]
  },
  {
   "cell_type": "code",
   "execution_count": 1054,
   "metadata": {},
   "outputs": [
    {
     "data": {
      "text/plain": [
       "Text(0.5, 1.0, 'Adp Use by Subreddit Comments')"
      ]
     },
     "execution_count": 1054,
     "metadata": {},
     "output_type": "execute_result"
    },
    {
     "data": {
      "image/png": "[encoded data removed]",
      "text/plain": [
       "<Figure size 720x576 with 1 Axes>"
      ]
     },
     "metadata": {},
     "output_type": "display_data"
    }
   ],
   "source": [
    "plt.figure(figsize = (10, 8))\n",
    "sns.boxplot(y = df1['ADP_comment'], \\\n",
    "            x = df1['subreddit']).set_title('Adp Use by Subreddit Comments')"
   ]
  },
  {
   "cell_type": "code",
   "execution_count": 1055,
   "metadata": {},
   "outputs": [
    {
     "data": {
      "text/plain": [
       "Text(0.5, 1.0, 'Noun Use by Subreddit Comments')"
      ]
     },
     "execution_count": 1055,
     "metadata": {},
     "output_type": "execute_result"
    },
    {
     "data": {
      "image/png": "[encoded data removed]",
      "text/plain": [
       "<Figure size 720x576 with 1 Axes>"
      ]
     },
     "metadata": {},
     "output_type": "display_data"
    }
   ],
   "source": [
    "plt.figure(figsize = (10, 8))\n",
    "sns.boxplot(y = df1['NOUN_comment'],\\\n",
    "            x = df1['subreddit']).set_title('Noun Use by Subreddit Comments')"
   ]
  },
  {
   "cell_type": "code",
   "execution_count": 1056,
   "metadata": {},
   "outputs": [
    {
     "data": {
      "text/plain": [
       "Text(0.5, 1.0, 'Comments by Subreddit')"
      ]
     },
     "execution_count": 1056,
     "metadata": {},
     "output_type": "execute_result"
    },
    {
     "data": {
      "image/png": "[encoded data removed]",
      "text/plain": [
       "<Figure size 720x576 with 1 Axes>"
      ]
     },
     "metadata": {},
     "output_type": "display_data"
    }
   ],
   "source": [
    "plt.figure(figsize = (10, 8))\n",
    "sns.boxplot(y = df1['num_comments'],\\\n",
    "            x = df1['subreddit']).set_title('Comments by Subreddit')"
   ]
  },
  {
   "cell_type": "code",
   "execution_count": 1057,
   "metadata": {},
   "outputs": [
    {
     "data": {
      "text/plain": [
       "Text(0.5, 1.0, 'Upvotes by Subreddit')"
      ]
     },
     "execution_count": 1057,
     "metadata": {},
     "output_type": "execute_result"
    },
    {
     "data": {
      "image/png": "[encoded data removed]",
      "text/plain": [
       "<Figure size 720x576 with 1 Axes>"
      ]
     },
     "metadata": {},
     "output_type": "display_data"
    }
   ],
   "source": [
    "plt.figure(figsize = (10, 8))\n",
    "sns.boxplot(y = df1['num_upvotes'],\\\n",
    "            x = df1['subreddit']).set_title('Upvotes by Subreddit')"
   ]
  },
  {
   "cell_type": "markdown",
   "metadata": {},
   "source": [
    "# Lemming the Text"
   ]
  },
  {
   "cell_type": "code",
   "execution_count": 1058,
   "metadata": {},
   "outputs": [],
   "source": [
    "# lemmatize the words \n",
    "\n",
    "lemmatizer = WordNetLemmatizer()\n",
    "\n",
    "\n",
    "#lemmatize words (exclude war and was as they were being lemmatized incorrectly)\n",
    "df1['lemmed_conversation'] = [' '.join([word.text if (word.text == 'was') | \\\n",
    "                                        (word.text == 'war') else\n",
    "    lemmatizer.lemmatize(word.text) for word in nlp(t)]) for t in df1.conversation]\n",
    "\n",
    "# https://stackoverflow.com/questions/59567357/lemmatize-tokenised-column-in-pandas"
   ]
  },
  {
   "cell_type": "code",
   "execution_count": 1059,
   "metadata": {},
   "outputs": [],
   "source": [
    "df1.to_csv('./progress_datasets/lemmed_df.csv', index = False)"
   ]
  },
  {
   "cell_type": "code",
   "execution_count": 1060,
   "metadata": {},
   "outputs": [],
   "source": [
    "df2 = pd.read_csv('./progress_datasets/lemmed_df.csv')"
   ]
  },
  {
   "cell_type": "code",
   "execution_count": 1061,
   "metadata": {},
   "outputs": [
    {
     "data": {
      "text/html": [
       "<div>\n",
       "<style scoped>\n",
       "    .dataframe tbody tr th:only-of-type {\n",
       "        vertical-align: middle;\n",
       "    }\n",
       "\n",
       "    .dataframe tbody tr th {\n",
       "        vertical-align: top;\n",
       "    }\n",
       "\n",
       "    .dataframe thead th {\n",
       "        text-align: right;\n",
       "    }\n",
       "</style>\n",
       "<table border=\"1\" class=\"dataframe\">\n",
       "  <thead>\n",
       "    <tr style=\"text-align: right;\">\n",
       "      <th></th>\n",
       "      <th>id</th>\n",
       "      <th>title</th>\n",
       "      <th>num_comments</th>\n",
       "      <th>body</th>\n",
       "      <th>num_upvotes</th>\n",
       "      <th>time_posted</th>\n",
       "      <th>time_now</th>\n",
       "      <th>time_delta</th>\n",
       "      <th>subreddit</th>\n",
       "      <th>top_comment</th>\n",
       "      <th>...</th>\n",
       "      <th>PROPN_comment</th>\n",
       "      <th>DET_comment</th>\n",
       "      <th>PUNCT_comment</th>\n",
       "      <th>CCONJ_comment</th>\n",
       "      <th>PRON_comment</th>\n",
       "      <th>SYM_comment</th>\n",
       "      <th>INTJ_comment</th>\n",
       "      <th>NOUN_comment</th>\n",
       "      <th>ADP_comment</th>\n",
       "      <th>lemmed_conversation</th>\n",
       "    </tr>\n",
       "  </thead>\n",
       "  <tbody>\n",
       "    <tr>\n",
       "      <th>0</th>\n",
       "      <td>nb0592</td>\n",
       "      <td>how common is it to not have your country's mo...</td>\n",
       "      <td>3</td>\n",
       "      <td>/r/titlegoretaken spain as a whole, the most w...</td>\n",
       "      <td>3</td>\n",
       "      <td>2021-05-12 21:37:16</td>\n",
       "      <td>2021-05-13 01:20:57.717158</td>\n",
       "      <td>0 days 03:43:41.717163</td>\n",
       "      <td>1</td>\n",
       "      <td>About 40% of the population speaks French. Inc...</td>\n",
       "      <td>...</td>\n",
       "      <td>0.027778</td>\n",
       "      <td>0.055556</td>\n",
       "      <td>0.083333</td>\n",
       "      <td>0.027778</td>\n",
       "      <td>0.055556</td>\n",
       "      <td>0.0</td>\n",
       "      <td>0.000000</td>\n",
       "      <td>0.250000</td>\n",
       "      <td>0.083333</td>\n",
       "      <td>how common is it to not have your country 's m...</td>\n",
       "    </tr>\n",
       "    <tr>\n",
       "      <th>1</th>\n",
       "      <td>nb3wei</td>\n",
       "      <td>most popular fast food restaurant/take-away?</td>\n",
       "      <td>14</td>\n",
       "      <td>hey guys i’m not from usa but i have seen many...</td>\n",
       "      <td>3</td>\n",
       "      <td>2021-05-13 00:31:12</td>\n",
       "      <td>2021-05-13 01:20:57.864588</td>\n",
       "      <td>0 days 00:49:45.864594</td>\n",
       "      <td>0</td>\n",
       "      <td>McDonalds, Subway and Starbucks are probably t...</td>\n",
       "      <td>...</td>\n",
       "      <td>0.061404</td>\n",
       "      <td>0.096491</td>\n",
       "      <td>0.078947</td>\n",
       "      <td>0.070175</td>\n",
       "      <td>0.078947</td>\n",
       "      <td>0.0</td>\n",
       "      <td>0.000000</td>\n",
       "      <td>0.078947</td>\n",
       "      <td>0.087719</td>\n",
       "      <td>most popular fast food restaurant / take - awa...</td>\n",
       "    </tr>\n",
       "    <tr>\n",
       "      <th>2</th>\n",
       "      <td>nb339e</td>\n",
       "      <td>is it true that you guys don't like/go to mcdo...</td>\n",
       "      <td>55</td>\n",
       "      <td>here in my country they're one of the most pop...</td>\n",
       "      <td>3</td>\n",
       "      <td>2021-05-12 23:52:33</td>\n",
       "      <td>2021-05-13 01:20:58.146242</td>\n",
       "      <td>0 days 01:28:25.146249</td>\n",
       "      <td>0</td>\n",
       "      <td>It’s not my first choice by far. I’d rather go...</td>\n",
       "      <td>...</td>\n",
       "      <td>0.190476</td>\n",
       "      <td>0.000000</td>\n",
       "      <td>0.095238</td>\n",
       "      <td>0.000000</td>\n",
       "      <td>0.142857</td>\n",
       "      <td>0.0</td>\n",
       "      <td>0.000000</td>\n",
       "      <td>0.047619</td>\n",
       "      <td>0.142857</td>\n",
       "      <td>is it true that you guy do not like / go to mc...</td>\n",
       "    </tr>\n",
       "    <tr>\n",
       "      <th>3</th>\n",
       "      <td>nb2x64</td>\n",
       "      <td>why were football fans so upset by the europea...</td>\n",
       "      <td>3</td>\n",
       "      <td>it seemed to me like it would increase the lev...</td>\n",
       "      <td>0</td>\n",
       "      <td>2021-05-12 23:44:35</td>\n",
       "      <td>2021-05-13 01:20:58.274452</td>\n",
       "      <td>0 days 01:36:23.274458</td>\n",
       "      <td>1</td>\n",
       "      <td>Cause fans don\\'t want \"top-notch matches\" in ...</td>\n",
       "      <td>...</td>\n",
       "      <td>0.052910</td>\n",
       "      <td>0.121693</td>\n",
       "      <td>0.142857</td>\n",
       "      <td>0.031746</td>\n",
       "      <td>0.047619</td>\n",
       "      <td>0.0</td>\n",
       "      <td>0.005291</td>\n",
       "      <td>0.137566</td>\n",
       "      <td>0.095238</td>\n",
       "      <td>why were football fan so upset by the european...</td>\n",
       "    </tr>\n",
       "    <tr>\n",
       "      <th>4</th>\n",
       "      <td>nb0xx6</td>\n",
       "      <td>why do people stick four fingers out?</td>\n",
       "      <td>29</td>\n",
       "      <td>usually it's people in a lifted truck who do i...</td>\n",
       "      <td>1</td>\n",
       "      <td>2021-05-12 22:13:39</td>\n",
       "      <td>2021-05-13 01:20:58.525647</td>\n",
       "      <td>0 days 03:07:19.525654</td>\n",
       "      <td>0</td>\n",
       "      <td>Are you talking about waving?  Do we seriously...</td>\n",
       "      <td>...</td>\n",
       "      <td>0.000000</td>\n",
       "      <td>0.000000</td>\n",
       "      <td>0.125000</td>\n",
       "      <td>0.000000</td>\n",
       "      <td>0.125000</td>\n",
       "      <td>0.0</td>\n",
       "      <td>0.000000</td>\n",
       "      <td>0.000000</td>\n",
       "      <td>0.062500</td>\n",
       "      <td>why do people stick four finger out ? usually ...</td>\n",
       "    </tr>\n",
       "  </tbody>\n",
       "</table>\n",
       "<p>5 rows × 36 columns</p>\n",
       "</div>"
      ],
      "text/plain": [
       "       id                                              title  num_comments  \\\n",
       "0  nb0592  how common is it to not have your country's mo...             3   \n",
       "1  nb3wei       most popular fast food restaurant/take-away?            14   \n",
       "2  nb339e  is it true that you guys don't like/go to mcdo...            55   \n",
       "3  nb2x64  why were football fans so upset by the europea...             3   \n",
       "4  nb0xx6              why do people stick four fingers out?            29   \n",
       "\n",
       "                                                body  num_upvotes  \\\n",
       "0  /r/titlegoretaken spain as a whole, the most w...            3   \n",
       "1  hey guys i’m not from usa but i have seen many...            3   \n",
       "2  here in my country they're one of the most pop...            3   \n",
       "3  it seemed to me like it would increase the lev...            0   \n",
       "4  usually it's people in a lifted truck who do i...            1   \n",
       "\n",
       "           time_posted                    time_now              time_delta  \\\n",
       "0  2021-05-12 21:37:16  2021-05-13 01:20:57.717158  0 days 03:43:41.717163   \n",
       "1  2021-05-13 00:31:12  2021-05-13 01:20:57.864588  0 days 00:49:45.864594   \n",
       "2  2021-05-12 23:52:33  2021-05-13 01:20:58.146242  0 days 01:28:25.146249   \n",
       "3  2021-05-12 23:44:35  2021-05-13 01:20:58.274452  0 days 01:36:23.274458   \n",
       "4  2021-05-12 22:13:39  2021-05-13 01:20:58.525647  0 days 03:07:19.525654   \n",
       "\n",
       "   subreddit                                        top_comment  ...  \\\n",
       "0          1  About 40% of the population speaks French. Inc...  ...   \n",
       "1          0  McDonalds, Subway and Starbucks are probably t...  ...   \n",
       "2          0  It’s not my first choice by far. I’d rather go...  ...   \n",
       "3          1  Cause fans don\\'t want \"top-notch matches\" in ...  ...   \n",
       "4          0  Are you talking about waving?  Do we seriously...  ...   \n",
       "\n",
       "   PROPN_comment  DET_comment  PUNCT_comment CCONJ_comment  PRON_comment  \\\n",
       "0       0.027778     0.055556       0.083333      0.027778      0.055556   \n",
       "1       0.061404     0.096491       0.078947      0.070175      0.078947   \n",
       "2       0.190476     0.000000       0.095238      0.000000      0.142857   \n",
       "3       0.052910     0.121693       0.142857      0.031746      0.047619   \n",
       "4       0.000000     0.000000       0.125000      0.000000      0.125000   \n",
       "\n",
       "  SYM_comment  INTJ_comment  NOUN_comment  ADP_comment  \\\n",
       "0         0.0      0.000000      0.250000     0.083333   \n",
       "1         0.0      0.000000      0.078947     0.087719   \n",
       "2         0.0      0.000000      0.047619     0.142857   \n",
       "3         0.0      0.005291      0.137566     0.095238   \n",
       "4         0.0      0.000000      0.000000     0.062500   \n",
       "\n",
       "                                 lemmed_conversation  \n",
       "0  how common is it to not have your country 's m...  \n",
       "1  most popular fast food restaurant / take - awa...  \n",
       "2  is it true that you guy do not like / go to mc...  \n",
       "3  why were football fan so upset by the european...  \n",
       "4  why do people stick four finger out ? usually ...  \n",
       "\n",
       "[5 rows x 36 columns]"
      ]
     },
     "execution_count": 1061,
     "metadata": {},
     "output_type": "execute_result"
    }
   ],
   "source": [
    "df2.head()"
   ]
  },
  {
   "cell_type": "code",
   "execution_count": 1062,
   "metadata": {},
   "outputs": [
    {
     "data": {
      "text/html": [
       "<div>\n",
       "<style scoped>\n",
       "    .dataframe tbody tr th:only-of-type {\n",
       "        vertical-align: middle;\n",
       "    }\n",
       "\n",
       "    .dataframe tbody tr th {\n",
       "        vertical-align: top;\n",
       "    }\n",
       "\n",
       "    .dataframe thead th {\n",
       "        text-align: right;\n",
       "    }\n",
       "</style>\n",
       "<table border=\"1\" class=\"dataframe\">\n",
       "  <thead>\n",
       "    <tr style=\"text-align: right;\">\n",
       "      <th></th>\n",
       "      <th>actually</th>\n",
       "      <th>amendment</th>\n",
       "      <th>area</th>\n",
       "      <th>bad</th>\n",
       "      <th>best</th>\n",
       "      <th>better</th>\n",
       "      <th>big</th>\n",
       "      <th>called</th>\n",
       "      <th>car</th>\n",
       "      <th>child</th>\n",
       "      <th>...</th>\n",
       "      <th>url</th>\n",
       "      <th>use</th>\n",
       "      <th>used</th>\n",
       "      <th>usually</th>\n",
       "      <th>want</th>\n",
       "      <th>way</th>\n",
       "      <th>word</th>\n",
       "      <th>work</th>\n",
       "      <th>world</th>\n",
       "      <th>year</th>\n",
       "    </tr>\n",
       "  </thead>\n",
       "  <tbody>\n",
       "    <tr>\n",
       "      <th>0</th>\n",
       "      <td>0.000000</td>\n",
       "      <td>0.0</td>\n",
       "      <td>0.000000</td>\n",
       "      <td>0.0</td>\n",
       "      <td>0.000000</td>\n",
       "      <td>0.00000</td>\n",
       "      <td>0.000000</td>\n",
       "      <td>0.00000</td>\n",
       "      <td>0.0</td>\n",
       "      <td>0.171024</td>\n",
       "      <td>...</td>\n",
       "      <td>0.000000</td>\n",
       "      <td>0.064256</td>\n",
       "      <td>0.0</td>\n",
       "      <td>0.000000</td>\n",
       "      <td>0.000000</td>\n",
       "      <td>0.000000</td>\n",
       "      <td>0.0</td>\n",
       "      <td>0.000000</td>\n",
       "      <td>0.0</td>\n",
       "      <td>0.054868</td>\n",
       "    </tr>\n",
       "    <tr>\n",
       "      <th>1</th>\n",
       "      <td>0.146656</td>\n",
       "      <td>0.0</td>\n",
       "      <td>0.157232</td>\n",
       "      <td>0.0</td>\n",
       "      <td>0.000000</td>\n",
       "      <td>0.00000</td>\n",
       "      <td>0.000000</td>\n",
       "      <td>0.00000</td>\n",
       "      <td>0.0</td>\n",
       "      <td>0.000000</td>\n",
       "      <td>...</td>\n",
       "      <td>0.000000</td>\n",
       "      <td>0.000000</td>\n",
       "      <td>0.0</td>\n",
       "      <td>0.150988</td>\n",
       "      <td>0.000000</td>\n",
       "      <td>0.000000</td>\n",
       "      <td>0.0</td>\n",
       "      <td>0.000000</td>\n",
       "      <td>0.0</td>\n",
       "      <td>0.000000</td>\n",
       "    </tr>\n",
       "    <tr>\n",
       "      <th>2</th>\n",
       "      <td>0.000000</td>\n",
       "      <td>0.0</td>\n",
       "      <td>0.000000</td>\n",
       "      <td>0.0</td>\n",
       "      <td>0.000000</td>\n",
       "      <td>0.30084</td>\n",
       "      <td>0.000000</td>\n",
       "      <td>0.00000</td>\n",
       "      <td>0.0</td>\n",
       "      <td>0.000000</td>\n",
       "      <td>...</td>\n",
       "      <td>0.000000</td>\n",
       "      <td>0.000000</td>\n",
       "      <td>0.0</td>\n",
       "      <td>0.000000</td>\n",
       "      <td>0.000000</td>\n",
       "      <td>0.000000</td>\n",
       "      <td>0.0</td>\n",
       "      <td>0.000000</td>\n",
       "      <td>0.0</td>\n",
       "      <td>0.000000</td>\n",
       "    </tr>\n",
       "    <tr>\n",
       "      <th>3</th>\n",
       "      <td>0.000000</td>\n",
       "      <td>0.0</td>\n",
       "      <td>0.000000</td>\n",
       "      <td>0.0</td>\n",
       "      <td>0.612752</td>\n",
       "      <td>0.00000</td>\n",
       "      <td>0.184430</td>\n",
       "      <td>0.00000</td>\n",
       "      <td>0.0</td>\n",
       "      <td>0.000000</td>\n",
       "      <td>...</td>\n",
       "      <td>0.000000</td>\n",
       "      <td>0.000000</td>\n",
       "      <td>0.0</td>\n",
       "      <td>0.184430</td>\n",
       "      <td>0.493001</td>\n",
       "      <td>0.000000</td>\n",
       "      <td>0.0</td>\n",
       "      <td>0.000000</td>\n",
       "      <td>0.0</td>\n",
       "      <td>0.000000</td>\n",
       "    </tr>\n",
       "    <tr>\n",
       "      <th>4</th>\n",
       "      <td>0.000000</td>\n",
       "      <td>0.0</td>\n",
       "      <td>0.000000</td>\n",
       "      <td>0.0</td>\n",
       "      <td>0.000000</td>\n",
       "      <td>0.00000</td>\n",
       "      <td>0.000000</td>\n",
       "      <td>0.00000</td>\n",
       "      <td>0.0</td>\n",
       "      <td>0.000000</td>\n",
       "      <td>...</td>\n",
       "      <td>0.000000</td>\n",
       "      <td>0.000000</td>\n",
       "      <td>0.0</td>\n",
       "      <td>0.653799</td>\n",
       "      <td>0.000000</td>\n",
       "      <td>0.000000</td>\n",
       "      <td>0.0</td>\n",
       "      <td>0.000000</td>\n",
       "      <td>0.0</td>\n",
       "      <td>0.000000</td>\n",
       "    </tr>\n",
       "    <tr>\n",
       "      <th>...</th>\n",
       "      <td>...</td>\n",
       "      <td>...</td>\n",
       "      <td>...</td>\n",
       "      <td>...</td>\n",
       "      <td>...</td>\n",
       "      <td>...</td>\n",
       "      <td>...</td>\n",
       "      <td>...</td>\n",
       "      <td>...</td>\n",
       "      <td>...</td>\n",
       "      <td>...</td>\n",
       "      <td>...</td>\n",
       "      <td>...</td>\n",
       "      <td>...</td>\n",
       "      <td>...</td>\n",
       "      <td>...</td>\n",
       "      <td>...</td>\n",
       "      <td>...</td>\n",
       "      <td>...</td>\n",
       "      <td>...</td>\n",
       "      <td>...</td>\n",
       "    </tr>\n",
       "    <tr>\n",
       "      <th>2659</th>\n",
       "      <td>0.000000</td>\n",
       "      <td>0.0</td>\n",
       "      <td>0.000000</td>\n",
       "      <td>0.0</td>\n",
       "      <td>0.137551</td>\n",
       "      <td>0.00000</td>\n",
       "      <td>0.124203</td>\n",
       "      <td>0.00000</td>\n",
       "      <td>0.0</td>\n",
       "      <td>0.000000</td>\n",
       "      <td>...</td>\n",
       "      <td>0.000000</td>\n",
       "      <td>0.000000</td>\n",
       "      <td>0.0</td>\n",
       "      <td>0.000000</td>\n",
       "      <td>0.110670</td>\n",
       "      <td>0.000000</td>\n",
       "      <td>0.0</td>\n",
       "      <td>0.357401</td>\n",
       "      <td>0.0</td>\n",
       "      <td>0.000000</td>\n",
       "    </tr>\n",
       "    <tr>\n",
       "      <th>2660</th>\n",
       "      <td>0.000000</td>\n",
       "      <td>0.0</td>\n",
       "      <td>0.000000</td>\n",
       "      <td>0.0</td>\n",
       "      <td>0.000000</td>\n",
       "      <td>0.00000</td>\n",
       "      <td>0.000000</td>\n",
       "      <td>0.00000</td>\n",
       "      <td>0.0</td>\n",
       "      <td>0.000000</td>\n",
       "      <td>...</td>\n",
       "      <td>0.000000</td>\n",
       "      <td>0.000000</td>\n",
       "      <td>0.0</td>\n",
       "      <td>0.000000</td>\n",
       "      <td>0.000000</td>\n",
       "      <td>0.000000</td>\n",
       "      <td>0.0</td>\n",
       "      <td>0.000000</td>\n",
       "      <td>0.0</td>\n",
       "      <td>0.422457</td>\n",
       "    </tr>\n",
       "    <tr>\n",
       "      <th>2661</th>\n",
       "      <td>0.000000</td>\n",
       "      <td>0.0</td>\n",
       "      <td>0.000000</td>\n",
       "      <td>0.0</td>\n",
       "      <td>0.000000</td>\n",
       "      <td>0.00000</td>\n",
       "      <td>0.000000</td>\n",
       "      <td>0.00000</td>\n",
       "      <td>0.0</td>\n",
       "      <td>0.000000</td>\n",
       "      <td>...</td>\n",
       "      <td>0.244586</td>\n",
       "      <td>0.000000</td>\n",
       "      <td>0.0</td>\n",
       "      <td>0.000000</td>\n",
       "      <td>0.000000</td>\n",
       "      <td>0.000000</td>\n",
       "      <td>0.0</td>\n",
       "      <td>0.000000</td>\n",
       "      <td>0.0</td>\n",
       "      <td>0.000000</td>\n",
       "    </tr>\n",
       "    <tr>\n",
       "      <th>2662</th>\n",
       "      <td>0.000000</td>\n",
       "      <td>0.0</td>\n",
       "      <td>0.000000</td>\n",
       "      <td>0.0</td>\n",
       "      <td>0.395712</td>\n",
       "      <td>0.00000</td>\n",
       "      <td>0.000000</td>\n",
       "      <td>0.00000</td>\n",
       "      <td>0.0</td>\n",
       "      <td>0.000000</td>\n",
       "      <td>...</td>\n",
       "      <td>0.000000</td>\n",
       "      <td>0.000000</td>\n",
       "      <td>0.0</td>\n",
       "      <td>0.000000</td>\n",
       "      <td>0.000000</td>\n",
       "      <td>0.000000</td>\n",
       "      <td>0.0</td>\n",
       "      <td>0.000000</td>\n",
       "      <td>0.0</td>\n",
       "      <td>0.000000</td>\n",
       "    </tr>\n",
       "    <tr>\n",
       "      <th>2663</th>\n",
       "      <td>0.000000</td>\n",
       "      <td>0.0</td>\n",
       "      <td>0.000000</td>\n",
       "      <td>0.0</td>\n",
       "      <td>0.000000</td>\n",
       "      <td>0.00000</td>\n",
       "      <td>0.000000</td>\n",
       "      <td>0.20969</td>\n",
       "      <td>0.0</td>\n",
       "      <td>0.000000</td>\n",
       "      <td>...</td>\n",
       "      <td>0.000000</td>\n",
       "      <td>0.000000</td>\n",
       "      <td>0.0</td>\n",
       "      <td>0.000000</td>\n",
       "      <td>0.000000</td>\n",
       "      <td>0.530478</td>\n",
       "      <td>0.0</td>\n",
       "      <td>0.000000</td>\n",
       "      <td>0.0</td>\n",
       "      <td>0.154433</td>\n",
       "    </tr>\n",
       "  </tbody>\n",
       "</table>\n",
       "<p>2664 rows × 100 columns</p>\n",
       "</div>"
      ],
      "text/plain": [
       "      actually  amendment      area  bad      best   better       big  \\\n",
       "0     0.000000        0.0  0.000000  0.0  0.000000  0.00000  0.000000   \n",
       "1     0.146656        0.0  0.157232  0.0  0.000000  0.00000  0.000000   \n",
       "2     0.000000        0.0  0.000000  0.0  0.000000  0.30084  0.000000   \n",
       "3     0.000000        0.0  0.000000  0.0  0.612752  0.00000  0.184430   \n",
       "4     0.000000        0.0  0.000000  0.0  0.000000  0.00000  0.000000   \n",
       "...        ...        ...       ...  ...       ...      ...       ...   \n",
       "2659  0.000000        0.0  0.000000  0.0  0.137551  0.00000  0.124203   \n",
       "2660  0.000000        0.0  0.000000  0.0  0.000000  0.00000  0.000000   \n",
       "2661  0.000000        0.0  0.000000  0.0  0.000000  0.00000  0.000000   \n",
       "2662  0.000000        0.0  0.000000  0.0  0.395712  0.00000  0.000000   \n",
       "2663  0.000000        0.0  0.000000  0.0  0.000000  0.00000  0.000000   \n",
       "\n",
       "       called  car     child  ...       url       use  used   usually  \\\n",
       "0     0.00000  0.0  0.171024  ...  0.000000  0.064256   0.0  0.000000   \n",
       "1     0.00000  0.0  0.000000  ...  0.000000  0.000000   0.0  0.150988   \n",
       "2     0.00000  0.0  0.000000  ...  0.000000  0.000000   0.0  0.000000   \n",
       "3     0.00000  0.0  0.000000  ...  0.000000  0.000000   0.0  0.184430   \n",
       "4     0.00000  0.0  0.000000  ...  0.000000  0.000000   0.0  0.653799   \n",
       "...       ...  ...       ...  ...       ...       ...   ...       ...   \n",
       "2659  0.00000  0.0  0.000000  ...  0.000000  0.000000   0.0  0.000000   \n",
       "2660  0.00000  0.0  0.000000  ...  0.000000  0.000000   0.0  0.000000   \n",
       "2661  0.00000  0.0  0.000000  ...  0.244586  0.000000   0.0  0.000000   \n",
       "2662  0.00000  0.0  0.000000  ...  0.000000  0.000000   0.0  0.000000   \n",
       "2663  0.20969  0.0  0.000000  ...  0.000000  0.000000   0.0  0.000000   \n",
       "\n",
       "          want       way  word      work  world      year  \n",
       "0     0.000000  0.000000   0.0  0.000000    0.0  0.054868  \n",
       "1     0.000000  0.000000   0.0  0.000000    0.0  0.000000  \n",
       "2     0.000000  0.000000   0.0  0.000000    0.0  0.000000  \n",
       "3     0.493001  0.000000   0.0  0.000000    0.0  0.000000  \n",
       "4     0.000000  0.000000   0.0  0.000000    0.0  0.000000  \n",
       "...        ...       ...   ...       ...    ...       ...  \n",
       "2659  0.110670  0.000000   0.0  0.357401    0.0  0.000000  \n",
       "2660  0.000000  0.000000   0.0  0.000000    0.0  0.422457  \n",
       "2661  0.000000  0.000000   0.0  0.000000    0.0  0.000000  \n",
       "2662  0.000000  0.000000   0.0  0.000000    0.0  0.000000  \n",
       "2663  0.000000  0.530478   0.0  0.000000    0.0  0.154433  \n",
       "\n",
       "[2664 rows x 100 columns]"
      ]
     },
     "execution_count": 1062,
     "metadata": {},
     "output_type": "execute_result"
    }
   ],
   "source": [
    "# tfidf fit to lemmed words \n",
    "\n",
    "tvec = TfidfVectorizer(\n",
    "                        stop_words = my_stop_words,\n",
    "                       strip_accents = 'ascii',\n",
    "                       max_features = 100,\n",
    "                       max_df = .60,\n",
    "                       norm = 'l2'\n",
    ")\n",
    "\n",
    "# fit our vectorizer\n",
    "tvec.fit(df2.lemmed_conversation)\n",
    "\n",
    "# show tfidf df\n",
    "lemmed_df_tvec = pd.DataFrame(tvec.transform(df2.lemmed_conversation).todense(),\n",
    "                  columns = tvec.get_feature_names())\n",
    "\n",
    "\n",
    "# lemmed_df_tvec['target'] = df.subreddit\n",
    "\n",
    "# show df\n",
    "# lemmed_df_tvec.sort_values('target', ascending = False)  #sorts values\n",
    "\n",
    "lemmed_df_tvec"
   ]
  },
  {
   "cell_type": "markdown",
   "metadata": {},
   "source": [
    "# Sentiment Analysis"
   ]
  },
  {
   "cell_type": "code",
   "execution_count": 1063,
   "metadata": {},
   "outputs": [
    {
     "data": {
      "text/plain": [
       "0    (About, 40, %, of, the, population, speaks, Fr...\n",
       "1    (McDonalds, ,, Subway, and, Starbucks, are, pr...\n",
       "2    (It, ’s, not, my, first, choice, by, far, ., I...\n",
       "3    (Cause, fans, don\\'t, want, \", top, -, notch, ...\n",
       "4    (Are, you, talking, about, waving, ?,  , Do, w...\n",
       "Name: comment_sentiment, dtype: object"
      ]
     },
     "execution_count": 1063,
     "metadata": {},
     "output_type": "execute_result"
    }
   ],
   "source": [
    "df2['comment_sentiment'] = [nlp(row) for row in df2.top_comment]\n",
    "df2['comment_sentiment'].head()"
   ]
  },
  {
   "cell_type": "code",
   "execution_count": 1064,
   "metadata": {},
   "outputs": [],
   "source": [
    "df2['comment_polarity'] = [string._.polarity for string in df2.comment_sentiment]"
   ]
  },
  {
   "cell_type": "code",
   "execution_count": 1065,
   "metadata": {},
   "outputs": [
    {
     "data": {
      "text/plain": [
       "Text(0.5, 1.0, 'Polarity by Subreddit Comment')"
      ]
     },
     "execution_count": 1065,
     "metadata": {},
     "output_type": "execute_result"
    },
    {
     "data": {
      "image/png": "[encoded data removed]",
      "text/plain": [
       "<Figure size 720x576 with 1 Axes>"
      ]
     },
     "metadata": {},
     "output_type": "display_data"
    }
   ],
   "source": [
    "plt.figure(figsize = (10, 8))\n",
    "sns.boxplot(y = df2['comment_polarity'],\\\n",
    "            x = df2['subreddit']).set_title('Polarity by Subreddit Comment')"
   ]
  },
  {
   "cell_type": "code",
   "execution_count": 1066,
   "metadata": {},
   "outputs": [],
   "source": [
    "df2['comment_subjectivity'] = [string._.subjectivity for \n",
    "                               string in df2.comment_sentiment]"
   ]
  },
  {
   "cell_type": "code",
   "execution_count": 1067,
   "metadata": {},
   "outputs": [
    {
     "data": {
      "text/plain": [
       "Text(0.5, 1.0, 'Subjectivity by Subreddit Comment')"
      ]
     },
     "execution_count": 1067,
     "metadata": {},
     "output_type": "execute_result"
    },
    {
     "data": {
      "image/png": "[encoded data removed]",
      "text/plain": [
       "<Figure size 720x576 with 1 Axes>"
      ]
     },
     "metadata": {},
     "output_type": "display_data"
    }
   ],
   "source": [
    "plt.figure(figsize = (10, 8))\n",
    "sns.boxplot(y = df2['comment_subjectivity'], \\\n",
    "            x = df2['subreddit']).set_title('Subjectivity by Subreddit Comment')"
   ]
  },
  {
   "cell_type": "code",
   "execution_count": 1068,
   "metadata": {},
   "outputs": [
    {
     "data": {
      "text/plain": [
       "num_comments           -0.118546\n",
       "AUX_comment            -0.086245\n",
       "PRON_comment           -0.076416\n",
       "num_upvotes            -0.061094\n",
       "PART_comment           -0.052347\n",
       "INTJ_comment           -0.048305\n",
       "VERB_comment           -0.032200\n",
       "comment_polarity       -0.022760\n",
       "PROPN_comment          -0.021813\n",
       "SCONJ_comment          -0.017501\n",
       "X_comment               0.000867\n",
       "NOUN_comment            0.004120\n",
       "comment_subjectivity    0.004642\n",
       "CCONJ_comment           0.014523\n",
       "DET_comment             0.019473\n",
       "ADV_comment             0.025920\n",
       "SPACE_comment           0.033663\n",
       "ADP_comment             0.040777\n",
       "NUM_comment             0.043588\n",
       "title_length            0.046626\n",
       "ADJ_comment             0.051225\n",
       "SYM_comment             0.052152\n",
       "question_length         0.056799\n",
       "text_length             0.063033\n",
       "PUNCT_comment           0.087395\n",
       "conversation_length     0.109117\n",
       "comment_length          0.115056\n",
       "subreddit               1.000000\n",
       "Name: subreddit, dtype: float64"
      ]
     },
     "execution_count": 1068,
     "metadata": {},
     "output_type": "execute_result"
    }
   ],
   "source": [
    "df2.corr()['subreddit'].sort_values()"
   ]
  },
  {
   "cell_type": "code",
   "execution_count": 1069,
   "metadata": {},
   "outputs": [
    {
     "data": {
      "text/plain": [
       "0    0.507132\n",
       "1    0.492868\n",
       "Name: subreddit, dtype: float64"
      ]
     },
     "execution_count": 1069,
     "metadata": {},
     "output_type": "execute_result"
    }
   ],
   "source": [
    "df2['subreddit'].value_counts(normalize = True)"
   ]
  },
  {
   "cell_type": "code",
   "execution_count": 1070,
   "metadata": {},
   "outputs": [],
   "source": [
    "df2.to_csv('./progress_datasets/data_for_modeling.csv', index = False)"
   ]
  },
  {
   "cell_type": "code",
   "execution_count": 1071,
   "metadata": {},
   "outputs": [],
   "source": [
    "model_df = pd.read_csv('./progress_datasets/data_for_modeling.csv')"
   ]
  },
  {
   "cell_type": "code",
   "execution_count": 1072,
   "metadata": {},
   "outputs": [
    {
     "data": {
      "text/html": [
       "<div>\n",
       "<style scoped>\n",
       "    .dataframe tbody tr th:only-of-type {\n",
       "        vertical-align: middle;\n",
       "    }\n",
       "\n",
       "    .dataframe tbody tr th {\n",
       "        vertical-align: top;\n",
       "    }\n",
       "\n",
       "    .dataframe thead th {\n",
       "        text-align: right;\n",
       "    }\n",
       "</style>\n",
       "<table border=\"1\" class=\"dataframe\">\n",
       "  <thead>\n",
       "    <tr style=\"text-align: right;\">\n",
       "      <th></th>\n",
       "      <th>id</th>\n",
       "      <th>title</th>\n",
       "      <th>num_comments</th>\n",
       "      <th>body</th>\n",
       "      <th>num_upvotes</th>\n",
       "      <th>time_posted</th>\n",
       "      <th>time_now</th>\n",
       "      <th>time_delta</th>\n",
       "      <th>subreddit</th>\n",
       "      <th>top_comment</th>\n",
       "      <th>...</th>\n",
       "      <th>CCONJ_comment</th>\n",
       "      <th>PRON_comment</th>\n",
       "      <th>SYM_comment</th>\n",
       "      <th>INTJ_comment</th>\n",
       "      <th>NOUN_comment</th>\n",
       "      <th>ADP_comment</th>\n",
       "      <th>lemmed_conversation</th>\n",
       "      <th>comment_sentiment</th>\n",
       "      <th>comment_polarity</th>\n",
       "      <th>comment_subjectivity</th>\n",
       "    </tr>\n",
       "  </thead>\n",
       "  <tbody>\n",
       "    <tr>\n",
       "      <th>0</th>\n",
       "      <td>nb0592</td>\n",
       "      <td>how common is it to not have your country's mo...</td>\n",
       "      <td>3</td>\n",
       "      <td>/r/titlegoretaken spain as a whole, the most w...</td>\n",
       "      <td>3</td>\n",
       "      <td>2021-05-12 21:37:16</td>\n",
       "      <td>2021-05-13 01:20:57.717158</td>\n",
       "      <td>0 days 03:43:41.717163</td>\n",
       "      <td>1</td>\n",
       "      <td>About 40% of the population speaks French. Inc...</td>\n",
       "      <td>...</td>\n",
       "      <td>0.027778</td>\n",
       "      <td>0.055556</td>\n",
       "      <td>0.0</td>\n",
       "      <td>0.000000</td>\n",
       "      <td>0.250000</td>\n",
       "      <td>0.083333</td>\n",
       "      <td>how common is it to not have your country 's m...</td>\n",
       "      <td>About 40% of the population speaks French. Inc...</td>\n",
       "      <td>-0.041667</td>\n",
       "      <td>0.041667</td>\n",
       "    </tr>\n",
       "    <tr>\n",
       "      <th>1</th>\n",
       "      <td>nb3wei</td>\n",
       "      <td>most popular fast food restaurant/take-away?</td>\n",
       "      <td>14</td>\n",
       "      <td>hey guys i’m not from usa but i have seen many...</td>\n",
       "      <td>3</td>\n",
       "      <td>2021-05-13 00:31:12</td>\n",
       "      <td>2021-05-13 01:20:57.864588</td>\n",
       "      <td>0 days 00:49:45.864594</td>\n",
       "      <td>0</td>\n",
       "      <td>McDonalds, Subway and Starbucks are probably t...</td>\n",
       "      <td>...</td>\n",
       "      <td>0.070175</td>\n",
       "      <td>0.078947</td>\n",
       "      <td>0.0</td>\n",
       "      <td>0.000000</td>\n",
       "      <td>0.078947</td>\n",
       "      <td>0.087719</td>\n",
       "      <td>most popular fast food restaurant / take - awa...</td>\n",
       "      <td>McDonalds, Subway and Starbucks are probably t...</td>\n",
       "      <td>0.157143</td>\n",
       "      <td>0.398214</td>\n",
       "    </tr>\n",
       "    <tr>\n",
       "      <th>2</th>\n",
       "      <td>nb339e</td>\n",
       "      <td>is it true that you guys don't like/go to mcdo...</td>\n",
       "      <td>55</td>\n",
       "      <td>here in my country they're one of the most pop...</td>\n",
       "      <td>3</td>\n",
       "      <td>2021-05-12 23:52:33</td>\n",
       "      <td>2021-05-13 01:20:58.146242</td>\n",
       "      <td>0 days 01:28:25.146249</td>\n",
       "      <td>0</td>\n",
       "      <td>It’s not my first choice by far. I’d rather go...</td>\n",
       "      <td>...</td>\n",
       "      <td>0.000000</td>\n",
       "      <td>0.142857</td>\n",
       "      <td>0.0</td>\n",
       "      <td>0.000000</td>\n",
       "      <td>0.047619</td>\n",
       "      <td>0.142857</td>\n",
       "      <td>is it true that you guy do not like / go to mc...</td>\n",
       "      <td>It’s not my first choice by far. I’d rather go...</td>\n",
       "      <td>0.175000</td>\n",
       "      <td>0.666667</td>\n",
       "    </tr>\n",
       "    <tr>\n",
       "      <th>3</th>\n",
       "      <td>nb2x64</td>\n",
       "      <td>why were football fans so upset by the europea...</td>\n",
       "      <td>3</td>\n",
       "      <td>it seemed to me like it would increase the lev...</td>\n",
       "      <td>0</td>\n",
       "      <td>2021-05-12 23:44:35</td>\n",
       "      <td>2021-05-13 01:20:58.274452</td>\n",
       "      <td>0 days 01:36:23.274458</td>\n",
       "      <td>1</td>\n",
       "      <td>Cause fans don\\'t want \"top-notch matches\" in ...</td>\n",
       "      <td>...</td>\n",
       "      <td>0.031746</td>\n",
       "      <td>0.047619</td>\n",
       "      <td>0.0</td>\n",
       "      <td>0.005291</td>\n",
       "      <td>0.137566</td>\n",
       "      <td>0.095238</td>\n",
       "      <td>why were football fan so upset by the european...</td>\n",
       "      <td>Cause fans don\\'t want \"top-notch matches\" in ...</td>\n",
       "      <td>0.180590</td>\n",
       "      <td>0.456146</td>\n",
       "    </tr>\n",
       "    <tr>\n",
       "      <th>4</th>\n",
       "      <td>nb0xx6</td>\n",
       "      <td>why do people stick four fingers out?</td>\n",
       "      <td>29</td>\n",
       "      <td>usually it's people in a lifted truck who do i...</td>\n",
       "      <td>1</td>\n",
       "      <td>2021-05-12 22:13:39</td>\n",
       "      <td>2021-05-13 01:20:58.525647</td>\n",
       "      <td>0 days 03:07:19.525654</td>\n",
       "      <td>0</td>\n",
       "      <td>Are you talking about waving?  Do we seriously...</td>\n",
       "      <td>...</td>\n",
       "      <td>0.000000</td>\n",
       "      <td>0.125000</td>\n",
       "      <td>0.0</td>\n",
       "      <td>0.000000</td>\n",
       "      <td>0.000000</td>\n",
       "      <td>0.062500</td>\n",
       "      <td>why do people stick four finger out ? usually ...</td>\n",
       "      <td>Are you talking about waving?  Do we seriously...</td>\n",
       "      <td>-0.333333</td>\n",
       "      <td>0.666667</td>\n",
       "    </tr>\n",
       "  </tbody>\n",
       "</table>\n",
       "<p>5 rows × 39 columns</p>\n",
       "</div>"
      ],
      "text/plain": [
       "       id                                              title  num_comments  \\\n",
       "0  nb0592  how common is it to not have your country's mo...             3   \n",
       "1  nb3wei       most popular fast food restaurant/take-away?            14   \n",
       "2  nb339e  is it true that you guys don't like/go to mcdo...            55   \n",
       "3  nb2x64  why were football fans so upset by the europea...             3   \n",
       "4  nb0xx6              why do people stick four fingers out?            29   \n",
       "\n",
       "                                                body  num_upvotes  \\\n",
       "0  /r/titlegoretaken spain as a whole, the most w...            3   \n",
       "1  hey guys i’m not from usa but i have seen many...            3   \n",
       "2  here in my country they're one of the most pop...            3   \n",
       "3  it seemed to me like it would increase the lev...            0   \n",
       "4  usually it's people in a lifted truck who do i...            1   \n",
       "\n",
       "           time_posted                    time_now              time_delta  \\\n",
       "0  2021-05-12 21:37:16  2021-05-13 01:20:57.717158  0 days 03:43:41.717163   \n",
       "1  2021-05-13 00:31:12  2021-05-13 01:20:57.864588  0 days 00:49:45.864594   \n",
       "2  2021-05-12 23:52:33  2021-05-13 01:20:58.146242  0 days 01:28:25.146249   \n",
       "3  2021-05-12 23:44:35  2021-05-13 01:20:58.274452  0 days 01:36:23.274458   \n",
       "4  2021-05-12 22:13:39  2021-05-13 01:20:58.525647  0 days 03:07:19.525654   \n",
       "\n",
       "   subreddit                                        top_comment  ...  \\\n",
       "0          1  About 40% of the population speaks French. Inc...  ...   \n",
       "1          0  McDonalds, Subway and Starbucks are probably t...  ...   \n",
       "2          0  It’s not my first choice by far. I’d rather go...  ...   \n",
       "3          1  Cause fans don\\'t want \"top-notch matches\" in ...  ...   \n",
       "4          0  Are you talking about waving?  Do we seriously...  ...   \n",
       "\n",
       "   CCONJ_comment  PRON_comment  SYM_comment INTJ_comment  NOUN_comment  \\\n",
       "0       0.027778      0.055556          0.0     0.000000      0.250000   \n",
       "1       0.070175      0.078947          0.0     0.000000      0.078947   \n",
       "2       0.000000      0.142857          0.0     0.000000      0.047619   \n",
       "3       0.031746      0.047619          0.0     0.005291      0.137566   \n",
       "4       0.000000      0.125000          0.0     0.000000      0.000000   \n",
       "\n",
       "  ADP_comment                                lemmed_conversation  \\\n",
       "0    0.083333  how common is it to not have your country 's m...   \n",
       "1    0.087719  most popular fast food restaurant / take - awa...   \n",
       "2    0.142857  is it true that you guy do not like / go to mc...   \n",
       "3    0.095238  why were football fan so upset by the european...   \n",
       "4    0.062500  why do people stick four finger out ? usually ...   \n",
       "\n",
       "                                   comment_sentiment  comment_polarity  \\\n",
       "0  About 40% of the population speaks French. Inc...         -0.041667   \n",
       "1  McDonalds, Subway and Starbucks are probably t...          0.157143   \n",
       "2  It’s not my first choice by far. I’d rather go...          0.175000   \n",
       "3  Cause fans don\\'t want \"top-notch matches\" in ...          0.180590   \n",
       "4  Are you talking about waving?  Do we seriously...         -0.333333   \n",
       "\n",
       "   comment_subjectivity  \n",
       "0              0.041667  \n",
       "1              0.398214  \n",
       "2              0.666667  \n",
       "3              0.456146  \n",
       "4              0.666667  \n",
       "\n",
       "[5 rows x 39 columns]"
      ]
     },
     "execution_count": 1072,
     "metadata": {},
     "output_type": "execute_result"
    }
   ],
   "source": [
    "model_df.head()"
   ]
  },
  {
   "cell_type": "code",
   "execution_count": 1073,
   "metadata": {},
   "outputs": [
    {
     "data": {
      "text/plain": [
       "Index(['id', 'title', 'num_comments', 'body', 'num_upvotes', 'time_posted',\n",
       "       'time_now', 'time_delta', 'subreddit', 'top_comment', 'text_length',\n",
       "       'comment_length', 'title_length', 'question', 'question_length',\n",
       "       'conversation', 'conversation_length', 'AUX_comment', 'NUM_comment',\n",
       "       'ADV_comment', 'SCONJ_comment', 'VERB_comment', 'ADJ_comment',\n",
       "       'SPACE_comment', 'PART_comment', 'X_comment', 'PROPN_comment',\n",
       "       'DET_comment', 'PUNCT_comment', 'CCONJ_comment', 'PRON_comment',\n",
       "       'SYM_comment', 'INTJ_comment', 'NOUN_comment', 'ADP_comment',\n",
       "       'lemmed_conversation', 'comment_sentiment', 'comment_polarity',\n",
       "       'comment_subjectivity'],\n",
       "      dtype='object')"
      ]
     },
     "execution_count": 1073,
     "metadata": {},
     "output_type": "execute_result"
    }
   ],
   "source": [
    "model_df.columns"
   ]
  },
  {
   "cell_type": "code",
   "execution_count": 1074,
   "metadata": {},
   "outputs": [
    {
     "data": {
      "text/plain": [
       "id                       object\n",
       "title                    object\n",
       "num_comments              int64\n",
       "body                     object\n",
       "num_upvotes               int64\n",
       "time_posted              object\n",
       "time_now                 object\n",
       "time_delta               object\n",
       "subreddit                 int64\n",
       "top_comment              object\n",
       "text_length               int64\n",
       "comment_length            int64\n",
       "title_length              int64\n",
       "question                 object\n",
       "question_length           int64\n",
       "conversation             object\n",
       "conversation_length       int64\n",
       "AUX_comment             float64\n",
       "NUM_comment             float64\n",
       "ADV_comment             float64\n",
       "SCONJ_comment           float64\n",
       "VERB_comment            float64\n",
       "ADJ_comment             float64\n",
       "SPACE_comment           float64\n",
       "PART_comment            float64\n",
       "X_comment               float64\n",
       "PROPN_comment           float64\n",
       "DET_comment             float64\n",
       "PUNCT_comment           float64\n",
       "CCONJ_comment           float64\n",
       "PRON_comment            float64\n",
       "SYM_comment             float64\n",
       "INTJ_comment            float64\n",
       "NOUN_comment            float64\n",
       "ADP_comment             float64\n",
       "lemmed_conversation      object\n",
       "comment_sentiment        object\n",
       "comment_polarity        float64\n",
       "comment_subjectivity    float64\n",
       "dtype: object"
      ]
     },
     "execution_count": 1074,
     "metadata": {},
     "output_type": "execute_result"
    }
   ],
   "source": [
    "model_df.dtypes"
   ]
  },
  {
   "cell_type": "markdown",
   "metadata": {},
   "source": [
    "# Punctuation Types"
   ]
  },
  {
   "cell_type": "code",
   "execution_count": 1075,
   "metadata": {},
   "outputs": [],
   "source": [
    "#count occurances of specific types of punctuation\n",
    "punct_for_df = model_df.top_comment.map(lambda x: \\\n",
    "                                        Counter([word.text for\n",
    "                                                 word in nlp(x) if \n",
    "                                                 word.pos_ == 'PUNCT']))"
   ]
  },
  {
   "cell_type": "code",
   "execution_count": 1076,
   "metadata": {},
   "outputs": [
    {
     "data": {
      "text/plain": [
       "0                                        {'.': 2, ',': 1}\n",
       "1                        {',': 1, '.': 6, '(': 1, ')': 1}\n",
       "2                                                {'.': 2}\n",
       "3              {'\"': 6, '-': 2, ',': 9, '.': 8, '...': 2}\n",
       "4                                                {'?': 2}\n",
       "                              ...                        \n",
       "2659    {',': 17, '(': 5, ')': 4, '.': 14, '-': 6, '*'...\n",
       "2660                                    {'..': 1, '.': 1}\n",
       "2661                             {'.': 1, '-': 2, ')': 1}\n",
       "2662                                     {',': 2, '.': 1}\n",
       "2663                     {'.': 3, '*': 2, ',': 2, '!': 1}\n",
       "Name: top_comment, Length: 2664, dtype: object"
      ]
     },
     "execution_count": 1076,
     "metadata": {},
     "output_type": "execute_result"
    }
   ],
   "source": [
    "punct_for_df"
   ]
  },
  {
   "cell_type": "code",
   "execution_count": 1077,
   "metadata": {},
   "outputs": [],
   "source": [
    "#make a set of punctiation\n",
    "all_punc = list(set([key for punc_counter in \n",
    "                     punct_for_df for key in punc_counter.keys()]))"
   ]
  },
  {
   "cell_type": "code",
   "execution_count": 1078,
   "metadata": {},
   "outputs": [],
   "source": [
    "# make a set of punctuation types I want to focus on\n",
    "punc_to_count = [':P', '👍', '…', ',', ':',':(', ':))', ';', '.', '!', '?', ':)']"
   ]
  },
  {
   "cell_type": "code",
   "execution_count": 1079,
   "metadata": {},
   "outputs": [
    {
     "data": {
      "text/plain": [
       "[\"They\\\\'re\",\n",
       " '“',\n",
       " \"I\\\\'m\",\n",
       " '\\\\n\\\\nBut',\n",
       " '...',\n",
       " 'away\"/\"tossed\"/\"laid',\n",
       " 'db5f',\n",
       " 'y1mkSm00kXM',\n",
       " '👍',\n",
       " '’s',\n",
       " '>',\n",
       " '^(I',\n",
       " '«',\n",
       " '\\\\n\\\\nRegardless',\n",
       " 'state/',\n",
       " ';',\n",
       " '\\\\n\\\\nSnake',\n",
       " 'x',\n",
       " '~0.67',\n",
       " '-----',\n",
       " '(',\n",
       " \"'\",\n",
       " '\\\\n\\\\nWinter',\n",
       " '):',\n",
       " 'Italo_dance',\n",
       " '.',\n",
       " 'outside/',\n",
       " '=',\n",
       " 'kazn/',\n",
       " '~2000',\n",
       " 'Italo_disco',\n",
       " ':',\n",
       " '\\\\n\\\\nGotta',\n",
       " '\\\\n\\\\nHowever',\n",
       " '\\\\n\\\\nToday',\n",
       " '-opoulos',\n",
       " '-uh',\n",
       " '\\\\n\\\\nState',\n",
       " '\\\\n\\\\nAbout',\n",
       " ',',\n",
       " '\"',\n",
       " 'e6eXyYJ4h5o',\n",
       " '{',\n",
       " '/u',\n",
       " '\\\\n\\\\nNowadays',\n",
       " '’d',\n",
       " ':P',\n",
       " '\\\\n\\\\nClose',\n",
       " ']',\n",
       " '-a',\n",
       " '[',\n",
       " '.....',\n",
       " '/',\n",
       " '”\\\\n\\\\nI',\n",
       " '?',\n",
       " '*',\n",
       " 'beschikbaar/0',\n",
       " 'inch/',\n",
       " 'https://spicysouthernkitchen.com/sweet-potato-casserole-with-marshmallows/',\n",
       " '/i/',\n",
       " 'EaAnn2EALw_wcB',\n",
       " '-',\n",
       " '....',\n",
       " '\\\\n\\\\nWorks',\n",
       " 'img/2015/12/15',\n",
       " 'acknowledgements/',\n",
       " '}',\n",
       " ':)',\n",
       " '–',\n",
       " '\\\\n\\\\nBlister',\n",
       " 'home/',\n",
       " ':))',\n",
       " '-10C',\n",
       " 'Italo_house',\n",
       " 'Twilight_anesthesia',\n",
       " '~',\n",
       " '\\\\n\\\\nSpringfield',\n",
       " '6**\\\\n\\\\n\\\\\\\\-',\n",
       " '’',\n",
       " 'varld/',\n",
       " 'lxSy4xjiMwk?t=33',\n",
       " '\\\\n\\\\nFirst',\n",
       " 'agencies/',\n",
       " '~~before~~',\n",
       " '\\\\U0001f972',\n",
       " '.E.g',\n",
       " '‘',\n",
       " ':p',\n",
       " '-30C',\n",
       " '—',\n",
       " '~~largest~~most',\n",
       " '»',\n",
       " 'years/',\n",
       " 'muumit_laaksossa.html',\n",
       " ':(',\n",
       " '\\\\n\\\\nThe',\n",
       " 'currency/',\n",
       " ':D',\n",
       " ';)',\n",
       " '/s',\n",
       " '\\\\n\\\\nAfter',\n",
       " '…',\n",
       " '/r',\n",
       " '\\\\n\\\\nRegarding',\n",
       " '-Frederick',\n",
       " '-akis',\n",
       " '\\\\n\\\\nOur',\n",
       " 'V6w)».\\\\n\\\\nThe',\n",
       " 'ends\\\\',\n",
       " 'There\\\\',\n",
       " '\\\\n\\\\nPayment',\n",
       " '!',\n",
       " 'correct?\\\\n\\\\n**Neighbor',\n",
       " '..',\n",
       " 'investments\\\\n\\\\nSold',\n",
       " 'system/',\n",
       " '---',\n",
       " 'makethatthecatwise/',\n",
       " 'stone\\\\',\n",
       " 'turquoise/',\n",
       " 'Citt%C3%A0_metropolitane_d%27Italia.svg.png',\n",
       " '”',\n",
       " '\\\\n\\\\nAnd',\n",
       " \"''\",\n",
       " ')',\n",
       " '~~often~~',\n",
       " '/ɪ/.',\n",
       " '„',\n",
       " '\\\\n\\\\nBesides',\n",
       " 'alt+o',\n",
       " '\\\\n\\\\nLocal',\n",
       " '--',\n",
       " '-weather',\n",
       " \"isn\\\\'t\",\n",
       " 'Dai_Hong_Dan_incident',\n",
       " '-she',\n",
       " \"Cht'i\"]"
      ]
     },
     "execution_count": 1079,
     "metadata": {},
     "output_type": "execute_result"
    }
   ],
   "source": [
    "all_punc"
   ]
  },
  {
   "cell_type": "code",
   "execution_count": 1080,
   "metadata": {},
   "outputs": [],
   "source": [
    "# add punc to df in columns\n",
    "\n",
    "for punc in punc_to_count:\n",
    "    model_df[punc] = 0"
   ]
  },
  {
   "cell_type": "code",
   "execution_count": 1081,
   "metadata": {},
   "outputs": [],
   "source": [
    "# add freq of punctuation types to dataframe as columns\n",
    "\n",
    "for index, row in enumerate(punct_for_df):\n",
    "    total = sum([item[1] for item in row.items()])\n",
    "    for item in row.items():\n",
    "        if item[0] in model_df.columns:\n",
    "            model_df.loc[index, item[0]] = item[1]/total"
   ]
  },
  {
   "cell_type": "code",
   "execution_count": 1082,
   "metadata": {
    "scrolled": true
   },
   "outputs": [
    {
     "data": {
      "text/html": [
       "<div>\n",
       "<style scoped>\n",
       "    .dataframe tbody tr th:only-of-type {\n",
       "        vertical-align: middle;\n",
       "    }\n",
       "\n",
       "    .dataframe tbody tr th {\n",
       "        vertical-align: top;\n",
       "    }\n",
       "\n",
       "    .dataframe thead th {\n",
       "        text-align: right;\n",
       "    }\n",
       "</style>\n",
       "<table border=\"1\" class=\"dataframe\">\n",
       "  <thead>\n",
       "    <tr style=\"text-align: right;\">\n",
       "      <th></th>\n",
       "      <th>id</th>\n",
       "      <th>title</th>\n",
       "      <th>num_comments</th>\n",
       "      <th>body</th>\n",
       "      <th>num_upvotes</th>\n",
       "      <th>time_posted</th>\n",
       "      <th>time_now</th>\n",
       "      <th>time_delta</th>\n",
       "      <th>subreddit</th>\n",
       "      <th>top_comment</th>\n",
       "      <th>...</th>\n",
       "      <th>…</th>\n",
       "      <th>,</th>\n",
       "      <th>:</th>\n",
       "      <th>:(</th>\n",
       "      <th>:))</th>\n",
       "      <th>;</th>\n",
       "      <th>.</th>\n",
       "      <th>!</th>\n",
       "      <th>?</th>\n",
       "      <th>:)</th>\n",
       "    </tr>\n",
       "  </thead>\n",
       "  <tbody>\n",
       "    <tr>\n",
       "      <th>0</th>\n",
       "      <td>nb0592</td>\n",
       "      <td>how common is it to not have your country's mo...</td>\n",
       "      <td>3</td>\n",
       "      <td>/r/titlegoretaken spain as a whole, the most w...</td>\n",
       "      <td>3</td>\n",
       "      <td>2021-05-12 21:37:16</td>\n",
       "      <td>2021-05-13 01:20:57.717158</td>\n",
       "      <td>0 days 03:43:41.717163</td>\n",
       "      <td>1</td>\n",
       "      <td>About 40% of the population speaks French. Inc...</td>\n",
       "      <td>...</td>\n",
       "      <td>0.0</td>\n",
       "      <td>0.333333</td>\n",
       "      <td>0.0</td>\n",
       "      <td>0.0</td>\n",
       "      <td>0.0</td>\n",
       "      <td>0.0</td>\n",
       "      <td>0.666667</td>\n",
       "      <td>0.0</td>\n",
       "      <td>0.0</td>\n",
       "      <td>0.0</td>\n",
       "    </tr>\n",
       "    <tr>\n",
       "      <th>1</th>\n",
       "      <td>nb3wei</td>\n",
       "      <td>most popular fast food restaurant/take-away?</td>\n",
       "      <td>14</td>\n",
       "      <td>hey guys i’m not from usa but i have seen many...</td>\n",
       "      <td>3</td>\n",
       "      <td>2021-05-13 00:31:12</td>\n",
       "      <td>2021-05-13 01:20:57.864588</td>\n",
       "      <td>0 days 00:49:45.864594</td>\n",
       "      <td>0</td>\n",
       "      <td>McDonalds, Subway and Starbucks are probably t...</td>\n",
       "      <td>...</td>\n",
       "      <td>0.0</td>\n",
       "      <td>0.111111</td>\n",
       "      <td>0.0</td>\n",
       "      <td>0.0</td>\n",
       "      <td>0.0</td>\n",
       "      <td>0.0</td>\n",
       "      <td>0.666667</td>\n",
       "      <td>0.0</td>\n",
       "      <td>0.0</td>\n",
       "      <td>0.0</td>\n",
       "    </tr>\n",
       "    <tr>\n",
       "      <th>2</th>\n",
       "      <td>nb339e</td>\n",
       "      <td>is it true that you guys don't like/go to mcdo...</td>\n",
       "      <td>55</td>\n",
       "      <td>here in my country they're one of the most pop...</td>\n",
       "      <td>3</td>\n",
       "      <td>2021-05-12 23:52:33</td>\n",
       "      <td>2021-05-13 01:20:58.146242</td>\n",
       "      <td>0 days 01:28:25.146249</td>\n",
       "      <td>0</td>\n",
       "      <td>It’s not my first choice by far. I’d rather go...</td>\n",
       "      <td>...</td>\n",
       "      <td>0.0</td>\n",
       "      <td>0.000000</td>\n",
       "      <td>0.0</td>\n",
       "      <td>0.0</td>\n",
       "      <td>0.0</td>\n",
       "      <td>0.0</td>\n",
       "      <td>1.000000</td>\n",
       "      <td>0.0</td>\n",
       "      <td>0.0</td>\n",
       "      <td>0.0</td>\n",
       "    </tr>\n",
       "    <tr>\n",
       "      <th>3</th>\n",
       "      <td>nb2x64</td>\n",
       "      <td>why were football fans so upset by the europea...</td>\n",
       "      <td>3</td>\n",
       "      <td>it seemed to me like it would increase the lev...</td>\n",
       "      <td>0</td>\n",
       "      <td>2021-05-12 23:44:35</td>\n",
       "      <td>2021-05-13 01:20:58.274452</td>\n",
       "      <td>0 days 01:36:23.274458</td>\n",
       "      <td>1</td>\n",
       "      <td>Cause fans don\\'t want \"top-notch matches\" in ...</td>\n",
       "      <td>...</td>\n",
       "      <td>0.0</td>\n",
       "      <td>0.333333</td>\n",
       "      <td>0.0</td>\n",
       "      <td>0.0</td>\n",
       "      <td>0.0</td>\n",
       "      <td>0.0</td>\n",
       "      <td>0.296296</td>\n",
       "      <td>0.0</td>\n",
       "      <td>0.0</td>\n",
       "      <td>0.0</td>\n",
       "    </tr>\n",
       "    <tr>\n",
       "      <th>4</th>\n",
       "      <td>nb0xx6</td>\n",
       "      <td>why do people stick four fingers out?</td>\n",
       "      <td>29</td>\n",
       "      <td>usually it's people in a lifted truck who do i...</td>\n",
       "      <td>1</td>\n",
       "      <td>2021-05-12 22:13:39</td>\n",
       "      <td>2021-05-13 01:20:58.525647</td>\n",
       "      <td>0 days 03:07:19.525654</td>\n",
       "      <td>0</td>\n",
       "      <td>Are you talking about waving?  Do we seriously...</td>\n",
       "      <td>...</td>\n",
       "      <td>0.0</td>\n",
       "      <td>0.000000</td>\n",
       "      <td>0.0</td>\n",
       "      <td>0.0</td>\n",
       "      <td>0.0</td>\n",
       "      <td>0.0</td>\n",
       "      <td>0.000000</td>\n",
       "      <td>0.0</td>\n",
       "      <td>1.0</td>\n",
       "      <td>0.0</td>\n",
       "    </tr>\n",
       "  </tbody>\n",
       "</table>\n",
       "<p>5 rows × 51 columns</p>\n",
       "</div>"
      ],
      "text/plain": [
       "       id                                              title  num_comments  \\\n",
       "0  nb0592  how common is it to not have your country's mo...             3   \n",
       "1  nb3wei       most popular fast food restaurant/take-away?            14   \n",
       "2  nb339e  is it true that you guys don't like/go to mcdo...            55   \n",
       "3  nb2x64  why were football fans so upset by the europea...             3   \n",
       "4  nb0xx6              why do people stick four fingers out?            29   \n",
       "\n",
       "                                                body  num_upvotes  \\\n",
       "0  /r/titlegoretaken spain as a whole, the most w...            3   \n",
       "1  hey guys i’m not from usa but i have seen many...            3   \n",
       "2  here in my country they're one of the most pop...            3   \n",
       "3  it seemed to me like it would increase the lev...            0   \n",
       "4  usually it's people in a lifted truck who do i...            1   \n",
       "\n",
       "           time_posted                    time_now              time_delta  \\\n",
       "0  2021-05-12 21:37:16  2021-05-13 01:20:57.717158  0 days 03:43:41.717163   \n",
       "1  2021-05-13 00:31:12  2021-05-13 01:20:57.864588  0 days 00:49:45.864594   \n",
       "2  2021-05-12 23:52:33  2021-05-13 01:20:58.146242  0 days 01:28:25.146249   \n",
       "3  2021-05-12 23:44:35  2021-05-13 01:20:58.274452  0 days 01:36:23.274458   \n",
       "4  2021-05-12 22:13:39  2021-05-13 01:20:58.525647  0 days 03:07:19.525654   \n",
       "\n",
       "   subreddit                                        top_comment  ...    …  \\\n",
       "0          1  About 40% of the population speaks French. Inc...  ...  0.0   \n",
       "1          0  McDonalds, Subway and Starbucks are probably t...  ...  0.0   \n",
       "2          0  It’s not my first choice by far. I’d rather go...  ...  0.0   \n",
       "3          1  Cause fans don\\'t want \"top-notch matches\" in ...  ...  0.0   \n",
       "4          0  Are you talking about waving?  Do we seriously...  ...  0.0   \n",
       "\n",
       "          ,    :   :(  :))    ;         .    !    ?   :)  \n",
       "0  0.333333  0.0  0.0  0.0  0.0  0.666667  0.0  0.0  0.0  \n",
       "1  0.111111  0.0  0.0  0.0  0.0  0.666667  0.0  0.0  0.0  \n",
       "2  0.000000  0.0  0.0  0.0  0.0  1.000000  0.0  0.0  0.0  \n",
       "3  0.333333  0.0  0.0  0.0  0.0  0.296296  0.0  0.0  0.0  \n",
       "4  0.000000  0.0  0.0  0.0  0.0  0.000000  0.0  1.0  0.0  \n",
       "\n",
       "[5 rows x 51 columns]"
      ]
     },
     "execution_count": 1082,
     "metadata": {},
     "output_type": "execute_result"
    }
   ],
   "source": [
    "model_df.head()"
   ]
  },
  {
   "cell_type": "code",
   "execution_count": 1083,
   "metadata": {},
   "outputs": [
    {
     "data": {
      "text/plain": [
       "0"
      ]
     },
     "execution_count": 1083,
     "metadata": {},
     "output_type": "execute_result"
    }
   ],
   "source": [
    "model_df.isna().sum().sum()"
   ]
  },
  {
   "cell_type": "code",
   "execution_count": 1084,
   "metadata": {},
   "outputs": [],
   "source": [
    "emojis = [':P', '👍', ':(', ':))', ':)']"
   ]
  },
  {
   "cell_type": "code",
   "execution_count": 1085,
   "metadata": {},
   "outputs": [],
   "source": [
    "#combining emoji columns\n",
    "model_df['emojis'] = model_df[':P'] + model_df['👍']+ model_df[':(']+ model_df[':))']+model_df[':)']\n",
    "\n",
    "#dropping original emoji columns \n",
    "model_df.drop(columns = [':P', '👍', ':(', ':))', ':)'], inplace = True)"
   ]
  },
  {
   "cell_type": "code",
   "execution_count": 1086,
   "metadata": {},
   "outputs": [
    {
     "data": {
      "text/plain": [
       "Text(0.5, 1.0, 'Emoji by Subreddit Comment')"
      ]
     },
     "execution_count": 1086,
     "metadata": {},
     "output_type": "execute_result"
    },
    {
     "data": {
      "image/png": "[encoded data removed]",
      "text/plain": [
       "<Figure size 360x360 with 1 Axes>"
      ]
     },
     "metadata": {},
     "output_type": "display_data"
    }
   ],
   "source": [
    "plt.figure(figsize = (5,5))\n",
    "sns.boxplot(y = model_df['emojis'],\\\n",
    "            x = model_df['subreddit']).set_title('Emoji by Subreddit Comment')"
   ]
  },
  {
   "cell_type": "code",
   "execution_count": 1087,
   "metadata": {},
   "outputs": [
    {
     "data": {
      "text/plain": [
       "Text(0.5, 1.0, 'Ellipsis by Subreddit Comment')"
      ]
     },
     "execution_count": 1087,
     "metadata": {},
     "output_type": "execute_result"
    },
    {
     "data": {
      "image/png": "[encoded data removed]",
      "text/plain": [
       "<Figure size 360x360 with 1 Axes>"
      ]
     },
     "metadata": {},
     "output_type": "display_data"
    }
   ],
   "source": [
    "plt.figure(figsize = (5,5))\n",
    "sns.boxplot(y = model_df['…'], \\\n",
    "            x = model_df['subreddit']).set_title('Ellipsis by Subreddit Comment')"
   ]
  },
  {
   "cell_type": "code",
   "execution_count": 1088,
   "metadata": {},
   "outputs": [
    {
     "data": {
      "text/plain": [
       "Text(0.5, 1.0, 'Comma by Subreddit Comment')"
      ]
     },
     "execution_count": 1088,
     "metadata": {},
     "output_type": "execute_result"
    },
    {
     "data": {
      "image/png": "[encoded data removed]",
      "text/plain": [
       "<Figure size 360x360 with 1 Axes>"
      ]
     },
     "metadata": {},
     "output_type": "display_data"
    }
   ],
   "source": [
    "plt.figure(figsize = (5, 5))\n",
    "sns.boxplot(y = model_df[','], \\\n",
    "            x = model_df['subreddit']).set_title('Comma by Subreddit Comment')"
   ]
  },
  {
   "cell_type": "code",
   "execution_count": 1089,
   "metadata": {},
   "outputs": [
    {
     "data": {
      "text/plain": [
       "Text(0.5, 1.0, 'Colon by Subreddit Comment')"
      ]
     },
     "execution_count": 1089,
     "metadata": {},
     "output_type": "execute_result"
    },
    {
     "data": {
      "image/png": "[encoded data removed]",
      "text/plain": [
       "<Figure size 360x360 with 1 Axes>"
      ]
     },
     "metadata": {},
     "output_type": "display_data"
    }
   ],
   "source": [
    "plt.figure(figsize = (5, 5))\n",
    "sns.boxplot(y = model_df[':'], \\\n",
    "            x = model_df['subreddit']).set_title('Colon by Subreddit Comment')"
   ]
  },
  {
   "cell_type": "code",
   "execution_count": 1090,
   "metadata": {},
   "outputs": [
    {
     "data": {
      "text/plain": [
       "Text(0.5, 1.0, 'Excalamation Point by Subreddit Comment')"
      ]
     },
     "execution_count": 1090,
     "metadata": {},
     "output_type": "execute_result"
    },
    {
     "data": {
      "image/png": "[encoded data removed]",
      "text/plain": [
       "<Figure size 360x360 with 1 Axes>"
      ]
     },
     "metadata": {},
     "output_type": "display_data"
    }
   ],
   "source": [
    "plt.figure(figsize = (5, 5))\n",
    "sns.boxplot(y = model_df['!'], x = model_df[\n",
    "    'subreddit']).set_title('Excalamation Point by Subreddit Comment')"
   ]
  },
  {
   "cell_type": "code",
   "execution_count": 1091,
   "metadata": {},
   "outputs": [
    {
     "data": {
      "text/plain": [
       "Text(0.5, 1.0, 'Question Mark by Subreddit Comment')"
      ]
     },
     "execution_count": 1091,
     "metadata": {},
     "output_type": "execute_result"
    },
    {
     "data": {
      "image/png": "[encoded data removed]",
      "text/plain": [
       "<Figure size 360x360 with 1 Axes>"
      ]
     },
     "metadata": {},
     "output_type": "display_data"
    }
   ],
   "source": [
    "plt.figure(figsize = (5, 5))\n",
    "sns.boxplot(y = model_df['?'], x = model_df[\n",
    "    'subreddit']).set_title('Question Mark by Subreddit Comment')"
   ]
  },
  {
   "cell_type": "code",
   "execution_count": 1092,
   "metadata": {},
   "outputs": [
    {
     "data": {
      "text/plain": [
       "Text(0.5, 1.0, 'Semi-colon by Subreddit Comment')"
      ]
     },
     "execution_count": 1092,
     "metadata": {},
     "output_type": "execute_result"
    },
    {
     "data": {
      "image/png": "[encoded data removed]",
      "text/plain": [
       "<Figure size 360x360 with 1 Axes>"
      ]
     },
     "metadata": {},
     "output_type": "display_data"
    }
   ],
   "source": [
    "plt.figure(figsize = (5, 5))\n",
    "sns.boxplot(y = model_df[';'], x = model_df[\n",
    "    'subreddit']).set_title('Semi-colon by Subreddit Comment')"
   ]
  },
  {
   "cell_type": "code",
   "execution_count": 1093,
   "metadata": {},
   "outputs": [
    {
     "data": {
      "text/plain": [
       "Text(0.5, 1.0, 'Period by Subreddit Comment')"
      ]
     },
     "execution_count": 1093,
     "metadata": {},
     "output_type": "execute_result"
    },
    {
     "data": {
      "image/png": "[encoded data removed]",
      "text/plain": [
       "<Figure size 360x360 with 1 Axes>"
      ]
     },
     "metadata": {},
     "output_type": "display_data"
    }
   ],
   "source": [
    "plt.figure(figsize = (5, 5))\n",
    "sns.boxplot(y = model_df['.'], x = model_df[\n",
    "    'subreddit']).set_title('Period by Subreddit Comment')"
   ]
  },
  {
   "cell_type": "markdown",
   "metadata": {},
   "source": [
    "**Interpretation**\n",
    "Americans employ periods slightly more than per punctuation type than Europeans when responding. \n",
    "This must be explored further but may be due to Americans using less complex setences without the need for conjunctions and commas? Or is it that Americans write shorter comments overall, contributing to a higher frequency?"
   ]
  },
  {
   "cell_type": "code",
   "execution_count": 1094,
   "metadata": {},
   "outputs": [],
   "source": [
    "model_df.to_csv('./progress_datasets/final_df.csv', index = False)"
   ]
  },
  {
   "cell_type": "code",
   "execution_count": 1095,
   "metadata": {},
   "outputs": [],
   "source": [
    "final = pd.read_csv('./progress_datasets/final_df.csv')"
   ]
  },
  {
   "cell_type": "code",
   "execution_count": 1096,
   "metadata": {},
   "outputs": [
    {
     "data": {
      "text/plain": [
       ".                      -0.133793\n",
       "num_comments           -0.118546\n",
       "AUX_comment            -0.086245\n",
       "PRON_comment           -0.076416\n",
       "num_upvotes            -0.061094\n",
       "?                      -0.053929\n",
       "PART_comment           -0.052347\n",
       "INTJ_comment           -0.048305\n",
       "VERB_comment           -0.032200\n",
       "comment_polarity       -0.022760\n",
       "PROPN_comment          -0.021813\n",
       "SCONJ_comment          -0.017501\n",
       "!                      -0.001599\n",
       "X_comment               0.000867\n",
       "…                       0.001486\n",
       "NOUN_comment            0.004120\n",
       "comment_subjectivity    0.004642\n",
       ";                       0.007761\n",
       "CCONJ_comment           0.014523\n",
       "DET_comment             0.019473\n",
       "emojis                  0.024818\n",
       "ADV_comment             0.025920\n",
       "SPACE_comment           0.033663\n",
       "ADP_comment             0.040777\n",
       "NUM_comment             0.043588\n",
       "title_length            0.046626\n",
       "ADJ_comment             0.051225\n",
       "SYM_comment             0.052152\n",
       "question_length         0.056799\n",
       "text_length             0.063033\n",
       ",                       0.065345\n",
       ":                       0.080064\n",
       "PUNCT_comment           0.087395\n",
       "conversation_length     0.109117\n",
       "comment_length          0.115056\n",
       "subreddit               1.000000\n",
       "Name: subreddit, dtype: float64"
      ]
     },
     "execution_count": 1096,
     "metadata": {},
     "output_type": "execute_result"
    }
   ],
   "source": [
    "final.corr()['subreddit'].sort_values()"
   ]
  },
  {
   "cell_type": "markdown",
   "metadata": {},
   "source": [
    "# Topic Modeling with LatentDirichletAllocation"
   ]
  },
  {
   "cell_type": "markdown",
   "metadata": {},
   "source": [
    "[source](https://medium.com/@yanlinc/how-to-build-a-lda-topic-model-using-from-text-601cdcbfd3a6)"
   ]
  },
  {
   "cell_type": "code",
   "execution_count": 1097,
   "metadata": {},
   "outputs": [],
   "source": [
    "# Get topics\n",
    "\n",
    "lda_model = LatentDirichletAllocation(n_components= 5, \n",
    "                                      n_jobs = -1, \n",
    "                                      learning_method = 'online')\n",
    "\n",
    "lda_results = lda_model.fit_transform(lemmed_df_tvec)"
   ]
  },
  {
   "cell_type": "code",
   "execution_count": 1098,
   "metadata": {},
   "outputs": [],
   "source": [
    "# Make df of topics\n",
    "topicnames = ['Topic' + str(i) for i in range(lda_model.n_components)]\n",
    "\n",
    "topic_df = pd.DataFrame(lda_results, columns=topicnames)"
   ]
  },
  {
   "cell_type": "code",
   "execution_count": 1099,
   "metadata": {},
   "outputs": [],
   "source": [
    "topic_df['subreddit'] = final['subreddit']"
   ]
  },
  {
   "cell_type": "code",
   "execution_count": 1100,
   "metadata": {},
   "outputs": [
    {
     "data": {
      "text/plain": [
       "Text(0.5, 1.0, 'Topic0 by Subreddit')"
      ]
     },
     "execution_count": 1100,
     "metadata": {},
     "output_type": "execute_result"
    },
    {
     "data": {
      "image/png": "[encoded data removed]",
      "text/plain": [
       "<Figure size 720x576 with 1 Axes>"
      ]
     },
     "metadata": {},
     "output_type": "display_data"
    }
   ],
   "source": [
    "plt.figure(figsize = (10, 8))\n",
    "sns.boxplot(y = topic_df['Topic0'], x = topic_df['subreddit'])\\\n",
    ".set_title('Topic0 by Subreddit')"
   ]
  },
  {
   "cell_type": "code",
   "execution_count": 1101,
   "metadata": {},
   "outputs": [
    {
     "data": {
      "text/plain": [
       "Text(0.5, 1.0, 'Topic1 by Subreddit')"
      ]
     },
     "execution_count": 1101,
     "metadata": {},
     "output_type": "execute_result"
    },
    {
     "data": {
      "image/png": "[encoded data removed]",
      "text/plain": [
       "<Figure size 720x576 with 1 Axes>"
      ]
     },
     "metadata": {},
     "output_type": "display_data"
    }
   ],
   "source": [
    "plt.figure(figsize = (10, 8))\n",
    "sns.boxplot(y = topic_df['Topic1'], x = topic_df['subreddit'])\\\n",
    ".set_title('Topic1 by Subreddit')"
   ]
  },
  {
   "cell_type": "code",
   "execution_count": 1102,
   "metadata": {},
   "outputs": [
    {
     "data": {
      "text/plain": [
       "Text(0.5, 1.0, 'Topic2 by Subreddit')"
      ]
     },
     "execution_count": 1102,
     "metadata": {},
     "output_type": "execute_result"
    },
    {
     "data": {
      "image/png": "[encoded data removed]",
      "text/plain": [
       "<Figure size 720x576 with 1 Axes>"
      ]
     },
     "metadata": {},
     "output_type": "display_data"
    }
   ],
   "source": [
    "plt.figure(figsize = (10, 8))\n",
    "sns.boxplot(y = topic_df['Topic2'], x = topic_df['subreddit'])\\\n",
    ".set_title('Topic2 by Subreddit')"
   ]
  },
  {
   "cell_type": "code",
   "execution_count": 1103,
   "metadata": {},
   "outputs": [
    {
     "data": {
      "text/plain": [
       "Text(0.5, 1.0, 'Topic3 by Subreddit')"
      ]
     },
     "execution_count": 1103,
     "metadata": {},
     "output_type": "execute_result"
    },
    {
     "data": {
      "image/png": "[encoded data removed]",
      "text/plain": [
       "<Figure size 720x576 with 1 Axes>"
      ]
     },
     "metadata": {},
     "output_type": "display_data"
    }
   ],
   "source": [
    "plt.figure(figsize = (10, 8))\n",
    "sns.boxplot(y = topic_df['Topic3'], x = topic_df['subreddit'])\\\n",
    ".set_title('Topic3 by Subreddit')"
   ]
  },
  {
   "cell_type": "code",
   "execution_count": 1104,
   "metadata": {},
   "outputs": [
    {
     "data": {
      "text/plain": [
       "Text(0.5, 1.0, 'Topic4 by Subreddit')"
      ]
     },
     "execution_count": 1104,
     "metadata": {},
     "output_type": "execute_result"
    },
    {
     "data": {
      "image/png": "[encoded data removed]",
      "text/plain": [
       "<Figure size 720x576 with 1 Axes>"
      ]
     },
     "metadata": {},
     "output_type": "display_data"
    }
   ],
   "source": [
    "plt.figure(figsize = (10, 8))\n",
    "sns.boxplot(y = topic_df['Topic4'], x = topic_df['subreddit'])\\\n",
    ".set_title('Topic4 by Subreddit')"
   ]
  },
  {
   "cell_type": "code",
   "execution_count": 1105,
   "metadata": {},
   "outputs": [
    {
     "data": {
      "text/html": [
       "<div>\n",
       "<style scoped>\n",
       "    .dataframe tbody tr th:only-of-type {\n",
       "        vertical-align: middle;\n",
       "    }\n",
       "\n",
       "    .dataframe tbody tr th {\n",
       "        vertical-align: top;\n",
       "    }\n",
       "\n",
       "    .dataframe thead th {\n",
       "        text-align: right;\n",
       "    }\n",
       "</style>\n",
       "<table border=\"1\" class=\"dataframe\">\n",
       "  <thead>\n",
       "    <tr style=\"text-align: right;\">\n",
       "      <th></th>\n",
       "      <th>Topic0</th>\n",
       "      <th>Topic1</th>\n",
       "      <th>Topic2</th>\n",
       "      <th>Topic3</th>\n",
       "      <th>Topic4</th>\n",
       "      <th>subreddit</th>\n",
       "    </tr>\n",
       "  </thead>\n",
       "  <tbody>\n",
       "    <tr>\n",
       "      <th>1367</th>\n",
       "      <td>0.033291</td>\n",
       "      <td>0.032596</td>\n",
       "      <td>0.043400</td>\n",
       "      <td>0.636186</td>\n",
       "      <td>0.254526</td>\n",
       "      <td>1</td>\n",
       "    </tr>\n",
       "    <tr>\n",
       "      <th>2187</th>\n",
       "      <td>0.035471</td>\n",
       "      <td>0.034662</td>\n",
       "      <td>0.187585</td>\n",
       "      <td>0.248610</td>\n",
       "      <td>0.493671</td>\n",
       "      <td>1</td>\n",
       "    </tr>\n",
       "    <tr>\n",
       "      <th>2089</th>\n",
       "      <td>0.036257</td>\n",
       "      <td>0.119147</td>\n",
       "      <td>0.079973</td>\n",
       "      <td>0.728915</td>\n",
       "      <td>0.035707</td>\n",
       "      <td>1</td>\n",
       "    </tr>\n",
       "    <tr>\n",
       "      <th>350</th>\n",
       "      <td>0.036608</td>\n",
       "      <td>0.035253</td>\n",
       "      <td>0.035326</td>\n",
       "      <td>0.321066</td>\n",
       "      <td>0.571747</td>\n",
       "      <td>1</td>\n",
       "    </tr>\n",
       "    <tr>\n",
       "      <th>220</th>\n",
       "      <td>0.037406</td>\n",
       "      <td>0.036958</td>\n",
       "      <td>0.036735</td>\n",
       "      <td>0.036751</td>\n",
       "      <td>0.852150</td>\n",
       "      <td>1</td>\n",
       "    </tr>\n",
       "    <tr>\n",
       "      <th>...</th>\n",
       "      <td>...</td>\n",
       "      <td>...</td>\n",
       "      <td>...</td>\n",
       "      <td>...</td>\n",
       "      <td>...</td>\n",
       "      <td>...</td>\n",
       "    </tr>\n",
       "    <tr>\n",
       "      <th>1401</th>\n",
       "      <td>0.832454</td>\n",
       "      <td>0.041463</td>\n",
       "      <td>0.041387</td>\n",
       "      <td>0.042446</td>\n",
       "      <td>0.042249</td>\n",
       "      <td>1</td>\n",
       "    </tr>\n",
       "    <tr>\n",
       "      <th>1164</th>\n",
       "      <td>0.836275</td>\n",
       "      <td>0.040574</td>\n",
       "      <td>0.040382</td>\n",
       "      <td>0.040960</td>\n",
       "      <td>0.041809</td>\n",
       "      <td>1</td>\n",
       "    </tr>\n",
       "    <tr>\n",
       "      <th>2304</th>\n",
       "      <td>0.840517</td>\n",
       "      <td>0.039832</td>\n",
       "      <td>0.039311</td>\n",
       "      <td>0.040144</td>\n",
       "      <td>0.040196</td>\n",
       "      <td>1</td>\n",
       "    </tr>\n",
       "    <tr>\n",
       "      <th>1968</th>\n",
       "      <td>0.845546</td>\n",
       "      <td>0.037894</td>\n",
       "      <td>0.038274</td>\n",
       "      <td>0.039562</td>\n",
       "      <td>0.038724</td>\n",
       "      <td>0</td>\n",
       "    </tr>\n",
       "    <tr>\n",
       "      <th>758</th>\n",
       "      <td>0.848857</td>\n",
       "      <td>0.037626</td>\n",
       "      <td>0.037168</td>\n",
       "      <td>0.037879</td>\n",
       "      <td>0.038470</td>\n",
       "      <td>0</td>\n",
       "    </tr>\n",
       "  </tbody>\n",
       "</table>\n",
       "<p>2664 rows × 6 columns</p>\n",
       "</div>"
      ],
      "text/plain": [
       "        Topic0    Topic1    Topic2    Topic3    Topic4  subreddit\n",
       "1367  0.033291  0.032596  0.043400  0.636186  0.254526          1\n",
       "2187  0.035471  0.034662  0.187585  0.248610  0.493671          1\n",
       "2089  0.036257  0.119147  0.079973  0.728915  0.035707          1\n",
       "350   0.036608  0.035253  0.035326  0.321066  0.571747          1\n",
       "220   0.037406  0.036958  0.036735  0.036751  0.852150          1\n",
       "...        ...       ...       ...       ...       ...        ...\n",
       "1401  0.832454  0.041463  0.041387  0.042446  0.042249          1\n",
       "1164  0.836275  0.040574  0.040382  0.040960  0.041809          1\n",
       "2304  0.840517  0.039832  0.039311  0.040144  0.040196          1\n",
       "1968  0.845546  0.037894  0.038274  0.039562  0.038724          0\n",
       "758   0.848857  0.037626  0.037168  0.037879  0.038470          0\n",
       "\n",
       "[2664 rows x 6 columns]"
      ]
     },
     "execution_count": 1105,
     "metadata": {},
     "output_type": "execute_result"
    }
   ],
   "source": [
    "topic_df.sort_values('Topic0')"
   ]
  },
  {
   "cell_type": "code",
   "execution_count": 1106,
   "metadata": {},
   "outputs": [
    {
     "data": {
      "text/html": [
       "<div>\n",
       "<style scoped>\n",
       "    .dataframe tbody tr th:only-of-type {\n",
       "        vertical-align: middle;\n",
       "    }\n",
       "\n",
       "    .dataframe tbody tr th {\n",
       "        vertical-align: top;\n",
       "    }\n",
       "\n",
       "    .dataframe thead th {\n",
       "        text-align: right;\n",
       "    }\n",
       "</style>\n",
       "<table border=\"1\" class=\"dataframe\">\n",
       "  <thead>\n",
       "    <tr style=\"text-align: right;\">\n",
       "      <th></th>\n",
       "      <th>actually</th>\n",
       "      <th>amendment</th>\n",
       "      <th>area</th>\n",
       "      <th>bad</th>\n",
       "      <th>best</th>\n",
       "      <th>better</th>\n",
       "      <th>big</th>\n",
       "      <th>called</th>\n",
       "      <th>car</th>\n",
       "      <th>child</th>\n",
       "      <th>...</th>\n",
       "      <th>url</th>\n",
       "      <th>use</th>\n",
       "      <th>used</th>\n",
       "      <th>usually</th>\n",
       "      <th>want</th>\n",
       "      <th>way</th>\n",
       "      <th>word</th>\n",
       "      <th>work</th>\n",
       "      <th>world</th>\n",
       "      <th>year</th>\n",
       "    </tr>\n",
       "  </thead>\n",
       "  <tbody>\n",
       "    <tr>\n",
       "      <th>Topic0</th>\n",
       "      <td>17.836179</td>\n",
       "      <td>0.200253</td>\n",
       "      <td>39.483464</td>\n",
       "      <td>4.118568</td>\n",
       "      <td>6.629142</td>\n",
       "      <td>0.225988</td>\n",
       "      <td>14.732503</td>\n",
       "      <td>0.202664</td>\n",
       "      <td>41.524272</td>\n",
       "      <td>0.202079</td>\n",
       "      <td>...</td>\n",
       "      <td>10.020401</td>\n",
       "      <td>12.726626</td>\n",
       "      <td>11.666957</td>\n",
       "      <td>20.028090</td>\n",
       "      <td>46.219536</td>\n",
       "      <td>18.062954</td>\n",
       "      <td>0.202757</td>\n",
       "      <td>9.736420</td>\n",
       "      <td>0.223108</td>\n",
       "      <td>34.292232</td>\n",
       "    </tr>\n",
       "    <tr>\n",
       "      <th>Topic1</th>\n",
       "      <td>6.684710</td>\n",
       "      <td>15.976779</td>\n",
       "      <td>2.500151</td>\n",
       "      <td>7.692132</td>\n",
       "      <td>0.353047</td>\n",
       "      <td>0.206260</td>\n",
       "      <td>0.720079</td>\n",
       "      <td>0.210241</td>\n",
       "      <td>0.201590</td>\n",
       "      <td>0.203640</td>\n",
       "      <td>...</td>\n",
       "      <td>6.920967</td>\n",
       "      <td>61.217842</td>\n",
       "      <td>29.743749</td>\n",
       "      <td>2.822847</td>\n",
       "      <td>7.163365</td>\n",
       "      <td>18.743317</td>\n",
       "      <td>78.403860</td>\n",
       "      <td>4.708639</td>\n",
       "      <td>4.720130</td>\n",
       "      <td>5.684655</td>\n",
       "    </tr>\n",
       "    <tr>\n",
       "      <th>Topic2</th>\n",
       "      <td>0.205892</td>\n",
       "      <td>0.200464</td>\n",
       "      <td>5.550438</td>\n",
       "      <td>0.204293</td>\n",
       "      <td>32.878330</td>\n",
       "      <td>0.205173</td>\n",
       "      <td>3.026140</td>\n",
       "      <td>52.454441</td>\n",
       "      <td>0.201574</td>\n",
       "      <td>0.201446</td>\n",
       "      <td>...</td>\n",
       "      <td>51.177257</td>\n",
       "      <td>0.202669</td>\n",
       "      <td>5.570238</td>\n",
       "      <td>3.178555</td>\n",
       "      <td>0.204917</td>\n",
       "      <td>0.210324</td>\n",
       "      <td>0.203052</td>\n",
       "      <td>0.204097</td>\n",
       "      <td>31.338958</td>\n",
       "      <td>1.453312</td>\n",
       "    </tr>\n",
       "    <tr>\n",
       "      <th>Topic3</th>\n",
       "      <td>10.241078</td>\n",
       "      <td>0.200146</td>\n",
       "      <td>0.208663</td>\n",
       "      <td>5.292642</td>\n",
       "      <td>10.627222</td>\n",
       "      <td>12.797947</td>\n",
       "      <td>2.069094</td>\n",
       "      <td>0.272565</td>\n",
       "      <td>0.202313</td>\n",
       "      <td>32.932587</td>\n",
       "      <td>...</td>\n",
       "      <td>16.451589</td>\n",
       "      <td>12.362512</td>\n",
       "      <td>10.472397</td>\n",
       "      <td>2.582040</td>\n",
       "      <td>16.567607</td>\n",
       "      <td>15.875292</td>\n",
       "      <td>0.207042</td>\n",
       "      <td>38.049863</td>\n",
       "      <td>1.006149</td>\n",
       "      <td>28.808147</td>\n",
       "    </tr>\n",
       "    <tr>\n",
       "      <th>Topic4</th>\n",
       "      <td>23.647951</td>\n",
       "      <td>0.322583</td>\n",
       "      <td>8.203535</td>\n",
       "      <td>29.737748</td>\n",
       "      <td>0.204926</td>\n",
       "      <td>29.095455</td>\n",
       "      <td>38.551683</td>\n",
       "      <td>0.203327</td>\n",
       "      <td>0.202144</td>\n",
       "      <td>0.202000</td>\n",
       "      <td>...</td>\n",
       "      <td>14.853312</td>\n",
       "      <td>11.207040</td>\n",
       "      <td>15.550986</td>\n",
       "      <td>27.488781</td>\n",
       "      <td>14.680519</td>\n",
       "      <td>22.348033</td>\n",
       "      <td>0.201861</td>\n",
       "      <td>17.754568</td>\n",
       "      <td>19.131019</td>\n",
       "      <td>48.627968</td>\n",
       "    </tr>\n",
       "  </tbody>\n",
       "</table>\n",
       "<p>5 rows × 100 columns</p>\n",
       "</div>"
      ],
      "text/plain": [
       "         actually  amendment       area        bad       best     better  \\\n",
       "Topic0  17.836179   0.200253  39.483464   4.118568   6.629142   0.225988   \n",
       "Topic1   6.684710  15.976779   2.500151   7.692132   0.353047   0.206260   \n",
       "Topic2   0.205892   0.200464   5.550438   0.204293  32.878330   0.205173   \n",
       "Topic3  10.241078   0.200146   0.208663   5.292642  10.627222  12.797947   \n",
       "Topic4  23.647951   0.322583   8.203535  29.737748   0.204926  29.095455   \n",
       "\n",
       "              big     called        car      child  ...        url        use  \\\n",
       "Topic0  14.732503   0.202664  41.524272   0.202079  ...  10.020401  12.726626   \n",
       "Topic1   0.720079   0.210241   0.201590   0.203640  ...   6.920967  61.217842   \n",
       "Topic2   3.026140  52.454441   0.201574   0.201446  ...  51.177257   0.202669   \n",
       "Topic3   2.069094   0.272565   0.202313  32.932587  ...  16.451589  12.362512   \n",
       "Topic4  38.551683   0.203327   0.202144   0.202000  ...  14.853312  11.207040   \n",
       "\n",
       "             used    usually       want        way       word       work  \\\n",
       "Topic0  11.666957  20.028090  46.219536  18.062954   0.202757   9.736420   \n",
       "Topic1  29.743749   2.822847   7.163365  18.743317  78.403860   4.708639   \n",
       "Topic2   5.570238   3.178555   0.204917   0.210324   0.203052   0.204097   \n",
       "Topic3  10.472397   2.582040  16.567607  15.875292   0.207042  38.049863   \n",
       "Topic4  15.550986  27.488781  14.680519  22.348033   0.201861  17.754568   \n",
       "\n",
       "            world       year  \n",
       "Topic0   0.223108  34.292232  \n",
       "Topic1   4.720130   5.684655  \n",
       "Topic2  31.338958   1.453312  \n",
       "Topic3   1.006149  28.808147  \n",
       "Topic4  19.131019  48.627968  \n",
       "\n",
       "[5 rows x 100 columns]"
      ]
     },
     "execution_count": 1106,
     "metadata": {},
     "output_type": "execute_result"
    }
   ],
   "source": [
    "# # Topic-Keyword Matrix\n",
    "df_topic_keywords = pd.DataFrame(lda_model.components_)\n",
    "# Assign Column and Index\n",
    "df_topic_keywords.columns = tvec.get_feature_names()\n",
    "df_topic_keywords.index = topicnames\n",
    "# View\n",
    "df_topic_keywords.head()"
   ]
  },
  {
   "cell_type": "code",
   "execution_count": 1107,
   "metadata": {},
   "outputs": [
    {
     "data": {
      "text/html": [
       "<div>\n",
       "<style scoped>\n",
       "    .dataframe tbody tr th:only-of-type {\n",
       "        vertical-align: middle;\n",
       "    }\n",
       "\n",
       "    .dataframe tbody tr th {\n",
       "        vertical-align: top;\n",
       "    }\n",
       "\n",
       "    .dataframe thead th {\n",
       "        text-align: right;\n",
       "    }\n",
       "</style>\n",
       "<table border=\"1\" class=\"dataframe\">\n",
       "  <thead>\n",
       "    <tr style=\"text-align: right;\">\n",
       "      <th></th>\n",
       "      <th>Word 0</th>\n",
       "      <th>Word 1</th>\n",
       "      <th>Word 2</th>\n",
       "      <th>Word 3</th>\n",
       "      <th>Word 4</th>\n",
       "    </tr>\n",
       "  </thead>\n",
       "  <tbody>\n",
       "    <tr>\n",
       "      <th>Topic 0</th>\n",
       "      <td>people</td>\n",
       "      <td>know</td>\n",
       "      <td>like</td>\n",
       "      <td>home</td>\n",
       "      <td>live</td>\n",
       "    </tr>\n",
       "    <tr>\n",
       "      <th>Topic 1</th>\n",
       "      <td>language</td>\n",
       "      <td>word</td>\n",
       "      <td>state</td>\n",
       "      <td>use</td>\n",
       "      <td>say</td>\n",
       "    </tr>\n",
       "    <tr>\n",
       "      <th>Topic 2</th>\n",
       "      <td>city</td>\n",
       "      <td>called</td>\n",
       "      <td>url</td>\n",
       "      <td>party</td>\n",
       "      <td>town</td>\n",
       "    </tr>\n",
       "    <tr>\n",
       "      <th>Topic 3</th>\n",
       "      <td>school</td>\n",
       "      <td>feel</td>\n",
       "      <td>kid</td>\n",
       "      <td>did</td>\n",
       "      <td>work</td>\n",
       "    </tr>\n",
       "    <tr>\n",
       "      <th>Topic 4</th>\n",
       "      <td>like</td>\n",
       "      <td>people</td>\n",
       "      <td>just</td>\n",
       "      <td>thing</td>\n",
       "      <td>good</td>\n",
       "    </tr>\n",
       "  </tbody>\n",
       "</table>\n",
       "</div>"
      ],
      "text/plain": [
       "           Word 0  Word 1 Word 2 Word 3 Word 4\n",
       "Topic 0    people    know   like   home   live\n",
       "Topic 1  language    word  state    use    say\n",
       "Topic 2      city  called    url  party   town\n",
       "Topic 3    school    feel    kid    did   work\n",
       "Topic 4      like  people   just  thing   good"
      ]
     },
     "execution_count": 1107,
     "metadata": {},
     "output_type": "execute_result"
    }
   ],
   "source": [
    "# get top words per topic \n",
    "\n",
    "def show_topics(vectorizer=TfidfVectorizer, \n",
    "                lda_model=lda_model, n_words=5,\n",
    "                learning_method = 'online'):\n",
    "    keywords = np.array(tvec.get_feature_names())\n",
    "    topic_keywords = []\n",
    "    for topic_weights in lda_model.components_:\n",
    "        top_keyword_locs = (-topic_weights).argsort()[:n_words]\n",
    "        topic_keywords.append(keywords.take(top_keyword_locs))\n",
    "    return topic_keywords\n",
    "\n",
    "\n",
    "topic_keywords = show_topics(vectorizer=TfidfVectorizer, lda_model=lda_model, n_words=5)\n",
    "\n",
    "# Topic - Keywords Dataframe\n",
    "df_topic_keywords = pd.DataFrame(topic_keywords)\n",
    "df_topic_keywords.columns = ['Word '+str(i) for i in range(df_topic_keywords.shape[1])]\n",
    "df_topic_keywords.index = ['Topic '+str(i) for i in range(df_topic_keywords.shape[0])]\n",
    "df_topic_keywords"
   ]
  },
  {
   "cell_type": "markdown",
   "metadata": {},
   "source": [
    "**Interpretation** \n",
    "\n",
    "From the boxplots above, we see that the majority of topics are equal among questions asked of Europeans and Americans. \n",
    "\n",
    "Topics 2 and 3 are more popular to be asked of Americans while Topic 4 is the most common topic for AskEurope. \n",
    "\n",
    "Looking at the words in the topic dataframe, it seems as though Topic 0 corresponds to popular things around cities, Topic 1 to work hours potentially,  Topic 2 to food, Topic 3 to politics, and 4 to language and education. \n",
    "\n",
    "The topics definitely need to be explored more in terms of checking their accuracy and what may have been left out. "
   ]
  },
  {
   "cell_type": "markdown",
   "metadata": {},
   "source": [
    "# Prepping for Modeling "
   ]
  },
  {
   "cell_type": "code",
   "execution_count": 1108,
   "metadata": {},
   "outputs": [
    {
     "data": {
      "text/plain": [
       "((2664, 47), (2664, 6))"
      ]
     },
     "execution_count": 1108,
     "metadata": {},
     "output_type": "execute_result"
    }
   ],
   "source": [
    "final.shape, topic_df.shape"
   ]
  },
  {
   "cell_type": "code",
   "execution_count": 1109,
   "metadata": {},
   "outputs": [
    {
     "data": {
      "text/plain": [
       "0"
      ]
     },
     "execution_count": 1109,
     "metadata": {},
     "output_type": "execute_result"
    }
   ],
   "source": [
    "final.isna().sum().sum()"
   ]
  },
  {
   "cell_type": "code",
   "execution_count": 1110,
   "metadata": {},
   "outputs": [
    {
     "data": {
      "text/plain": [
       "Index(['id', 'title', 'num_comments', 'body', 'num_upvotes', 'time_posted',\n",
       "       'time_now', 'time_delta', 'subreddit', 'top_comment', 'text_length',\n",
       "       'comment_length', 'title_length', 'question', 'question_length',\n",
       "       'conversation', 'conversation_length', 'AUX_comment', 'NUM_comment',\n",
       "       'ADV_comment', 'SCONJ_comment', 'VERB_comment', 'ADJ_comment',\n",
       "       'SPACE_comment', 'PART_comment', 'X_comment', 'PROPN_comment',\n",
       "       'DET_comment', 'PUNCT_comment', 'CCONJ_comment', 'PRON_comment',\n",
       "       'SYM_comment', 'INTJ_comment', 'NOUN_comment', 'ADP_comment',\n",
       "       'lemmed_conversation', 'comment_sentiment', 'comment_polarity',\n",
       "       'comment_subjectivity', '…', ',', ':', ';', '.', '!', '?', 'emojis'],\n",
       "      dtype='object')"
      ]
     },
     "execution_count": 1110,
     "metadata": {},
     "output_type": "execute_result"
    }
   ],
   "source": [
    "final.columns"
   ]
  },
  {
   "cell_type": "markdown",
   "metadata": {},
   "source": [
    "# Pipeline for Modeling"
   ]
  },
  {
   "cell_type": "code",
   "execution_count": 1111,
   "metadata": {},
   "outputs": [],
   "source": [
    "tvec = CountVectorizer(\n",
    "                        stop_words = my_stop_words,\n",
    "                       strip_accents = 'ascii',\n",
    "                       max_features = 50,\n",
    "                       max_df = .70\n",
    ")\n",
    "\n",
    "# fit our vectorizer\n",
    "tvec.fit(final.lemmed_conversation)\n",
    "\n",
    "# show tfidf matrix\n",
    "df_tvec = pd.DataFrame(tvec.transform(final.lemmed_conversation).todense(),\n",
    "                  columns = tvec.get_feature_names())"
   ]
  },
  {
   "cell_type": "code",
   "execution_count": 1112,
   "metadata": {},
   "outputs": [
    {
     "data": {
      "text/plain": [
       "Index(['actually', 'amendment', 'big', 'city', 'come', 'common', 'did',\n",
       "       'different', 'edit', 'example', 'family', 'feel', 'food', 'friend',\n",
       "       'going', 'good', 'house', 'just', 'kind', 'know', 'language', 'life',\n",
       "       'like', 'live', 'lot', 'make', 'mean', 'new', 'people', 'place',\n",
       "       'popular', 'pretty', 'question', 'really', 'right', 'say', 'school',\n",
       "       'state', 'thing', 'think', 'time', 'url', 'use', 'used', 'usually',\n",
       "       'want', 'way', 'word', 'work', 'year'],\n",
       "      dtype='object')"
      ]
     },
     "execution_count": 1112,
     "metadata": {},
     "output_type": "execute_result"
    }
   ],
   "source": [
    "#comparing words from CountVectorizer\n",
    "df_tvec.columns"
   ]
  },
  {
   "cell_type": "code",
   "execution_count": 1113,
   "metadata": {},
   "outputs": [
    {
     "data": {
      "text/plain": [
       "Index(['actually', 'amendment', 'area', 'bad', 'best', 'better', 'big',\n",
       "       'called', 'car', 'child', 'city', 'come', 'common', 'culture', 'did',\n",
       "       'different', 'edit', 'especially', 'example', 'experience', 'family',\n",
       "       'far', 'feel', 'food', 'friend', 'going', 'good', 'got', 'government',\n",
       "       'great', 'guy', 'having', 'heard', 'high', 'history', 'home', 'house',\n",
       "       'job', 'just', 'kid', 'kind', 'know', 'language', 'law', 'le', 'life',\n",
       "       'like', 'live', 'living', 'local', 'long', 'look', 'lot', 'love',\n",
       "       'make', 'maybe', 'mean', 'need', 'new', 'non', 'old', 'parent', 'party',\n",
       "       'people', 'person', 'place', 'popular', 'president', 'pretty',\n",
       "       'probably', 'public', 'question', 'quite', 'really', 'right', 'said',\n",
       "       'say', 'school', 'seen', 'similar', 'small', 'sound', 'state', 'term',\n",
       "       'thing', 'think', 'thought', 'time', 'town', 'understand', 'url', 'use',\n",
       "       'used', 'usually', 'want', 'way', 'word', 'work', 'world', 'year'],\n",
       "      dtype='object')"
      ]
     },
     "execution_count": 1113,
     "metadata": {},
     "output_type": "execute_result"
    }
   ],
   "source": [
    "#Comparing words from tfidfvectorizer \n",
    "lemmed_df_tvec.columns"
   ]
  },
  {
   "cell_type": "markdown",
   "metadata": {},
   "source": [
    "**Choosing a Vectorizer**\n",
    "\n",
    "I am choosing to model with TfidfVectorizer because it keeps more words that are related to the hypothesis of topics I am intereseting in looking at; which words are used more often per subreddit to show what topics people are curious about."
   ]
  },
  {
   "cell_type": "code",
   "execution_count": 1114,
   "metadata": {},
   "outputs": [
    {
     "data": {
      "text/plain": [
       "Index(['actually', 'amendment', 'area', 'bad', 'best', 'better', 'big',\n",
       "       'called', 'car', 'child', 'city', 'come', 'common', 'culture', 'did',\n",
       "       'different', 'edit', 'especially', 'example', 'experience', 'family',\n",
       "       'far', 'feel', 'food', 'friend', 'going', 'good', 'got', 'government',\n",
       "       'great', 'guy', 'having', 'heard', 'high', 'history', 'home', 'house',\n",
       "       'job', 'just', 'kid', 'kind', 'know', 'language', 'law', 'le', 'life',\n",
       "       'like', 'live', 'living', 'local', 'long', 'look', 'lot', 'love',\n",
       "       'make', 'maybe', 'mean', 'need', 'new', 'non', 'old', 'parent', 'party',\n",
       "       'people', 'person', 'place', 'popular', 'president', 'pretty',\n",
       "       'probably', 'public', 'question', 'quite', 'really', 'right', 'said',\n",
       "       'say', 'school', 'seen', 'similar', 'small', 'sound', 'state', 'term',\n",
       "       'thing', 'think', 'thought', 'time', 'town', 'understand', 'url', 'use',\n",
       "       'used', 'usually', 'want', 'way', 'word', 'work', 'world', 'year'],\n",
       "      dtype='object')"
      ]
     },
     "execution_count": 1114,
     "metadata": {},
     "output_type": "execute_result"
    }
   ],
   "source": [
    "lemmed_df_tvec.columns"
   ]
  },
  {
   "cell_type": "code",
   "execution_count": 1115,
   "metadata": {},
   "outputs": [],
   "source": [
    "topic_df.drop(columns = ['subreddit'], inplace = True)"
   ]
  },
  {
   "cell_type": "code",
   "execution_count": 1116,
   "metadata": {},
   "outputs": [],
   "source": [
    "concat = pd.concat([final, lemmed_df_tvec], axis = 1)\n",
    "concat = pd.concat([concat, topic_df], axis = 1)"
   ]
  },
  {
   "cell_type": "code",
   "execution_count": 1117,
   "metadata": {},
   "outputs": [
    {
     "data": {
      "text/plain": [
       "Index(['id', 'title', 'num_comments', 'body', 'num_upvotes', 'time_posted',\n",
       "       'time_now', 'time_delta', 'subreddit', 'top_comment', 'text_length',\n",
       "       'comment_length', 'title_length', 'question', 'question_length',\n",
       "       'conversation', 'conversation_length', 'AUX_comment', 'NUM_comment',\n",
       "       'ADV_comment'],\n",
       "      dtype='object')"
      ]
     },
     "execution_count": 1117,
     "metadata": {},
     "output_type": "execute_result"
    }
   ],
   "source": [
    "concat.columns[:20]"
   ]
  },
  {
   "cell_type": "code",
   "execution_count": 1118,
   "metadata": {},
   "outputs": [],
   "source": [
    "concat.drop(columns = ['title_length', 'conversation_length',\n",
    "                       'body', 'time_posted', 'time_now', 'time_delta',\n",
    "                       'text_length', 'question', 'conversation', 'url',\n",
    "                      'id', 'title', 'top_comment', 'lemmed_conversation', 'comment_sentiment'], inplace = True)"
   ]
  },
  {
   "cell_type": "code",
   "execution_count": 1119,
   "metadata": {},
   "outputs": [
    {
     "data": {
      "text/plain": [
       "Index(['num_comments', 'num_upvotes', 'subreddit', 'comment_length',\n",
       "       'question_length', 'AUX_comment', 'NUM_comment', 'ADV_comment',\n",
       "       'SCONJ_comment', 'VERB_comment',\n",
       "       ...\n",
       "       'way', 'word', 'work', 'world', 'year', 'Topic0', 'Topic1', 'Topic2',\n",
       "       'Topic3', 'Topic4'],\n",
       "      dtype='object', length=136)"
      ]
     },
     "execution_count": 1119,
     "metadata": {},
     "output_type": "execute_result"
    }
   ],
   "source": [
    "concat.columns"
   ]
  },
  {
   "cell_type": "code",
   "execution_count": 1120,
   "metadata": {},
   "outputs": [
    {
     "name": "stdout",
     "output_type": "stream",
     "text": [
      "num_comments\n",
      "num_upvotes\n",
      "subreddit\n",
      "comment_length\n",
      "question_length\n",
      "AUX_comment\n",
      "NUM_comment\n",
      "ADV_comment\n",
      "SCONJ_comment\n",
      "VERB_comment\n",
      "ADJ_comment\n",
      "SPACE_comment\n",
      "PART_comment\n",
      "X_comment\n",
      "PROPN_comment\n",
      "DET_comment\n",
      "PUNCT_comment\n",
      "CCONJ_comment\n",
      "PRON_comment\n",
      "SYM_comment\n",
      "INTJ_comment\n",
      "NOUN_comment\n",
      "ADP_comment\n",
      "comment_polarity\n",
      "comment_subjectivity\n",
      "…\n",
      ",\n",
      ":\n",
      ";\n",
      ".\n",
      "!\n",
      "?\n",
      "emojis\n",
      "actually\n",
      "amendment\n",
      "area\n",
      "bad\n",
      "best\n",
      "better\n",
      "big\n",
      "called\n",
      "car\n",
      "child\n",
      "city\n",
      "come\n",
      "common\n",
      "culture\n",
      "did\n",
      "different\n",
      "edit\n",
      "especially\n",
      "example\n",
      "experience\n",
      "family\n",
      "far\n",
      "feel\n",
      "food\n",
      "friend\n",
      "going\n",
      "good\n",
      "got\n",
      "government\n",
      "great\n",
      "guy\n",
      "having\n",
      "heard\n",
      "high\n",
      "history\n",
      "home\n",
      "house\n",
      "job\n",
      "just\n",
      "kid\n",
      "kind\n",
      "know\n",
      "language\n",
      "law\n",
      "le\n",
      "life\n",
      "like\n",
      "live\n",
      "living\n",
      "local\n",
      "long\n",
      "look\n",
      "lot\n",
      "love\n",
      "make\n",
      "maybe\n",
      "mean\n",
      "need\n",
      "new\n",
      "non\n",
      "old\n",
      "parent\n",
      "party\n",
      "people\n",
      "person\n",
      "place\n",
      "popular\n",
      "president\n",
      "pretty\n",
      "probably\n",
      "public\n",
      "quite\n",
      "really\n",
      "right\n",
      "said\n",
      "say\n",
      "school\n",
      "seen\n",
      "similar\n",
      "small\n",
      "sound\n",
      "state\n",
      "term\n",
      "thing\n",
      "think\n",
      "thought\n",
      "time\n",
      "town\n",
      "understand\n",
      "use\n",
      "used\n",
      "usually\n",
      "want\n",
      "way\n",
      "word\n",
      "work\n",
      "world\n",
      "year\n",
      "Topic0\n",
      "Topic1\n",
      "Topic2\n",
      "Topic3\n",
      "Topic4\n"
     ]
    }
   ],
   "source": [
    "for column in concat.columns:\n",
    "    print(column)"
   ]
  },
  {
   "cell_type": "code",
   "execution_count": 1121,
   "metadata": {},
   "outputs": [],
   "source": [
    "#saving to a csv for modeling\n",
    "concat.to_csv('./prepared_data.csv', index = False)"
   ]
  },
  {
   "cell_type": "code",
   "execution_count": 1122,
   "metadata": {},
   "outputs": [],
   "source": [
    "eda = pd.concat([final, lemmed_df_tvec], axis = 1)\n",
    "eda = pd.concat([eda, topic_df], axis = 1)"
   ]
  },
  {
   "cell_type": "code",
   "execution_count": 1142,
   "metadata": {},
   "outputs": [],
   "source": [
    "eda.to_csv('./progress_datasets/alltogether.csv', index=False)"
   ]
  },
  {
   "cell_type": "code",
   "execution_count": 1124,
   "metadata": {},
   "outputs": [
    {
     "data": {
      "text/plain": [
       "language     0.041218\n",
       "old          0.016174\n",
       "quite        0.015824\n",
       "edit         0.027800\n",
       "term         0.012543\n",
       "term         0.012543\n",
       "guy          0.022359\n",
       "state        0.049112\n",
       "amendment    0.006633\n",
       "dtype: float64"
      ]
     },
     "execution_count": 1124,
     "metadata": {},
     "output_type": "execute_result"
    }
   ],
   "source": [
    "eda[['language', 'old', 'quite', 'edit', 'term', 'term', 'guy', 'state', 'amendment']].mean()"
   ]
  },
  {
   "cell_type": "code",
   "execution_count": 1125,
   "metadata": {},
   "outputs": [
    {
     "data": {
      "text/plain": [
       "like        0.085067\n",
       "people      0.081865\n",
       "just        0.065159\n",
       "know        0.055962\n",
       "think       0.053969\n",
       "thing       0.050312\n",
       "state       0.049112\n",
       "time        0.043722\n",
       "year        0.043543\n",
       "really      0.043036\n",
       "say         0.042965\n",
       "language    0.041218\n",
       "url         0.037188\n",
       "lot         0.036961\n",
       "use         0.035328\n",
       "dtype: float64"
      ]
     },
     "execution_count": 1125,
     "metadata": {},
     "output_type": "execute_result"
    }
   ],
   "source": [
    "top_15 = lemmed_df_tvec.mean().sort_values(ascending = False)[:15]\n",
    "top_15"
   ]
  },
  {
   "cell_type": "code",
   "execution_count": 1126,
   "metadata": {},
   "outputs": [
    {
     "data": {
      "text/plain": [
       "Index(['actually', 'amendment', 'area', 'bad', 'best', 'better', 'big',\n",
       "       'called', 'car', 'child', 'city', 'come', 'common', 'culture', 'did',\n",
       "       'different', 'edit', 'especially', 'example', 'experience', 'family',\n",
       "       'far', 'feel', 'food', 'friend', 'going', 'good', 'got', 'government',\n",
       "       'great', 'guy', 'having', 'heard', 'high', 'history', 'home', 'house',\n",
       "       'job', 'just', 'kid', 'kind', 'know', 'language', 'law', 'le', 'life',\n",
       "       'like', 'live', 'living', 'local', 'long', 'look', 'lot', 'love',\n",
       "       'make', 'maybe', 'mean', 'need', 'new', 'non', 'old', 'parent', 'party',\n",
       "       'people', 'person', 'place', 'popular', 'president', 'pretty',\n",
       "       'probably', 'public', 'question', 'quite', 'really', 'right', 'said',\n",
       "       'say', 'school', 'seen', 'similar', 'small', 'sound', 'state', 'term',\n",
       "       'thing', 'think', 'thought', 'time', 'town', 'understand', 'url', 'use',\n",
       "       'used', 'usually', 'want', 'way', 'word', 'work', 'world', 'year'],\n",
       "      dtype='object')"
      ]
     },
     "execution_count": 1126,
     "metadata": {},
     "output_type": "execute_result"
    }
   ],
   "source": [
    "lemmed_df_tvec.columns"
   ]
  },
  {
   "cell_type": "code",
   "execution_count": 1127,
   "metadata": {},
   "outputs": [],
   "source": [
    "lemmed_df_tvec['subreddit'] = final['subreddit']"
   ]
  },
  {
   "cell_type": "code",
   "execution_count": 1128,
   "metadata": {},
   "outputs": [],
   "source": [
    "american_top_words = lemmed_df_tvec[lemmed_df_tvec['subreddit']==0].mean().sort_values(ascending=False).head(80)"
   ]
  },
  {
   "cell_type": "code",
   "execution_count": 1129,
   "metadata": {},
   "outputs": [],
   "source": [
    "europe_top_words = lemmed_df_tvec[lemmed_df_tvec['subreddit']==1].mean().sort_values(ascending=False).head(80)"
   ]
  },
  {
   "cell_type": "code",
   "execution_count": 1130,
   "metadata": {},
   "outputs": [
    {
     "data": {
      "text/plain": [
       "Index(['like', 'state', 'people', 'just', 'think', 'thing', 'know', 'really',\n",
       "       'time', 'did', 'year', 'say', 'lot', 'question', 'edit', 'want',\n",
       "       'school', 'make', 'guy', 'feel', 'live', 'going', 'new', 'url', 'good',\n",
       "       'place', 'work', 'use', 'common', 'life', 'different', 'city', 'seen',\n",
       "       'thought', 'heard', 'friend', 'got', 'culture', 'area', 'way', 'mean',\n",
       "       'come', 'love', 'food', 'popular', 'pretty', 'actually', 'house',\n",
       "       'kind', 'home', 'best', 'need', 'family', 'used', 'right', 'example',\n",
       "       'world', 'said', 'better', 'high', 'big', 'job', 'person', 'look',\n",
       "       'town', 'kid', 'probably', 'great', 'understand', 'bad', 'car',\n",
       "       'living', 'public', 'non', 'word', 'government', 'having', 'term',\n",
       "       'usually', 'experience'],\n",
       "      dtype='object')"
      ]
     },
     "execution_count": 1130,
     "metadata": {},
     "output_type": "execute_result"
    }
   ],
   "source": [
    "american_top_words.index"
   ]
  },
  {
   "cell_type": "code",
   "execution_count": 1131,
   "metadata": {},
   "outputs": [],
   "source": [
    "american_top_words = pd.DataFrame({'word':american_top_words.index, 'freq':american_top_words})\n",
    "europe_top_words = pd.DataFrame({'word':europe_top_words.index,  'freq':europe_top_words})"
   ]
  },
  {
   "cell_type": "code",
   "execution_count": 1132,
   "metadata": {},
   "outputs": [],
   "source": [
    "topic_df['subreddit'] = final['subreddit']"
   ]
  },
  {
   "cell_type": "code",
   "execution_count": 1133,
   "metadata": {},
   "outputs": [
    {
     "data": {
      "text/html": [
       "<div>\n",
       "<style scoped>\n",
       "    .dataframe tbody tr th:only-of-type {\n",
       "        vertical-align: middle;\n",
       "    }\n",
       "\n",
       "    .dataframe tbody tr th {\n",
       "        vertical-align: top;\n",
       "    }\n",
       "\n",
       "    .dataframe thead th {\n",
       "        text-align: right;\n",
       "    }\n",
       "</style>\n",
       "<table border=\"1\" class=\"dataframe\">\n",
       "  <thead>\n",
       "    <tr style=\"text-align: right;\">\n",
       "      <th></th>\n",
       "      <th>Topic0</th>\n",
       "      <th>Topic1</th>\n",
       "      <th>Topic2</th>\n",
       "      <th>Topic3</th>\n",
       "      <th>Topic4</th>\n",
       "    </tr>\n",
       "    <tr>\n",
       "      <th>subreddit</th>\n",
       "      <th></th>\n",
       "      <th></th>\n",
       "      <th></th>\n",
       "      <th></th>\n",
       "      <th></th>\n",
       "    </tr>\n",
       "  </thead>\n",
       "  <tbody>\n",
       "    <tr>\n",
       "      <th>0</th>\n",
       "      <td>0.222580</td>\n",
       "      <td>0.164588</td>\n",
       "      <td>0.140417</td>\n",
       "      <td>0.207470</td>\n",
       "      <td>0.264946</td>\n",
       "    </tr>\n",
       "    <tr>\n",
       "      <th>1</th>\n",
       "      <td>0.225413</td>\n",
       "      <td>0.212034</td>\n",
       "      <td>0.144528</td>\n",
       "      <td>0.172927</td>\n",
       "      <td>0.245098</td>\n",
       "    </tr>\n",
       "  </tbody>\n",
       "</table>\n",
       "</div>"
      ],
      "text/plain": [
       "             Topic0    Topic1    Topic2    Topic3    Topic4\n",
       "subreddit                                                  \n",
       "0          0.222580  0.164588  0.140417  0.207470  0.264946\n",
       "1          0.225413  0.212034  0.144528  0.172927  0.245098"
      ]
     },
     "execution_count": 1133,
     "metadata": {},
     "output_type": "execute_result"
    }
   ],
   "source": [
    "topic_df.groupby('subreddit').mean()"
   ]
  },
  {
   "cell_type": "code",
   "execution_count": 1134,
   "metadata": {},
   "outputs": [
    {
     "data": {
      "image/png": "[encoded data removed]",
      "text/plain": [
       "<Figure size 576x432 with 1 Axes>"
      ]
     },
     "metadata": {},
     "output_type": "display_data"
    }
   ],
   "source": [
    "# plotting bar plot of scores when tests are and are not required\n",
    "\n",
    "labels = ['Popular Tourism', 'Work', 'Food', 'Politics', 'Language\\nEducation']\n",
    "\n",
    "lst_one = [0.240245, 0.24128, 0.196315, 0.140445,0.181713]\n",
    "lst_two =  [0.240012, 0.237758, 0.162081, 0.103741, 0.256408]\n",
    "\n",
    "x = np.arange(len(labels))  # the label locations\n",
    "width = 0.4  # the width of the bars\n",
    "\n",
    "fig, ax = plt.subplots(figsize = (8, 6))\n",
    "rects1 = ax.bar(x - width/2, lst_one, width, label='Topics in Ask an American', color = 'firebrick')\n",
    "rects2 = ax.bar(x + width/2, lst_two, width, label='Topics in Ask Europe', color = 'dodgerblue')\n",
    "\n",
    "\n",
    "# Add some text for labels, title and custom x-axis tick labels, etc.\n",
    "ax.set_ylabel('Percent of submissions with this topic', fontsize = 12, labelpad = 10)\n",
    "ax.set_xlabel('Topics', fontsize = 15, labelpad = 20)\n",
    "\n",
    "\n",
    "# setting up the graph\n",
    "ax.set_ylim([.05,.3])\n",
    "ax.set_xticks(x)\n",
    "ax.set_xticklabels(labels, fontsize = 15)\n",
    "ax.legend(loc = (0.33, .85), fontsize = 13, facecolor = 'white')\n",
    "ax.set_facecolor('white')\n",
    "\n",
    "fig.tight_layout()\n",
    "\n",
    "plt.show();\n"
   ]
  },
  {
   "cell_type": "markdown",
   "metadata": {},
   "source": [
    "**Interpretation**\n",
    "\n",
    "While tourism and work life are both equally discussed in European and American subreddits, the other topics are where we can see cultural differences. Above all, Europeans are asked about language and education, while Americans are asked about indentically work and tourism, only then followed by language and education. \n",
    "\n",
    "Furthermore, more people want to know about food and politics in America as compared to in Europe. \n",
    "\n",
    "It would be interesting to examine what times poltics are discussed in regards to political events in America. "
   ]
  },
  {
   "cell_type": "code",
   "execution_count": 1135,
   "metadata": {},
   "outputs": [
    {
     "data": {
      "text/html": [
       "<div>\n",
       "<style scoped>\n",
       "    .dataframe tbody tr th:only-of-type {\n",
       "        vertical-align: middle;\n",
       "    }\n",
       "\n",
       "    .dataframe tbody tr th {\n",
       "        vertical-align: top;\n",
       "    }\n",
       "\n",
       "    .dataframe thead th {\n",
       "        text-align: right;\n",
       "    }\n",
       "</style>\n",
       "<table border=\"1\" class=\"dataframe\">\n",
       "  <thead>\n",
       "    <tr style=\"text-align: right;\">\n",
       "      <th></th>\n",
       "      <th>Word 0</th>\n",
       "      <th>Word 1</th>\n",
       "      <th>Word 2</th>\n",
       "      <th>Word 3</th>\n",
       "      <th>Word 4</th>\n",
       "    </tr>\n",
       "  </thead>\n",
       "  <tbody>\n",
       "    <tr>\n",
       "      <th>Topic 0</th>\n",
       "      <td>people</td>\n",
       "      <td>know</td>\n",
       "      <td>like</td>\n",
       "      <td>home</td>\n",
       "      <td>live</td>\n",
       "    </tr>\n",
       "    <tr>\n",
       "      <th>Topic 1</th>\n",
       "      <td>language</td>\n",
       "      <td>word</td>\n",
       "      <td>state</td>\n",
       "      <td>use</td>\n",
       "      <td>say</td>\n",
       "    </tr>\n",
       "    <tr>\n",
       "      <th>Topic 2</th>\n",
       "      <td>city</td>\n",
       "      <td>called</td>\n",
       "      <td>url</td>\n",
       "      <td>party</td>\n",
       "      <td>town</td>\n",
       "    </tr>\n",
       "    <tr>\n",
       "      <th>Topic 3</th>\n",
       "      <td>school</td>\n",
       "      <td>feel</td>\n",
       "      <td>kid</td>\n",
       "      <td>did</td>\n",
       "      <td>work</td>\n",
       "    </tr>\n",
       "    <tr>\n",
       "      <th>Topic 4</th>\n",
       "      <td>like</td>\n",
       "      <td>people</td>\n",
       "      <td>just</td>\n",
       "      <td>thing</td>\n",
       "      <td>good</td>\n",
       "    </tr>\n",
       "  </tbody>\n",
       "</table>\n",
       "</div>"
      ],
      "text/plain": [
       "           Word 0  Word 1 Word 2 Word 3 Word 4\n",
       "Topic 0    people    know   like   home   live\n",
       "Topic 1  language    word  state    use    say\n",
       "Topic 2      city  called    url  party   town\n",
       "Topic 3    school    feel    kid    did   work\n",
       "Topic 4      like  people   just  thing   good"
      ]
     },
     "execution_count": 1135,
     "metadata": {},
     "output_type": "execute_result"
    }
   ],
   "source": [
    "df_topic_keywords"
   ]
  },
  {
   "cell_type": "code",
   "execution_count": 1136,
   "metadata": {},
   "outputs": [],
   "source": [
    "import matplotlib.pyplot as plt\n",
    "from wordcloud import WordCloud"
   ]
  },
  {
   "cell_type": "code",
   "execution_count": 1137,
   "metadata": {},
   "outputs": [
    {
     "data": {
      "text/html": [
       "<div>\n",
       "<style scoped>\n",
       "    .dataframe tbody tr th:only-of-type {\n",
       "        vertical-align: middle;\n",
       "    }\n",
       "\n",
       "    .dataframe tbody tr th {\n",
       "        vertical-align: top;\n",
       "    }\n",
       "\n",
       "    .dataframe thead th {\n",
       "        text-align: right;\n",
       "    }\n",
       "</style>\n",
       "<table border=\"1\" class=\"dataframe\">\n",
       "  <thead>\n",
       "    <tr style=\"text-align: right;\">\n",
       "      <th></th>\n",
       "      <th>word</th>\n",
       "      <th>freq</th>\n",
       "    </tr>\n",
       "  </thead>\n",
       "  <tbody>\n",
       "    <tr>\n",
       "      <th>like</th>\n",
       "      <td>like</td>\n",
       "      <td>0.083872</td>\n",
       "    </tr>\n",
       "    <tr>\n",
       "      <th>state</th>\n",
       "      <td>state</td>\n",
       "      <td>0.082198</td>\n",
       "    </tr>\n",
       "    <tr>\n",
       "      <th>people</th>\n",
       "      <td>people</td>\n",
       "      <td>0.079399</td>\n",
       "    </tr>\n",
       "    <tr>\n",
       "      <th>just</th>\n",
       "      <td>just</td>\n",
       "      <td>0.070125</td>\n",
       "    </tr>\n",
       "    <tr>\n",
       "      <th>think</th>\n",
       "      <td>think</td>\n",
       "      <td>0.061082</td>\n",
       "    </tr>\n",
       "    <tr>\n",
       "      <th>...</th>\n",
       "      <td>...</td>\n",
       "      <td>...</td>\n",
       "    </tr>\n",
       "    <tr>\n",
       "      <th>government</th>\n",
       "      <td>government</td>\n",
       "      <td>0.015222</td>\n",
       "    </tr>\n",
       "    <tr>\n",
       "      <th>having</th>\n",
       "      <td>having</td>\n",
       "      <td>0.014941</td>\n",
       "    </tr>\n",
       "    <tr>\n",
       "      <th>term</th>\n",
       "      <td>term</td>\n",
       "      <td>0.014867</td>\n",
       "    </tr>\n",
       "    <tr>\n",
       "      <th>usually</th>\n",
       "      <td>usually</td>\n",
       "      <td>0.014800</td>\n",
       "    </tr>\n",
       "    <tr>\n",
       "      <th>experience</th>\n",
       "      <td>experience</td>\n",
       "      <td>0.014761</td>\n",
       "    </tr>\n",
       "  </tbody>\n",
       "</table>\n",
       "<p>80 rows × 2 columns</p>\n",
       "</div>"
      ],
      "text/plain": [
       "                  word      freq\n",
       "like              like  0.083872\n",
       "state            state  0.082198\n",
       "people          people  0.079399\n",
       "just              just  0.070125\n",
       "think            think  0.061082\n",
       "...                ...       ...\n",
       "government  government  0.015222\n",
       "having          having  0.014941\n",
       "term              term  0.014867\n",
       "usually        usually  0.014800\n",
       "experience  experience  0.014761\n",
       "\n",
       "[80 rows x 2 columns]"
      ]
     },
     "execution_count": 1137,
     "metadata": {},
     "output_type": "execute_result"
    }
   ],
   "source": [
    "american_top_words"
   ]
  },
  {
   "cell_type": "code",
   "execution_count": 1138,
   "metadata": {},
   "outputs": [],
   "source": [
    "europe_top_words.drop('subreddit', inplace = True)"
   ]
  },
  {
   "cell_type": "code",
   "execution_count": 1139,
   "metadata": {},
   "outputs": [],
   "source": [
    "d = dict(zip(american_top_words.word, american_top_words.freq))\n",
    "# https://stackoverflow.com/questions/18012505/python-pandas-dataframe-columns-convert-to-dict-key-and-value"
   ]
  },
  {
   "cell_type": "code",
   "execution_count": 1140,
   "metadata": {},
   "outputs": [
    {
     "data": {
      "text/plain": [
       "<Figure size 1440x720 with 0 Axes>"
      ]
     },
     "metadata": {},
     "output_type": "display_data"
    },
    {
     "data": {
      "image/png": "[encoded data removed]",
      "text/plain": [
       "<Figure size 432x288 with 1 Axes>"
      ]
     },
     "metadata": {},
     "output_type": "display_data"
    }
   ],
   "source": [
    "wordcloud = WordCloud(width = 1600, height = 800,\n",
    "                background_color ='white')\n",
    "plt.figure( figsize=(20,10), facecolor='k')\n",
    "wordcloud.generate_from_frequencies(frequencies=d)\n",
    "plt.figure()\n",
    "plt.imshow(wordcloud, interpolation=\"bilinear\") \n",
    "plt.tight_layout(pad=0)\n",
    "plt.axis(\"off\")\n",
    "plt.show();"
   ]
  },
  {
   "cell_type": "code",
   "execution_count": 1141,
   "metadata": {},
   "outputs": [
    {
     "data": {
      "text/plain": [
       "<Figure size 2880x1440 with 0 Axes>"
      ]
     },
     "metadata": {},
     "output_type": "display_data"
    },
    {
     "data": {
      "image/png": "[encoded data removed]",
      "text/plain": [
       "<Figure size 432x288 with 1 Axes>"
      ]
     },
     "metadata": {},
     "output_type": "display_data"
    }
   ],
   "source": [
    "d = dict(zip(europe_top_words.word, europe_top_words.freq))\n",
    "\n",
    "\n",
    "wordcloud = WordCloud(width = 1600, height = 800,\n",
    "                background_color ='lightgrey', colormap = 'YlOrRd'\n",
    "                     )\n",
    "plt.figure( figsize=(40,20), facecolor='k')\n",
    "wordcloud.generate_from_frequencies(frequencies=d)\n",
    "plt.figure()\n",
    "plt.imshow(wordcloud, interpolation=\"bilinear\") \n",
    "plt.tight_layout(pad=0)\n",
    "plt.axis(\"off\")\n",
    "plt.show();"
   ]
  },
  {
   "cell_type": "markdown",
   "metadata": {},
   "source": [
    "**Interpretation**\n",
    "\n",
    "We can see that the most used words in both subreddits are 'people,' 'like,' as well as 'just,' and 'know.' \n",
    "It would be interesting to see the context around each word and why they show up so much. Because the subjectivity of both subreddits ranked fairly evenly, at just under 50\\%, it is interesting to see words that are so common to opinions. \n",
    "\n",
    "It is also telling that the top words are similar, meaning that the language use and topics among subreddit posters and commenters do not differ greatly. "
   ]
  },
  {
   "cell_type": "code",
   "execution_count": null,
   "metadata": {},
   "outputs": [],
   "source": []
  }
 ],
 "metadata": {
  "kernelspec": {
   "display_name": "Python 3",
   "language": "python",
   "name": "python3"
  },
  "language_info": {
   "codemirror_mode": {
    "name": "ipython",
    "version": 3
   },
   "file_extension": ".py",
   "mimetype": "text/x-python",
   "name": "python",
   "nbconvert_exporter": "python",
   "pygments_lexer": "ipython3",
   "version": "3.8.5"
  }
 },
 "nbformat": 4,
 "nbformat_minor": 4
}
