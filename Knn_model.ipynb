{
 "cells": [
  {
   "cell_type": "markdown",
   "metadata": {},
   "source": [
    "# Knn Model"
   ]
  },
  {
   "cell_type": "code",
   "execution_count": 40,
   "metadata": {},
   "outputs": [],
   "source": [
    "import pandas as pd\n",
    "import numpy as np\n",
    "import seaborn as sns\n",
    "import matplotlib.pyplot as plt\n",
    "\n",
    "import sklearn.metrics as metrics\n",
    "\n",
    "from sklearn.neighbors import KNeighborsClassifier\n",
    "from sklearn.preprocessing import StandardScaler\n",
    "from sklearn.feature_extraction import text\n",
    "from sklearn.pipeline import Pipeline\n",
    "from sklearn.model_selection import train_test_split, GridSearchCV\n",
    "from sklearn.model_selection import cross_val_score\n",
    "\n",
    "from sklearn.metrics import confusion_matrix\n",
    "\n",
    "import warnings\n",
    "warnings.filterwarnings('ignore')"
   ]
  },
  {
   "cell_type": "code",
   "execution_count": 41,
   "metadata": {},
   "outputs": [],
   "source": [
    "df = pd.read_csv('./prepared_data.csv')"
   ]
  },
  {
   "cell_type": "code",
   "execution_count": 42,
   "metadata": {},
   "outputs": [
    {
     "data": {
      "text/plain": [
       "0    0.507132\n",
       "1    0.492868\n",
       "Name: subreddit, dtype: float64"
      ]
     },
     "execution_count": 42,
     "metadata": {},
     "output_type": "execute_result"
    }
   ],
   "source": [
    "df['subreddit'].value_counts(normalize=True)"
   ]
  },
  {
   "cell_type": "code",
   "execution_count": 43,
   "metadata": {},
   "outputs": [
    {
     "data": {
      "text/html": [
       "<div>\n",
       "<style scoped>\n",
       "    .dataframe tbody tr th:only-of-type {\n",
       "        vertical-align: middle;\n",
       "    }\n",
       "\n",
       "    .dataframe tbody tr th {\n",
       "        vertical-align: top;\n",
       "    }\n",
       "\n",
       "    .dataframe thead th {\n",
       "        text-align: right;\n",
       "    }\n",
       "</style>\n",
       "<table border=\"1\" class=\"dataframe\">\n",
       "  <thead>\n",
       "    <tr style=\"text-align: right;\">\n",
       "      <th></th>\n",
       "      <th>num_comments</th>\n",
       "      <th>num_upvotes</th>\n",
       "      <th>subreddit</th>\n",
       "      <th>comment_length</th>\n",
       "      <th>question_length</th>\n",
       "      <th>AUX_comment</th>\n",
       "      <th>NUM_comment</th>\n",
       "      <th>ADV_comment</th>\n",
       "      <th>SCONJ_comment</th>\n",
       "      <th>VERB_comment</th>\n",
       "      <th>...</th>\n",
       "      <th>way</th>\n",
       "      <th>word</th>\n",
       "      <th>work</th>\n",
       "      <th>world</th>\n",
       "      <th>year</th>\n",
       "      <th>Topic0</th>\n",
       "      <th>Topic1</th>\n",
       "      <th>Topic2</th>\n",
       "      <th>Topic3</th>\n",
       "      <th>Topic4</th>\n",
       "    </tr>\n",
       "  </thead>\n",
       "  <tbody>\n",
       "    <tr>\n",
       "      <th>0</th>\n",
       "      <td>3</td>\n",
       "      <td>3</td>\n",
       "      <td>1</td>\n",
       "      <td>184</td>\n",
       "      <td>1970</td>\n",
       "      <td>0.055556</td>\n",
       "      <td>0.055556</td>\n",
       "      <td>0.083333</td>\n",
       "      <td>0.000000</td>\n",
       "      <td>0.111111</td>\n",
       "      <td>...</td>\n",
       "      <td>0.0</td>\n",
       "      <td>0.0</td>\n",
       "      <td>0.0</td>\n",
       "      <td>0.0</td>\n",
       "      <td>0.054868</td>\n",
       "      <td>0.054120</td>\n",
       "      <td>0.055009</td>\n",
       "      <td>0.055853</td>\n",
       "      <td>0.055294</td>\n",
       "      <td>0.779723</td>\n",
       "    </tr>\n",
       "    <tr>\n",
       "      <th>1</th>\n",
       "      <td>14</td>\n",
       "      <td>3</td>\n",
       "      <td>0</td>\n",
       "      <td>543</td>\n",
       "      <td>160</td>\n",
       "      <td>0.052632</td>\n",
       "      <td>0.026316</td>\n",
       "      <td>0.078947</td>\n",
       "      <td>0.017544</td>\n",
       "      <td>0.114035</td>\n",
       "      <td>...</td>\n",
       "      <td>0.0</td>\n",
       "      <td>0.0</td>\n",
       "      <td>0.0</td>\n",
       "      <td>0.0</td>\n",
       "      <td>0.000000</td>\n",
       "      <td>0.045641</td>\n",
       "      <td>0.631200</td>\n",
       "      <td>0.046250</td>\n",
       "      <td>0.045573</td>\n",
       "      <td>0.231336</td>\n",
       "    </tr>\n",
       "    <tr>\n",
       "      <th>2</th>\n",
       "      <td>55</td>\n",
       "      <td>3</td>\n",
       "      <td>0</td>\n",
       "      <td>83</td>\n",
       "      <td>343</td>\n",
       "      <td>0.047619</td>\n",
       "      <td>0.000000</td>\n",
       "      <td>0.142857</td>\n",
       "      <td>0.000000</td>\n",
       "      <td>0.095238</td>\n",
       "      <td>...</td>\n",
       "      <td>0.0</td>\n",
       "      <td>0.0</td>\n",
       "      <td>0.0</td>\n",
       "      <td>0.0</td>\n",
       "      <td>0.000000</td>\n",
       "      <td>0.060913</td>\n",
       "      <td>0.062961</td>\n",
       "      <td>0.638645</td>\n",
       "      <td>0.063170</td>\n",
       "      <td>0.174312</td>\n",
       "    </tr>\n",
       "    <tr>\n",
       "      <th>3</th>\n",
       "      <td>3</td>\n",
       "      <td>0</td>\n",
       "      <td>1</td>\n",
       "      <td>921</td>\n",
       "      <td>185</td>\n",
       "      <td>0.037037</td>\n",
       "      <td>0.010582</td>\n",
       "      <td>0.084656</td>\n",
       "      <td>0.015873</td>\n",
       "      <td>0.121693</td>\n",
       "      <td>...</td>\n",
       "      <td>0.0</td>\n",
       "      <td>0.0</td>\n",
       "      <td>0.0</td>\n",
       "      <td>0.0</td>\n",
       "      <td>0.000000</td>\n",
       "      <td>0.047397</td>\n",
       "      <td>0.048781</td>\n",
       "      <td>0.802321</td>\n",
       "      <td>0.053088</td>\n",
       "      <td>0.048413</td>\n",
       "    </tr>\n",
       "    <tr>\n",
       "      <th>4</th>\n",
       "      <td>29</td>\n",
       "      <td>1</td>\n",
       "      <td>0</td>\n",
       "      <td>74</td>\n",
       "      <td>115</td>\n",
       "      <td>0.125000</td>\n",
       "      <td>0.000000</td>\n",
       "      <td>0.125000</td>\n",
       "      <td>0.000000</td>\n",
       "      <td>0.312500</td>\n",
       "      <td>...</td>\n",
       "      <td>0.0</td>\n",
       "      <td>0.0</td>\n",
       "      <td>0.0</td>\n",
       "      <td>0.0</td>\n",
       "      <td>0.000000</td>\n",
       "      <td>0.083787</td>\n",
       "      <td>0.663595</td>\n",
       "      <td>0.084254</td>\n",
       "      <td>0.084290</td>\n",
       "      <td>0.084074</td>\n",
       "    </tr>\n",
       "  </tbody>\n",
       "</table>\n",
       "<p>5 rows × 136 columns</p>\n",
       "</div>"
      ],
      "text/plain": [
       "   num_comments  num_upvotes  subreddit  comment_length  question_length  \\\n",
       "0             3            3          1             184             1970   \n",
       "1            14            3          0             543              160   \n",
       "2            55            3          0              83              343   \n",
       "3             3            0          1             921              185   \n",
       "4            29            1          0              74              115   \n",
       "\n",
       "   AUX_comment  NUM_comment  ADV_comment  SCONJ_comment  VERB_comment  ...  \\\n",
       "0     0.055556     0.055556     0.083333       0.000000      0.111111  ...   \n",
       "1     0.052632     0.026316     0.078947       0.017544      0.114035  ...   \n",
       "2     0.047619     0.000000     0.142857       0.000000      0.095238  ...   \n",
       "3     0.037037     0.010582     0.084656       0.015873      0.121693  ...   \n",
       "4     0.125000     0.000000     0.125000       0.000000      0.312500  ...   \n",
       "\n",
       "   way  word  work  world      year    Topic0    Topic1    Topic2    Topic3  \\\n",
       "0  0.0   0.0   0.0    0.0  0.054868  0.054120  0.055009  0.055853  0.055294   \n",
       "1  0.0   0.0   0.0    0.0  0.000000  0.045641  0.631200  0.046250  0.045573   \n",
       "2  0.0   0.0   0.0    0.0  0.000000  0.060913  0.062961  0.638645  0.063170   \n",
       "3  0.0   0.0   0.0    0.0  0.000000  0.047397  0.048781  0.802321  0.053088   \n",
       "4  0.0   0.0   0.0    0.0  0.000000  0.083787  0.663595  0.084254  0.084290   \n",
       "\n",
       "     Topic4  \n",
       "0  0.779723  \n",
       "1  0.231336  \n",
       "2  0.174312  \n",
       "3  0.048413  \n",
       "4  0.084074  \n",
       "\n",
       "[5 rows x 136 columns]"
      ]
     },
     "execution_count": 43,
     "metadata": {},
     "output_type": "execute_result"
    }
   ],
   "source": [
    "df.head()"
   ]
  },
  {
   "cell_type": "code",
   "execution_count": 44,
   "metadata": {},
   "outputs": [
    {
     "name": "stdout",
     "output_type": "stream",
     "text": [
      "num_comments\n",
      "num_upvotes\n",
      "subreddit\n",
      "comment_length\n",
      "question_length\n",
      "AUX_comment\n",
      "NUM_comment\n",
      "ADV_comment\n",
      "SCONJ_comment\n",
      "VERB_comment\n",
      "ADJ_comment\n",
      "SPACE_comment\n",
      "PART_comment\n",
      "X_comment\n",
      "PROPN_comment\n",
      "DET_comment\n",
      "PUNCT_comment\n",
      "CCONJ_comment\n",
      "PRON_comment\n",
      "SYM_comment\n",
      "INTJ_comment\n",
      "NOUN_comment\n",
      "ADP_comment\n",
      "comment_polarity\n",
      "comment_subjectivity\n",
      "…\n",
      ",\n",
      ":\n",
      ";\n",
      ".\n",
      "!\n",
      "?\n",
      "emojis\n",
      "actually\n",
      "amendment\n",
      "area\n",
      "bad\n",
      "best\n",
      "better\n",
      "big\n",
      "called\n",
      "car\n",
      "child\n",
      "city\n",
      "come\n",
      "common\n",
      "culture\n",
      "did\n",
      "different\n",
      "edit\n",
      "especially\n",
      "example\n",
      "experience\n",
      "family\n",
      "far\n",
      "feel\n",
      "food\n",
      "friend\n",
      "going\n",
      "good\n",
      "got\n",
      "government\n",
      "great\n",
      "guy\n",
      "having\n",
      "heard\n",
      "high\n",
      "history\n",
      "home\n",
      "house\n",
      "job\n",
      "just\n",
      "kid\n",
      "kind\n",
      "know\n",
      "language\n",
      "law\n",
      "le\n",
      "life\n",
      "like\n",
      "live\n",
      "living\n",
      "local\n",
      "long\n",
      "look\n",
      "lot\n",
      "love\n",
      "make\n",
      "maybe\n",
      "mean\n",
      "need\n",
      "new\n",
      "non\n",
      "old\n",
      "parent\n",
      "party\n",
      "people\n",
      "person\n",
      "place\n",
      "popular\n",
      "president\n",
      "pretty\n",
      "probably\n",
      "public\n",
      "quite\n",
      "really\n",
      "right\n",
      "said\n",
      "say\n",
      "school\n",
      "seen\n",
      "similar\n",
      "small\n",
      "sound\n",
      "state\n",
      "term\n",
      "thing\n",
      "think\n",
      "thought\n",
      "time\n",
      "town\n",
      "understand\n",
      "use\n",
      "used\n",
      "usually\n",
      "want\n",
      "way\n",
      "word\n",
      "work\n",
      "world\n",
      "year\n",
      "Topic0\n",
      "Topic1\n",
      "Topic2\n",
      "Topic3\n",
      "Topic4\n"
     ]
    }
   ],
   "source": [
    "for column in df.columns:\n",
    "    print(column)"
   ]
  },
  {
   "cell_type": "code",
   "execution_count": 45,
   "metadata": {},
   "outputs": [],
   "source": [
    "X = df.drop(columns = ['subreddit'])#, 'Topic0', 'Topic1', 'Topic2', 'Topic3', 'Topic4'\n",
    "\n",
    "y = df['subreddit']\n",
    "\n",
    "X_train, X_test, y_train, y_test = train_test_split(X, y)"
   ]
  },
  {
   "cell_type": "code",
   "execution_count": 46,
   "metadata": {},
   "outputs": [],
   "source": [
    "ss= StandardScaler()\n",
    "X_train = ss.fit_transform(X_train)\n",
    "X_test = ss.transform(X_test)"
   ]
  },
  {
   "cell_type": "code",
   "execution_count": 47,
   "metadata": {},
   "outputs": [
    {
     "name": "stdout",
     "output_type": "stream",
     "text": [
      "Fitting 5 folds for each of 4 candidates, totalling 20 fits\n"
     ]
    },
    {
     "name": "stderr",
     "output_type": "stream",
     "text": [
      "[Parallel(n_jobs=1)]: Using backend SequentialBackend with 1 concurrent workers.\n"
     ]
    },
    {
     "name": "stdout",
     "output_type": "stream",
     "text": [
      "0.5785827067669173\n"
     ]
    },
    {
     "name": "stderr",
     "output_type": "stream",
     "text": [
      "[Parallel(n_jobs=1)]: Done  20 out of  20 | elapsed:    2.9s finished\n"
     ]
    },
    {
     "data": {
      "text/plain": [
       "{'n_neighbors': 3, 'weights': 'uniform'}"
      ]
     },
     "execution_count": 47,
     "metadata": {},
     "output_type": "execute_result"
    }
   ],
   "source": [
    "knn = KNeighborsClassifier()\n",
    "\n",
    "grid = {\n",
    "    'n_neighbors': [2, 3],\n",
    "    'weights': ['uniform', 'distance']\n",
    "}\n",
    "\n",
    "\n",
    "gridsearch = GridSearchCV(knn, grid, verbose=1).fit(X_train, y_train)\n",
    "print(gridsearch.best_score_)\n",
    "gridsearch.best_params_\n"
   ]
  },
  {
   "cell_type": "code",
   "execution_count": 48,
   "metadata": {},
   "outputs": [
    {
     "data": {
      "text/html": [
       "<div>\n",
       "<style scoped>\n",
       "    .dataframe tbody tr th:only-of-type {\n",
       "        vertical-align: middle;\n",
       "    }\n",
       "\n",
       "    .dataframe tbody tr th {\n",
       "        vertical-align: top;\n",
       "    }\n",
       "\n",
       "    .dataframe thead th {\n",
       "        text-align: right;\n",
       "    }\n",
       "</style>\n",
       "<table border=\"1\" class=\"dataframe\">\n",
       "  <thead>\n",
       "    <tr style=\"text-align: right;\">\n",
       "      <th></th>\n",
       "      <th>mean_test_score</th>\n",
       "      <th>std_test_score</th>\n",
       "    </tr>\n",
       "  </thead>\n",
       "  <tbody>\n",
       "    <tr>\n",
       "      <th>0</th>\n",
       "      <td>0.575590</td>\n",
       "      <td>0.018426</td>\n",
       "    </tr>\n",
       "    <tr>\n",
       "      <th>2</th>\n",
       "      <td>0.578583</td>\n",
       "      <td>0.020933</td>\n",
       "    </tr>\n",
       "    <tr>\n",
       "      <th>3</th>\n",
       "      <td>0.578583</td>\n",
       "      <td>0.020933</td>\n",
       "    </tr>\n",
       "    <tr>\n",
       "      <th>1</th>\n",
       "      <td>0.562068</td>\n",
       "      <td>0.026815</td>\n",
       "    </tr>\n",
       "  </tbody>\n",
       "</table>\n",
       "</div>"
      ],
      "text/plain": [
       "   mean_test_score  std_test_score\n",
       "0         0.575590        0.018426\n",
       "2         0.578583        0.020933\n",
       "3         0.578583        0.020933\n",
       "1         0.562068        0.026815"
      ]
     },
     "execution_count": 48,
     "metadata": {},
     "output_type": "execute_result"
    }
   ],
   "source": [
    "pd.DataFrame(gridsearch.cv_results_)[['mean_test_score', 'std_test_score']].sort_values('std_test_score')"
   ]
  },
  {
   "cell_type": "code",
   "execution_count": 49,
   "metadata": {},
   "outputs": [
    {
     "name": "stdout",
     "output_type": "stream",
     "text": [
      "Train Score: 0.7782782782782782\n",
      "test Score: 0.6171171171171171\n"
     ]
    }
   ],
   "source": [
    "print(f'Train Score:',gridsearch.score(X_train, y_train))\n",
    "\n",
    "print(f'test Score:',gridsearch.score(X_test, y_test))"
   ]
  },
  {
   "cell_type": "code",
   "execution_count": 50,
   "metadata": {},
   "outputs": [
    {
     "data": {
      "text/plain": [
       "(array([136.,   0.,   0.,   0.,   0., 411.,   0.,   0.,   0., 119.]),\n",
       " array([-1. , -0.8, -0.6, -0.4, -0.2,  0. ,  0.2,  0.4,  0.6,  0.8,  1. ]),\n",
       " <BarContainer object of 10 artists>)"
      ]
     },
     "execution_count": 50,
     "metadata": {},
     "output_type": "execute_result"
    },
    {
     "data": {
      "image/png": "[encoded data removed]",
      "text/plain": [
       "<Figure size 432x288 with 1 Axes>"
      ]
     },
     "metadata": {
      "needs_background": "light"
     },
     "output_type": "display_data"
    }
   ],
   "source": [
    "preds = gridsearch.predict(X_test)\n",
    "residuals = y_test - preds\n",
    "plt.hist(residuals)"
   ]
  },
  {
   "cell_type": "markdown",
   "metadata": {},
   "source": [
    "**Interpretation**\n",
    "\n",
    "The residual histogram shows us that the model is predicting more 'AskEurope' or 1 than 0: 'AskanAmerican.' \n",
    "\n",
    "From the extreme variance in the test and training scores, we can see that the model has high variance and the number of features would need to be decreased to get the model's overfitting down. "
   ]
  },
  {
   "cell_type": "code",
   "execution_count": 51,
   "metadata": {},
   "outputs": [
    {
     "name": "stdout",
     "output_type": "stream",
     "text": [
      "[[190 136]\n",
      " [119 221]]\n"
     ]
    }
   ],
   "source": [
    "tn, fp, fn, tp = confusion_matrix(y_test,\n",
    "                                  preds).ravel()\n",
    "\n",
    "print(confusion_matrix(y_test,\n",
    "                       preds))"
   ]
  },
  {
   "cell_type": "code",
   "execution_count": 52,
   "metadata": {},
   "outputs": [
    {
     "data": {
      "image/png": "[encoded data removed]",
      "text/plain": [
       "<Figure size 432x288 with 2 Axes>"
      ]
     },
     "metadata": {
      "needs_background": "light"
     },
     "output_type": "display_data"
    }
   ],
   "source": [
    "metrics.plot_confusion_matrix(gridsearch, X_test, y_test, cmap='Purples', \n",
    "                      values_format='d', display_labels=['AskanAmerican', 'AskEurope']);"
   ]
  },
  {
   "cell_type": "code",
   "execution_count": 53,
   "metadata": {},
   "outputs": [
    {
     "name": "stdout",
     "output_type": "stream",
     "text": [
      "Precision: 0.6190476190476191\n",
      "Recall: 0.65\n",
      "Accuracy: 0.6171171171171171\n",
      "Specificity: 0.5828220858895705\n"
     ]
    }
   ],
   "source": [
    "# Precision: tp / (tp + fp)\n",
    "print('Precision:', tp/(tp+fp))\n",
    "\n",
    "# Recall: tp / (tp + fn)\n",
    "print('Recall:', tp/(tp + fn))\n",
    "\n",
    "# Accuracy: (tn + tp) / (tn + tp + fn + fp)\n",
    "print('Accuracy:',(tn + tp) / (tn + tp + fn + fp))\n",
    "\n",
    "# Specificity: tn / (tn + fp)\n",
    "\n",
    "print('Specificity:',tn / (tn + fp))"
   ]
  }
 ],
 "metadata": {
  "kernelspec": {
   "display_name": "Python 3",
   "language": "python",
   "name": "python3"
  },
  "language_info": {
   "codemirror_mode": {
    "name": "ipython",
    "version": 3
   },
   "file_extension": ".py",
   "mimetype": "text/x-python",
   "name": "python",
   "nbconvert_exporter": "python",
   "pygments_lexer": "ipython3",
   "version": "3.8.5"
  }
 },
 "nbformat": 4,
 "nbformat_minor": 4
}
