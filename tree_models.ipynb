{
 "cells": [
  {
   "cell_type": "markdown",
   "metadata": {},
   "source": [
    "# Modeling Submissions by Decision Tree, Random Forest and others"
   ]
  },
  {
   "cell_type": "code",
   "execution_count": 58,
   "metadata": {},
   "outputs": [],
   "source": [
    "import pandas as pd\n",
    "import numpy as np\n",
    "import seaborn as sns\n",
    "import matplotlib.pyplot as plt\n",
    "\n",
    "import sklearn.metrics as metrics\n",
    "\n",
    "from sklearn.pipeline import Pipeline\n",
    "from sklearn.model_selection import train_test_split, GridSearchCV\n",
    "from sklearn.ensemble import RandomForestClassifier, ExtraTreesClassifier, BaggingClassifier\n",
    "from sklearn.tree import DecisionTreeClassifier\n",
    "from sklearn.model_selection import cross_val_score, StratifiedKFold\n",
    "from sklearn.metrics import accuracy_score\n",
    "from sklearn.metrics import confusion_matrix\n",
    "\n",
    "import warnings\n",
    "warnings.filterwarnings('ignore')\n",
    "\n",
    "from sklearn.datasets import make_classification\n",
    "from sklearn.ensemble import AdaBoostClassifier, GradientBoostingClassifier\n"
   ]
  },
  {
   "cell_type": "code",
   "execution_count": 94,
   "metadata": {},
   "outputs": [],
   "source": [
    "df = pd.read_csv('./prepared_data.csv')"
   ]
  },
  {
   "cell_type": "code",
   "execution_count": 95,
   "metadata": {},
   "outputs": [
    {
     "data": {
      "text/plain": [
       "0    0.507132\n",
       "1    0.492868\n",
       "Name: subreddit, dtype: float64"
      ]
     },
     "execution_count": 95,
     "metadata": {},
     "output_type": "execute_result"
    }
   ],
   "source": [
    "df['subreddit'].value_counts(normalize=True)"
   ]
  },
  {
   "cell_type": "code",
   "execution_count": 96,
   "metadata": {},
   "outputs": [
    {
     "data": {
      "text/html": [
       "<div>\n",
       "<style scoped>\n",
       "    .dataframe tbody tr th:only-of-type {\n",
       "        vertical-align: middle;\n",
       "    }\n",
       "\n",
       "    .dataframe tbody tr th {\n",
       "        vertical-align: top;\n",
       "    }\n",
       "\n",
       "    .dataframe thead th {\n",
       "        text-align: right;\n",
       "    }\n",
       "</style>\n",
       "<table border=\"1\" class=\"dataframe\">\n",
       "  <thead>\n",
       "    <tr style=\"text-align: right;\">\n",
       "      <th></th>\n",
       "      <th>num_comments</th>\n",
       "      <th>num_upvotes</th>\n",
       "      <th>subreddit</th>\n",
       "      <th>comment_length</th>\n",
       "      <th>question_length</th>\n",
       "      <th>AUX_comment</th>\n",
       "      <th>NUM_comment</th>\n",
       "      <th>ADV_comment</th>\n",
       "      <th>SCONJ_comment</th>\n",
       "      <th>VERB_comment</th>\n",
       "      <th>...</th>\n",
       "      <th>way</th>\n",
       "      <th>word</th>\n",
       "      <th>work</th>\n",
       "      <th>world</th>\n",
       "      <th>year</th>\n",
       "      <th>Topic0</th>\n",
       "      <th>Topic1</th>\n",
       "      <th>Topic2</th>\n",
       "      <th>Topic3</th>\n",
       "      <th>Topic4</th>\n",
       "    </tr>\n",
       "  </thead>\n",
       "  <tbody>\n",
       "    <tr>\n",
       "      <th>0</th>\n",
       "      <td>3</td>\n",
       "      <td>3</td>\n",
       "      <td>1</td>\n",
       "      <td>184</td>\n",
       "      <td>1970</td>\n",
       "      <td>0.055556</td>\n",
       "      <td>0.055556</td>\n",
       "      <td>0.083333</td>\n",
       "      <td>0.000000</td>\n",
       "      <td>0.111111</td>\n",
       "      <td>...</td>\n",
       "      <td>0.0</td>\n",
       "      <td>0.0</td>\n",
       "      <td>0.0</td>\n",
       "      <td>0.0</td>\n",
       "      <td>0.054868</td>\n",
       "      <td>0.552068</td>\n",
       "      <td>0.055045</td>\n",
       "      <td>0.281612</td>\n",
       "      <td>0.056448</td>\n",
       "      <td>0.054827</td>\n",
       "    </tr>\n",
       "    <tr>\n",
       "      <th>1</th>\n",
       "      <td>14</td>\n",
       "      <td>3</td>\n",
       "      <td>0</td>\n",
       "      <td>543</td>\n",
       "      <td>160</td>\n",
       "      <td>0.052632</td>\n",
       "      <td>0.026316</td>\n",
       "      <td>0.078947</td>\n",
       "      <td>0.017544</td>\n",
       "      <td>0.114035</td>\n",
       "      <td>...</td>\n",
       "      <td>0.0</td>\n",
       "      <td>0.0</td>\n",
       "      <td>0.0</td>\n",
       "      <td>0.0</td>\n",
       "      <td>0.000000</td>\n",
       "      <td>0.044244</td>\n",
       "      <td>0.465416</td>\n",
       "      <td>0.044828</td>\n",
       "      <td>0.361178</td>\n",
       "      <td>0.084335</td>\n",
       "    </tr>\n",
       "    <tr>\n",
       "      <th>2</th>\n",
       "      <td>55</td>\n",
       "      <td>3</td>\n",
       "      <td>0</td>\n",
       "      <td>83</td>\n",
       "      <td>343</td>\n",
       "      <td>0.047619</td>\n",
       "      <td>0.000000</td>\n",
       "      <td>0.142857</td>\n",
       "      <td>0.000000</td>\n",
       "      <td>0.095238</td>\n",
       "      <td>...</td>\n",
       "      <td>0.0</td>\n",
       "      <td>0.0</td>\n",
       "      <td>0.0</td>\n",
       "      <td>0.0</td>\n",
       "      <td>0.000000</td>\n",
       "      <td>0.060698</td>\n",
       "      <td>0.266193</td>\n",
       "      <td>0.061328</td>\n",
       "      <td>0.163743</td>\n",
       "      <td>0.448038</td>\n",
       "    </tr>\n",
       "    <tr>\n",
       "      <th>3</th>\n",
       "      <td>3</td>\n",
       "      <td>0</td>\n",
       "      <td>1</td>\n",
       "      <td>921</td>\n",
       "      <td>185</td>\n",
       "      <td>0.037037</td>\n",
       "      <td>0.010582</td>\n",
       "      <td>0.084656</td>\n",
       "      <td>0.015873</td>\n",
       "      <td>0.121693</td>\n",
       "      <td>...</td>\n",
       "      <td>0.0</td>\n",
       "      <td>0.0</td>\n",
       "      <td>0.0</td>\n",
       "      <td>0.0</td>\n",
       "      <td>0.000000</td>\n",
       "      <td>0.048333</td>\n",
       "      <td>0.749756</td>\n",
       "      <td>0.047386</td>\n",
       "      <td>0.047293</td>\n",
       "      <td>0.107233</td>\n",
       "    </tr>\n",
       "    <tr>\n",
       "      <th>4</th>\n",
       "      <td>29</td>\n",
       "      <td>1</td>\n",
       "      <td>0</td>\n",
       "      <td>74</td>\n",
       "      <td>115</td>\n",
       "      <td>0.125000</td>\n",
       "      <td>0.000000</td>\n",
       "      <td>0.125000</td>\n",
       "      <td>0.000000</td>\n",
       "      <td>0.312500</td>\n",
       "      <td>...</td>\n",
       "      <td>0.0</td>\n",
       "      <td>0.0</td>\n",
       "      <td>0.0</td>\n",
       "      <td>0.0</td>\n",
       "      <td>0.000000</td>\n",
       "      <td>0.084430</td>\n",
       "      <td>0.661727</td>\n",
       "      <td>0.085545</td>\n",
       "      <td>0.084678</td>\n",
       "      <td>0.083619</td>\n",
       "    </tr>\n",
       "  </tbody>\n",
       "</table>\n",
       "<p>5 rows × 136 columns</p>\n",
       "</div>"
      ],
      "text/plain": [
       "   num_comments  num_upvotes  subreddit  comment_length  question_length  \\\n",
       "0             3            3          1             184             1970   \n",
       "1            14            3          0             543              160   \n",
       "2            55            3          0              83              343   \n",
       "3             3            0          1             921              185   \n",
       "4            29            1          0              74              115   \n",
       "\n",
       "   AUX_comment  NUM_comment  ADV_comment  SCONJ_comment  VERB_comment  ...  \\\n",
       "0     0.055556     0.055556     0.083333       0.000000      0.111111  ...   \n",
       "1     0.052632     0.026316     0.078947       0.017544      0.114035  ...   \n",
       "2     0.047619     0.000000     0.142857       0.000000      0.095238  ...   \n",
       "3     0.037037     0.010582     0.084656       0.015873      0.121693  ...   \n",
       "4     0.125000     0.000000     0.125000       0.000000      0.312500  ...   \n",
       "\n",
       "   way  word  work  world      year    Topic0    Topic1    Topic2    Topic3  \\\n",
       "0  0.0   0.0   0.0    0.0  0.054868  0.552068  0.055045  0.281612  0.056448   \n",
       "1  0.0   0.0   0.0    0.0  0.000000  0.044244  0.465416  0.044828  0.361178   \n",
       "2  0.0   0.0   0.0    0.0  0.000000  0.060698  0.266193  0.061328  0.163743   \n",
       "3  0.0   0.0   0.0    0.0  0.000000  0.048333  0.749756  0.047386  0.047293   \n",
       "4  0.0   0.0   0.0    0.0  0.000000  0.084430  0.661727  0.085545  0.084678   \n",
       "\n",
       "     Topic4  \n",
       "0  0.054827  \n",
       "1  0.084335  \n",
       "2  0.448038  \n",
       "3  0.107233  \n",
       "4  0.083619  \n",
       "\n",
       "[5 rows x 136 columns]"
      ]
     },
     "execution_count": 96,
     "metadata": {},
     "output_type": "execute_result"
    }
   ],
   "source": [
    "df.head()"
   ]
  },
  {
   "cell_type": "code",
   "execution_count": 97,
   "metadata": {},
   "outputs": [],
   "source": [
    "X = df.drop(columns = ['subreddit'])#, 'Topic0', 'Topic1', 'Topic2', 'Topic3', 'Topic4'\n",
    "\n",
    "y = df['subreddit']\n",
    "\n",
    "X_train, X_test, y_train, y_test = train_test_split(X, y)"
   ]
  },
  {
   "cell_type": "code",
   "execution_count": 98,
   "metadata": {},
   "outputs": [
    {
     "data": {
      "text/plain": [
       "(2664,)"
      ]
     },
     "execution_count": 98,
     "metadata": {},
     "output_type": "execute_result"
    }
   ],
   "source": [
    "y.shape"
   ]
  },
  {
   "cell_type": "markdown",
   "metadata": {},
   "source": [
    "# Decision Tree Classifier"
   ]
  },
  {
   "cell_type": "code",
   "execution_count": 99,
   "metadata": {},
   "outputs": [
    {
     "name": "stdout",
     "output_type": "stream",
     "text": [
      "Train Score: 0.8163163163163163\n",
      "Test Score: 0.6471471471471472\n"
     ]
    }
   ],
   "source": [
    "dt = DecisionTreeClassifier(random_state=42, max_depth = 10)\n",
    "\n",
    "dt.fit(X_train, y_train)\n",
    "print('Train Score:', dt.score(X_train, y_train))\n",
    "print('Test Score:', dt.score(X_test, y_test))"
   ]
  },
  {
   "cell_type": "code",
   "execution_count": 100,
   "metadata": {},
   "outputs": [
    {
     "data": {
      "image/png": "[encoded data removed]",
      "text/plain": [
       "<Figure size 432x288 with 2 Axes>"
      ]
     },
     "metadata": {
      "needs_background": "light"
     },
     "output_type": "display_data"
    }
   ],
   "source": [
    "metrics.plot_confusion_matrix(dt, X_test, y_test, cmap='Purples', \n",
    "                      values_format='d', display_labels=['AskanAmerican', 'AskEurope']);"
   ]
  },
  {
   "cell_type": "code",
   "execution_count": 101,
   "metadata": {},
   "outputs": [],
   "source": [
    "preds = dt.predict(X_test)"
   ]
  },
  {
   "cell_type": "code",
   "execution_count": 102,
   "metadata": {},
   "outputs": [
    {
     "name": "stdout",
     "output_type": "stream",
     "text": [
      "Precision: 0.67\n",
      "Recall: 0.6\n",
      "Accuracy: 0.65\n",
      "Specificity: 0.7\n"
     ]
    }
   ],
   "source": [
    "# Performance by subreddit \n",
    "\n",
    "tn, fp, fn, tp = confusion_matrix(y_test,\n",
    "                                  preds).ravel()\n",
    "\n",
    "print('Precision:', round(tp/(tp+fp), 2))\n",
    "\n",
    "print('Recall:', round(tp/(tp + fn),2))\n",
    "\n",
    "print('Accuracy:',round((tn + tp) / (tn + tp + fn + fp),2))\n",
    "\n",
    "print('Specificity:',round(tn / (tn + fp),2))"
   ]
  },
  {
   "cell_type": "code",
   "execution_count": 103,
   "metadata": {},
   "outputs": [
    {
     "data": {
      "text/html": [
       "<div>\n",
       "<style scoped>\n",
       "    .dataframe tbody tr th:only-of-type {\n",
       "        vertical-align: middle;\n",
       "    }\n",
       "\n",
       "    .dataframe tbody tr th {\n",
       "        vertical-align: top;\n",
       "    }\n",
       "\n",
       "    .dataframe thead th {\n",
       "        text-align: right;\n",
       "    }\n",
       "</style>\n",
       "<table border=\"1\" class=\"dataframe\">\n",
       "  <thead>\n",
       "    <tr style=\"text-align: right;\">\n",
       "      <th></th>\n",
       "      <th>importance</th>\n",
       "      <th>features</th>\n",
       "    </tr>\n",
       "  </thead>\n",
       "  <tbody>\n",
       "    <tr>\n",
       "      <th>113</th>\n",
       "      <td>0.109679</td>\n",
       "      <td>state</td>\n",
       "    </tr>\n",
       "    <tr>\n",
       "      <th>2</th>\n",
       "      <td>0.095784</td>\n",
       "      <td>comment_length</td>\n",
       "    </tr>\n",
       "    <tr>\n",
       "      <th>8</th>\n",
       "      <td>0.080035</td>\n",
       "      <td>VERB_comment</td>\n",
       "    </tr>\n",
       "    <tr>\n",
       "      <th>74</th>\n",
       "      <td>0.079003</td>\n",
       "      <td>language</td>\n",
       "    </tr>\n",
       "    <tr>\n",
       "      <th>0</th>\n",
       "      <td>0.052646</td>\n",
       "      <td>num_comments</td>\n",
       "    </tr>\n",
       "    <tr>\n",
       "      <th>28</th>\n",
       "      <td>0.045412</td>\n",
       "      <td>.</td>\n",
       "    </tr>\n",
       "    <tr>\n",
       "      <th>1</th>\n",
       "      <td>0.041659</td>\n",
       "      <td>num_upvotes</td>\n",
       "    </tr>\n",
       "    <tr>\n",
       "      <th>3</th>\n",
       "      <td>0.032480</td>\n",
       "      <td>question_length</td>\n",
       "    </tr>\n",
       "    <tr>\n",
       "      <th>17</th>\n",
       "      <td>0.030123</td>\n",
       "      <td>PRON_comment</td>\n",
       "    </tr>\n",
       "    <tr>\n",
       "      <th>4</th>\n",
       "      <td>0.024181</td>\n",
       "      <td>AUX_comment</td>\n",
       "    </tr>\n",
       "  </tbody>\n",
       "</table>\n",
       "</div>"
      ],
      "text/plain": [
       "     importance         features\n",
       "113    0.109679            state\n",
       "2      0.095784   comment_length\n",
       "8      0.080035     VERB_comment\n",
       "74     0.079003         language\n",
       "0      0.052646     num_comments\n",
       "28     0.045412                .\n",
       "1      0.041659      num_upvotes\n",
       "3      0.032480  question_length\n",
       "17     0.030123     PRON_comment\n",
       "4      0.024181      AUX_comment"
      ]
     },
     "execution_count": 103,
     "metadata": {},
     "output_type": "execute_result"
    }
   ],
   "source": [
    "# looking at feature importances \n",
    "\n",
    "feature_importance_df = pd.DataFrame({'importance':dt.feature_importances_,\n",
    "                                                           'features': X.columns})\n",
    "\n",
    "feature_importance_df.sort_values('importance', ascending = False).head(10)"
   ]
  },
  {
   "cell_type": "markdown",
   "metadata": {},
   "source": [
    "**Interpretation**\n",
    "\n",
    "This model had a variance between test and training scores of almost 20\\% indicating that the model overfit on training data and could not perform as well given new data. The features that were the deciding factors were words and comments as well as punctuation use. It also did the poorest at predicting the positive class, 'AskEurope' which may be due to the slight majority (less than 1\\%) that the class had. "
   ]
  },
  {
   "cell_type": "code",
   "execution_count": 104,
   "metadata": {},
   "outputs": [
    {
     "name": "stdout",
     "output_type": "stream",
     "text": [
      "{'ccp_alpha': 0, 'max_depth': 7, 'min_samples_leaf': 3, 'min_samples_split': 10}\n",
      "Score on training set: 0.7322322322322322\n",
      "Score on testing set: 0.6381381381381381\n"
     ]
    }
   ],
   "source": [
    "#grid searching parameters \n",
    "params = {\n",
    "    'max_depth': [2, 3, 5, 7],\n",
    "    'min_samples_split': [5, 10, 15, 20],\n",
    "    'min_samples_leaf': [2, 3, 4, 5, 6],\n",
    "    'ccp_alpha': [0, 0.001, 0.01, 0.1, 1, 10]\n",
    "}\n",
    "\n",
    "grid = GridSearchCV(DecisionTreeClassifier(random_state=42), param_grid=params)\n",
    "grid.fit(X_train, y_train)\n",
    " \n",
    "print(grid.best_params_)\n",
    " \n",
    "print(f'Score on training set: {grid.score(X_train, y_train)}')\n",
    "print(f'Score on testing set: {grid.score(X_test, y_test)}')\n"
   ]
  },
  {
   "cell_type": "code",
   "execution_count": 105,
   "metadata": {},
   "outputs": [
    {
     "data": {
      "text/html": [
       "<div>\n",
       "<style scoped>\n",
       "    .dataframe tbody tr th:only-of-type {\n",
       "        vertical-align: middle;\n",
       "    }\n",
       "\n",
       "    .dataframe tbody tr th {\n",
       "        vertical-align: top;\n",
       "    }\n",
       "\n",
       "    .dataframe thead th {\n",
       "        text-align: right;\n",
       "    }\n",
       "</style>\n",
       "<table border=\"1\" class=\"dataframe\">\n",
       "  <thead>\n",
       "    <tr style=\"text-align: right;\">\n",
       "      <th></th>\n",
       "      <th>mean_test_score</th>\n",
       "      <th>std_test_score</th>\n",
       "    </tr>\n",
       "  </thead>\n",
       "  <tbody>\n",
       "    <tr>\n",
       "      <th>479</th>\n",
       "      <td>0.511011</td>\n",
       "      <td>0.000939</td>\n",
       "    </tr>\n",
       "    <tr>\n",
       "      <th>326</th>\n",
       "      <td>0.511011</td>\n",
       "      <td>0.000939</td>\n",
       "    </tr>\n",
       "    <tr>\n",
       "      <th>325</th>\n",
       "      <td>0.511011</td>\n",
       "      <td>0.000939</td>\n",
       "    </tr>\n",
       "    <tr>\n",
       "      <th>324</th>\n",
       "      <td>0.511011</td>\n",
       "      <td>0.000939</td>\n",
       "    </tr>\n",
       "    <tr>\n",
       "      <th>323</th>\n",
       "      <td>0.511011</td>\n",
       "      <td>0.000939</td>\n",
       "    </tr>\n",
       "    <tr>\n",
       "      <th>...</th>\n",
       "      <td>...</td>\n",
       "      <td>...</td>\n",
       "    </tr>\n",
       "    <tr>\n",
       "      <th>129</th>\n",
       "      <td>0.621615</td>\n",
       "      <td>0.028153</td>\n",
       "    </tr>\n",
       "    <tr>\n",
       "      <th>49</th>\n",
       "      <td>0.621615</td>\n",
       "      <td>0.028153</td>\n",
       "    </tr>\n",
       "    <tr>\n",
       "      <th>138</th>\n",
       "      <td>0.625619</td>\n",
       "      <td>0.028262</td>\n",
       "    </tr>\n",
       "    <tr>\n",
       "      <th>58</th>\n",
       "      <td>0.625619</td>\n",
       "      <td>0.028262</td>\n",
       "    </tr>\n",
       "    <tr>\n",
       "      <th>128</th>\n",
       "      <td>0.621615</td>\n",
       "      <td>0.028550</td>\n",
       "    </tr>\n",
       "  </tbody>\n",
       "</table>\n",
       "<p>480 rows × 2 columns</p>\n",
       "</div>"
      ],
      "text/plain": [
       "     mean_test_score  std_test_score\n",
       "479         0.511011        0.000939\n",
       "326         0.511011        0.000939\n",
       "325         0.511011        0.000939\n",
       "324         0.511011        0.000939\n",
       "323         0.511011        0.000939\n",
       "..               ...             ...\n",
       "129         0.621615        0.028153\n",
       "49          0.621615        0.028153\n",
       "138         0.625619        0.028262\n",
       "58          0.625619        0.028262\n",
       "128         0.621615        0.028550\n",
       "\n",
       "[480 rows x 2 columns]"
      ]
     },
     "execution_count": 105,
     "metadata": {},
     "output_type": "execute_result"
    }
   ],
   "source": [
    "pd.DataFrame(grid.cv_results_)[['mean_test_score',\n",
    "                                'std_test_score']].sort_values('std_test_score')"
   ]
  },
  {
   "cell_type": "code",
   "execution_count": 106,
   "metadata": {},
   "outputs": [
    {
     "data": {
      "text/html": [
       "<div>\n",
       "<style scoped>\n",
       "    .dataframe tbody tr th:only-of-type {\n",
       "        vertical-align: middle;\n",
       "    }\n",
       "\n",
       "    .dataframe tbody tr th {\n",
       "        vertical-align: top;\n",
       "    }\n",
       "\n",
       "    .dataframe thead th {\n",
       "        text-align: right;\n",
       "    }\n",
       "</style>\n",
       "<table border=\"1\" class=\"dataframe\">\n",
       "  <thead>\n",
       "    <tr style=\"text-align: right;\">\n",
       "      <th></th>\n",
       "      <th>coefs</th>\n",
       "      <th>features</th>\n",
       "    </tr>\n",
       "  </thead>\n",
       "  <tbody>\n",
       "    <tr>\n",
       "      <th>113</th>\n",
       "      <td>0.172453</td>\n",
       "      <td>state</td>\n",
       "    </tr>\n",
       "    <tr>\n",
       "      <th>2</th>\n",
       "      <td>0.146616</td>\n",
       "      <td>comment_length</td>\n",
       "    </tr>\n",
       "    <tr>\n",
       "      <th>8</th>\n",
       "      <td>0.110472</td>\n",
       "      <td>VERB_comment</td>\n",
       "    </tr>\n",
       "    <tr>\n",
       "      <th>74</th>\n",
       "      <td>0.104433</td>\n",
       "      <td>language</td>\n",
       "    </tr>\n",
       "    <tr>\n",
       "      <th>28</th>\n",
       "      <td>0.066844</td>\n",
       "      <td>.</td>\n",
       "    </tr>\n",
       "    <tr>\n",
       "      <th>0</th>\n",
       "      <td>0.063307</td>\n",
       "      <td>num_comments</td>\n",
       "    </tr>\n",
       "    <tr>\n",
       "      <th>3</th>\n",
       "      <td>0.051070</td>\n",
       "      <td>question_length</td>\n",
       "    </tr>\n",
       "    <tr>\n",
       "      <th>1</th>\n",
       "      <td>0.029427</td>\n",
       "      <td>num_upvotes</td>\n",
       "    </tr>\n",
       "    <tr>\n",
       "      <th>23</th>\n",
       "      <td>0.028302</td>\n",
       "      <td>comment_subjectivity</td>\n",
       "    </tr>\n",
       "    <tr>\n",
       "      <th>30</th>\n",
       "      <td>0.025152</td>\n",
       "      <td>?</td>\n",
       "    </tr>\n",
       "  </tbody>\n",
       "</table>\n",
       "</div>"
      ],
      "text/plain": [
       "        coefs              features\n",
       "113  0.172453                 state\n",
       "2    0.146616        comment_length\n",
       "8    0.110472          VERB_comment\n",
       "74   0.104433              language\n",
       "28   0.066844                     .\n",
       "0    0.063307          num_comments\n",
       "3    0.051070       question_length\n",
       "1    0.029427           num_upvotes\n",
       "23   0.028302  comment_subjectivity\n",
       "30   0.025152                     ?"
      ]
     },
     "execution_count": 106,
     "metadata": {},
     "output_type": "execute_result"
    }
   ],
   "source": [
    "grid_importance_df = pd.DataFrame({'coefs':grid.best_estimator_.feature_importances_,\n",
    "                                                           'features': X_train.columns})\n",
    "\n",
    "grid_importance_df.sort_values('coefs', ascending = False).head(10)"
   ]
  },
  {
   "cell_type": "code",
   "execution_count": 109,
   "metadata": {},
   "outputs": [
    {
     "data": {
      "text/plain": [
       "(666,)"
      ]
     },
     "execution_count": 109,
     "metadata": {},
     "output_type": "execute_result"
    }
   ],
   "source": [
    "y_test.shape"
   ]
  },
  {
   "cell_type": "code",
   "execution_count": 110,
   "metadata": {},
   "outputs": [
    {
     "data": {
      "image/png": "[encoded data removed]",
      "text/plain": [
       "<Figure size 432x288 with 2 Axes>"
      ]
     },
     "metadata": {
      "needs_background": "light"
     },
     "output_type": "display_data"
    }
   ],
   "source": [
    "metrics.plot_confusion_matrix(grid, X_test, y_test, cmap='Purples', \n",
    "                      values_format='d', display_labels=['AskanAmerican',\n",
    "                                                         'AskEurope']);"
   ]
  },
  {
   "cell_type": "markdown",
   "metadata": {},
   "source": [
    "**Interpretation** \n",
    "\n",
    "Introducing bias into the Decision Tree Model by decreasing the decisions the tree could make improved the variance of the model from the original attempt. The features used to determine the predictions vary greatly from the logistic regression and could be used for when teachers are looking to focus on certain communication techniques for lesson recommendations as compared to the Logistic Regression model which relied on words in the model.\n",
    "\n",
    "The model again did better predicting the positive class than the negative one. "
   ]
  },
  {
   "cell_type": "markdown",
   "metadata": {},
   "source": [
    "# Random Forest, Bagging and Extra Tree Models"
   ]
  },
  {
   "cell_type": "code",
   "execution_count": 111,
   "metadata": {},
   "outputs": [
    {
     "name": "stdout",
     "output_type": "stream",
     "text": [
      "Bagging DT score:\t0.659 ± 0.016\n",
      "Random Forest score:\t0.704 ± 0.004\n",
      "Extra Trees score:\t0.686 ± 0.008\n"
     ]
    }
   ],
   "source": [
    "# comparing different models apart from Decision Tree\n",
    "\n",
    "bdt = BaggingClassifier(DecisionTreeClassifier())\n",
    "rf = RandomForestClassifier(class_weight = 'balanced', \n",
    "                            n_estimators = 200,\n",
    "                            max_depth = 50,\n",
    "                            max_features = 10,\n",
    "                            n_jobs = -1)\n",
    "et = ExtraTreesClassifier(class_weight = 'balanced', n_jobs = -1)\n",
    "cv = StratifiedKFold(n_splits = 3, random_state = 73, shuffle = True)\n",
    "\n",
    "def score(model, name):\n",
    "    s = cross_val_score(model, X_train, y_train, cv = cv)\n",
    "    print('{} score:\\t{} \\u00b1 {}'.format(name, s.mean().round(3), \n",
    "                                                 s.std().round(3)))\n",
    "score(bdt, \"Bagging DT\")\n",
    "score(rf, \"Random Forest\")\n",
    "score(et, \"Extra Trees\")"
   ]
  },
  {
   "cell_type": "code",
   "execution_count": 129,
   "metadata": {},
   "outputs": [
    {
     "name": "stdout",
     "output_type": "stream",
     "text": [
      "Train Score: 0.9404404404404404\n",
      "test Score: 0.6846846846846847\n",
      "{'ccp_alpha': 0, 'max_depth': 100, 'min_samples_leaf': 7, 'n_estimators': 100}\n"
     ]
    }
   ],
   "source": [
    "# grid searching Random Forest Classifier\n",
    "\n",
    "params = {\n",
    "    'n_estimators': [10, 100],\n",
    "    'max_depth': [5, 100],\n",
    "    'min_samples_leaf': [3, 7],\n",
    "    'ccp_alpha': [0, 0.001,10]\n",
    "}\n",
    "\n",
    "grid = GridSearchCV(RandomForestClassifier(n_jobs = -1, random_state=42),\\\n",
    "                    param_grid=params)\n",
    "grid.fit(X_train, y_train)\n",
    "print(f'Train Score:',grid.score(X_train, y_train))\n",
    "print(f'test Score:',grid.score(X_test, y_test))\n",
    "print(grid.best_params_)"
   ]
  },
  {
   "cell_type": "code",
   "execution_count": 130,
   "metadata": {},
   "outputs": [
    {
     "data": {
      "text/html": [
       "<div>\n",
       "<style scoped>\n",
       "    .dataframe tbody tr th:only-of-type {\n",
       "        vertical-align: middle;\n",
       "    }\n",
       "\n",
       "    .dataframe tbody tr th {\n",
       "        vertical-align: top;\n",
       "    }\n",
       "\n",
       "    .dataframe thead th {\n",
       "        text-align: right;\n",
       "    }\n",
       "</style>\n",
       "<table border=\"1\" class=\"dataframe\">\n",
       "  <thead>\n",
       "    <tr style=\"text-align: right;\">\n",
       "      <th></th>\n",
       "      <th>mean_test_score</th>\n",
       "      <th>std_test_score</th>\n",
       "    </tr>\n",
       "  </thead>\n",
       "  <tbody>\n",
       "    <tr>\n",
       "      <th>23</th>\n",
       "      <td>0.511011</td>\n",
       "      <td>0.000939</td>\n",
       "    </tr>\n",
       "    <tr>\n",
       "      <th>21</th>\n",
       "      <td>0.511011</td>\n",
       "      <td>0.000939</td>\n",
       "    </tr>\n",
       "    <tr>\n",
       "      <th>20</th>\n",
       "      <td>0.511011</td>\n",
       "      <td>0.000939</td>\n",
       "    </tr>\n",
       "    <tr>\n",
       "      <th>19</th>\n",
       "      <td>0.511011</td>\n",
       "      <td>0.000939</td>\n",
       "    </tr>\n",
       "    <tr>\n",
       "      <th>18</th>\n",
       "      <td>0.511011</td>\n",
       "      <td>0.000939</td>\n",
       "    </tr>\n",
       "  </tbody>\n",
       "</table>\n",
       "</div>"
      ],
      "text/plain": [
       "    mean_test_score  std_test_score\n",
       "23         0.511011        0.000939\n",
       "21         0.511011        0.000939\n",
       "20         0.511011        0.000939\n",
       "19         0.511011        0.000939\n",
       "18         0.511011        0.000939"
      ]
     },
     "execution_count": 130,
     "metadata": {},
     "output_type": "execute_result"
    }
   ],
   "source": [
    "# looking at results of all parameters \n",
    "\n",
    "pd.DataFrame(grid.cv_results_)[['mean_test_score', \n",
    "                                'std_test_score']].sort_values('std_test_score').head()"
   ]
  },
  {
   "cell_type": "code",
   "execution_count": 149,
   "metadata": {},
   "outputs": [
    {
     "data": {
      "text/html": [
       "<div>\n",
       "<style scoped>\n",
       "    .dataframe tbody tr th:only-of-type {\n",
       "        vertical-align: middle;\n",
       "    }\n",
       "\n",
       "    .dataframe tbody tr th {\n",
       "        vertical-align: top;\n",
       "    }\n",
       "\n",
       "    .dataframe thead th {\n",
       "        text-align: right;\n",
       "    }\n",
       "</style>\n",
       "<table border=\"1\" class=\"dataframe\">\n",
       "  <thead>\n",
       "    <tr style=\"text-align: right;\">\n",
       "      <th></th>\n",
       "      <th>features</th>\n",
       "      <th>coefs</th>\n",
       "    </tr>\n",
       "  </thead>\n",
       "  <tbody>\n",
       "    <tr>\n",
       "      <th>24</th>\n",
       "      <td>0.000000</td>\n",
       "      <td>…</td>\n",
       "    </tr>\n",
       "    <tr>\n",
       "      <th>129</th>\n",
       "      <td>0.003527</td>\n",
       "      <td>year</td>\n",
       "    </tr>\n",
       "    <tr>\n",
       "      <th>128</th>\n",
       "      <td>0.000720</td>\n",
       "      <td>world</td>\n",
       "    </tr>\n",
       "    <tr>\n",
       "      <th>127</th>\n",
       "      <td>0.001469</td>\n",
       "      <td>work</td>\n",
       "    </tr>\n",
       "    <tr>\n",
       "      <th>126</th>\n",
       "      <td>0.003287</td>\n",
       "      <td>word</td>\n",
       "    </tr>\n",
       "    <tr>\n",
       "      <th>...</th>\n",
       "      <td>...</td>\n",
       "      <td>...</td>\n",
       "    </tr>\n",
       "    <tr>\n",
       "      <th>27</th>\n",
       "      <td>0.000000</td>\n",
       "      <td>;</td>\n",
       "    </tr>\n",
       "    <tr>\n",
       "      <th>26</th>\n",
       "      <td>0.002952</td>\n",
       "      <td>:</td>\n",
       "    </tr>\n",
       "    <tr>\n",
       "      <th>28</th>\n",
       "      <td>0.033305</td>\n",
       "      <td>.</td>\n",
       "    </tr>\n",
       "    <tr>\n",
       "      <th>25</th>\n",
       "      <td>0.015106</td>\n",
       "      <td>,</td>\n",
       "    </tr>\n",
       "    <tr>\n",
       "      <th>29</th>\n",
       "      <td>0.000242</td>\n",
       "      <td>!</td>\n",
       "    </tr>\n",
       "  </tbody>\n",
       "</table>\n",
       "<p>135 rows × 2 columns</p>\n",
       "</div>"
      ],
      "text/plain": [
       "     features  coefs\n",
       "24   0.000000      …\n",
       "129  0.003527   year\n",
       "128  0.000720  world\n",
       "127  0.001469   work\n",
       "126  0.003287   word\n",
       "..        ...    ...\n",
       "27   0.000000      ;\n",
       "26   0.002952      :\n",
       "28   0.033305      .\n",
       "25   0.015106      ,\n",
       "29   0.000242      !\n",
       "\n",
       "[135 rows x 2 columns]"
      ]
     },
     "execution_count": 149,
     "metadata": {},
     "output_type": "execute_result"
    }
   ],
   "source": [
    "# feature importance of Extra Trees Classifer \n",
    "\n",
    "feature_importance_df = pd.DataFrame({'features':grid.best_estimator_.feature_importances_,\n",
    "                                                         'coefs': X_train.columns})\n",
    "\n",
    "feature_importance_df.sort_values('coefs', ascending = False)"
   ]
  },
  {
   "cell_type": "code",
   "execution_count": 174,
   "metadata": {},
   "outputs": [],
   "source": [
    "# Evaluating Random Trees Fully\n",
    "\n",
    "model = RandomForestClassifier(n_jobs = -1, \n",
    "                             ccp_alpha=.0001, \n",
    "                             max_depth =5,\n",
    "                              max_features = 5,\n",
    "                             min_samples_leaf= 5,\n",
    "                             n_estimators= 200)\n",
    "\n",
    "model.fit(X_train, y_train)\n",
    "preds = model.predict(X_test)\n",
    "\n",
    "residuals = y_test - preds"
   ]
  },
  {
   "cell_type": "code",
   "execution_count": 175,
   "metadata": {},
   "outputs": [
    {
     "name": "stdout",
     "output_type": "stream",
     "text": [
      "Train Score: 0.7807807807807807\n",
      "test Score: 0.6786786786786787\n"
     ]
    }
   ],
   "source": [
    "print(f'Train Score:',model.score(X_train, y_train))\n",
    "print(f'test Score:',model.score(X_test, y_test))"
   ]
  },
  {
   "cell_type": "code",
   "execution_count": 176,
   "metadata": {},
   "outputs": [
    {
     "data": {
      "text/plain": [
       "(array([ 85.,   0.,   0.,   0.,   0., 452.,   0.,   0.,   0., 129.]),\n",
       " array([-1. , -0.8, -0.6, -0.4, -0.2,  0. ,  0.2,  0.4,  0.6,  0.8,  1. ]),\n",
       " <BarContainer object of 10 artists>)"
      ]
     },
     "execution_count": 176,
     "metadata": {},
     "output_type": "execute_result"
    },
    {
     "data": {
      "image/png": "[encoded data removed]",
      "text/plain": [
       "<Figure size 432x288 with 1 Axes>"
      ]
     },
     "metadata": {
      "needs_background": "light"
     },
     "output_type": "display_data"
    }
   ],
   "source": [
    "plt.hist(residuals)"
   ]
  },
  {
   "cell_type": "markdown",
   "metadata": {},
   "source": [
    "**Interpretation**\n",
    "\n",
    "The residual histogram shows us that the model is predicting more 'AskanAmerican', or 0, than 'AskEurope' or 1. \n",
    "\n",
    "This could be because 'AskanAmerican' posts are slightly infavor, albeit with less than 1\\% of majority."
   ]
  },
  {
   "cell_type": "code",
   "execution_count": 177,
   "metadata": {},
   "outputs": [
    {
     "name": "stdout",
     "output_type": "stream",
     "text": [
      "[[245  85]\n",
      " [129 207]]\n"
     ]
    }
   ],
   "source": [
    "tn, fp, fn, tp = confusion_matrix(y_test,\n",
    "                                  preds).ravel()\n",
    "\n",
    "print(confusion_matrix(y_test,\n",
    "                       preds))"
   ]
  },
  {
   "cell_type": "code",
   "execution_count": 178,
   "metadata": {},
   "outputs": [
    {
     "data": {
      "image/png": "[encoded data removed]",
      "text/plain": [
       "<Figure size 432x288 with 2 Axes>"
      ]
     },
     "metadata": {
      "needs_background": "light"
     },
     "output_type": "display_data"
    }
   ],
   "source": [
    "metrics.plot_confusion_matrix(model, X_test, y_test, cmap='Purples', \n",
    "                      values_format='d', display_labels=['AskanAmerican', 'AskEurope']);"
   ]
  },
  {
   "cell_type": "code",
   "execution_count": 179,
   "metadata": {},
   "outputs": [
    {
     "name": "stdout",
     "output_type": "stream",
     "text": [
      "Precision: 0.708904109589041\n",
      "Recall: 0.6160714285714286\n",
      "Accuracy: 0.6786786786786787\n",
      "Specificity: 0.7424242424242424\n"
     ]
    }
   ],
   "source": [
    "# Precision: tp / (tp + fp)\n",
    "print('Precision:', tp/(tp+fp))\n",
    "\n",
    "# Recall: tp / (tp + fn)\n",
    "print('Recall:', tp/(tp + fn))\n",
    "\n",
    "# Accuracy: (tn + tp) / (tn + tp + fn + fp)\n",
    "print('Accuracy:',(tn + tp) / (tn + tp + fn + fp))\n",
    "\n",
    "# Specificity: tn / (tn + fp)\n",
    "\n",
    "print('Specificity:',tn / (tn + fp))"
   ]
  },
  {
   "cell_type": "code",
   "execution_count": 180,
   "metadata": {},
   "outputs": [
    {
     "data": {
      "text/html": [
       "<div>\n",
       "<style scoped>\n",
       "    .dataframe tbody tr th:only-of-type {\n",
       "        vertical-align: middle;\n",
       "    }\n",
       "\n",
       "    .dataframe tbody tr th {\n",
       "        vertical-align: top;\n",
       "    }\n",
       "\n",
       "    .dataframe thead th {\n",
       "        text-align: right;\n",
       "    }\n",
       "</style>\n",
       "<table border=\"1\" class=\"dataframe\">\n",
       "  <thead>\n",
       "    <tr style=\"text-align: right;\">\n",
       "      <th></th>\n",
       "      <th>importance</th>\n",
       "      <th>features</th>\n",
       "    </tr>\n",
       "  </thead>\n",
       "  <tbody>\n",
       "    <tr>\n",
       "      <th>130</th>\n",
       "      <td>0.058615</td>\n",
       "      <td>Topic0</td>\n",
       "    </tr>\n",
       "    <tr>\n",
       "      <th>74</th>\n",
       "      <td>0.057802</td>\n",
       "      <td>language</td>\n",
       "    </tr>\n",
       "    <tr>\n",
       "      <th>113</th>\n",
       "      <td>0.057393</td>\n",
       "      <td>state</td>\n",
       "    </tr>\n",
       "    <tr>\n",
       "      <th>2</th>\n",
       "      <td>0.043861</td>\n",
       "      <td>comment_length</td>\n",
       "    </tr>\n",
       "    <tr>\n",
       "      <th>28</th>\n",
       "      <td>0.037964</td>\n",
       "      <td>.</td>\n",
       "    </tr>\n",
       "    <tr>\n",
       "      <th>4</th>\n",
       "      <td>0.037847</td>\n",
       "      <td>AUX_comment</td>\n",
       "    </tr>\n",
       "    <tr>\n",
       "      <th>0</th>\n",
       "      <td>0.035151</td>\n",
       "      <td>num_comments</td>\n",
       "    </tr>\n",
       "    <tr>\n",
       "      <th>3</th>\n",
       "      <td>0.034812</td>\n",
       "      <td>question_length</td>\n",
       "    </tr>\n",
       "    <tr>\n",
       "      <th>1</th>\n",
       "      <td>0.026628</td>\n",
       "      <td>num_upvotes</td>\n",
       "    </tr>\n",
       "    <tr>\n",
       "      <th>8</th>\n",
       "      <td>0.026128</td>\n",
       "      <td>VERB_comment</td>\n",
       "    </tr>\n",
       "  </tbody>\n",
       "</table>\n",
       "</div>"
      ],
      "text/plain": [
       "     importance         features\n",
       "130    0.058615           Topic0\n",
       "74     0.057802         language\n",
       "113    0.057393            state\n",
       "2      0.043861   comment_length\n",
       "28     0.037964                .\n",
       "4      0.037847      AUX_comment\n",
       "0      0.035151     num_comments\n",
       "3      0.034812  question_length\n",
       "1      0.026628      num_upvotes\n",
       "8      0.026128     VERB_comment"
      ]
     },
     "execution_count": 180,
     "metadata": {},
     "output_type": "execute_result"
    }
   ],
   "source": [
    "# feature importance of Extra Trees \n",
    "\n",
    "feature_importance_df = pd.DataFrame({'importance':model.feature_importances_,\n",
    "                                                           'features': X.columns})\n",
    "\n",
    "feature_importance_df.sort_values('importance', ascending = False).head(10)"
   ]
  },
  {
   "cell_type": "markdown",
   "metadata": {},
   "source": [
    "# Boosting Models"
   ]
  },
  {
   "cell_type": "code",
   "execution_count": 181,
   "metadata": {},
   "outputs": [
    {
     "data": {
      "text/plain": [
       "0.6306306306306306"
      ]
     },
     "execution_count": 181,
     "metadata": {},
     "output_type": "execute_result"
    }
   ],
   "source": [
    "dt = DecisionTreeClassifier()\n",
    "dt.fit(X_train, y_train)\n",
    "y_pred = dt.predict(X_test)\n",
    "accuracy =accuracy_score(y_test, y_pred)\n",
    "accuracy"
   ]
  },
  {
   "cell_type": "code",
   "execution_count": 182,
   "metadata": {},
   "outputs": [
    {
     "name": "stdout",
     "output_type": "stream",
     "text": [
      "RFC Train: 1.0\n",
      "RFC Test: 0.7012012012012012\n",
      "\n",
      "ABC Train: 0.8233233233233234\n",
      "ABC Test: 0.6741741741741741\n",
      "\n",
      "GBC Train: 0.8843843843843844\n",
      "GBC Test: 0.6981981981981982\n"
     ]
    }
   ],
   "source": [
    "# Random Forest model\n",
    "rfc = RandomForestClassifier(n_estimators=100, max_features=\"auto\",random_state=42)\n",
    "rfc.fit(X_train, y_train)\n",
    "y_pred = rfc.predict(X_test)\n",
    "print('RFC Train:', rfc.score(X_train, y_train))\n",
    "print('RFC Test:', rfc.score(X_test, y_test))\n",
    "\n",
    "# AdaBoost model\n",
    "abc = AdaBoostClassifier(n_estimators=100)\n",
    "abc.fit(X_train, y_train)\n",
    "y_pred = abc.predict(X_test)\n",
    "print('\\nABC Train:',abc.score(X_train, y_train))\n",
    "print('ABC Test:',abc.score(X_test, y_test))\n",
    "\n",
    "# Gradient Boosting model\n",
    "gbc = GradientBoostingClassifier(n_estimators=100)\n",
    "gbc.fit(X_train, y_train)\n",
    "y_pred = gbc.predict(X_test)\n",
    "print('\\nGBC Train:',gbc.score(X_train, y_train))\n",
    "print('GBC Test:',gbc.score(X_test, y_test))\n"
   ]
  },
  {
   "cell_type": "markdown",
   "metadata": {},
   "source": [
    "**Interpretation**\n",
    "It looks like Gradient Boosting Classifer has a good medium between overfitting and accuracy where Random Forests are overfitting too much and AdaBoost is overfitting less but has a lower test score and lower training score than Gradient Boost. "
   ]
  },
  {
   "cell_type": "code",
   "execution_count": 183,
   "metadata": {},
   "outputs": [
    {
     "name": "stdout",
     "output_type": "stream",
     "text": [
      "Accuracy score (training): 0.723\n",
      "Accuracy score (test): 0.617\n"
     ]
    }
   ],
   "source": [
    "gb_clf = GradientBoostingClassifier(n_estimators=50, max_features=2, max_depth=2)\n",
    "gb_clf.fit(X_train, y_train)\n",
    "\n",
    "print(\"Accuracy score (training): {0:.3f}\".format(gb_clf.score(X_train, y_train)))\n",
    "print(\"Accuracy score (test): {0:.3f}\".format(gb_clf.score(X_test, y_test)))\n"
   ]
  },
  {
   "cell_type": "code",
   "execution_count": 184,
   "metadata": {},
   "outputs": [
    {
     "name": "stdout",
     "output_type": "stream",
     "text": [
      "Accuracy score (training): 0.773\n",
      "Accuracy score (test): 0.653\n"
     ]
    }
   ],
   "source": [
    "gb_clf = GradientBoostingClassifier(n_estimators=100, max_features=2, max_depth=2)\n",
    "gb_clf.fit(X_train, y_train)\n",
    "\n",
    "print(\"Accuracy score (training): {0:.3f}\".format(gb_clf.score(X_train, y_train)))\n",
    "print(\"Accuracy score (test): {0:.3f}\".format(gb_clf.score(X_test, y_test)))\n"
   ]
  },
  {
   "cell_type": "code",
   "execution_count": 185,
   "metadata": {},
   "outputs": [
    {
     "name": "stdout",
     "output_type": "stream",
     "text": [
      "Accuracy score (training): 0.830\n",
      "Accuracy score (test): 0.662\n"
     ]
    }
   ],
   "source": [
    "gb_clf = GradientBoostingClassifier(n_estimators=100, max_features=2, max_depth=3)\n",
    "gb_clf.fit(X_train, y_train)\n",
    "\n",
    "print(\"Accuracy score (training): {0:.3f}\".format(gb_clf.score(X_train, y_train)))\n",
    "print(\"Accuracy score (test): {0:.3f}\".format(gb_clf.score(X_test, y_test)))"
   ]
  },
  {
   "cell_type": "code",
   "execution_count": 186,
   "metadata": {},
   "outputs": [],
   "source": [
    "preds = gb_clf.predict(X_test)"
   ]
  },
  {
   "cell_type": "code",
   "execution_count": 187,
   "metadata": {},
   "outputs": [
    {
     "name": "stdout",
     "output_type": "stream",
     "text": [
      "[[231  99]\n",
      " [126 210]]\n"
     ]
    }
   ],
   "source": [
    "tn, fp, fn, tp = confusion_matrix(y_test,\n",
    "                                  preds).ravel()\n",
    "\n",
    "print(confusion_matrix(y_test,\n",
    "                       preds))"
   ]
  },
  {
   "cell_type": "code",
   "execution_count": 188,
   "metadata": {},
   "outputs": [
    {
     "data": {
      "image/png": "[encoded data removed]",
      "text/plain": [
       "<Figure size 432x288 with 2 Axes>"
      ]
     },
     "metadata": {
      "needs_background": "light"
     },
     "output_type": "display_data"
    }
   ],
   "source": [
    "metrics.plot_confusion_matrix(gb_clf, X_test, y_test, cmap='Purples', \n",
    "                      values_format='d', display_labels=['AskanAmerican', 'AskEurope']);"
   ]
  },
  {
   "cell_type": "code",
   "execution_count": 189,
   "metadata": {},
   "outputs": [
    {
     "name": "stdout",
     "output_type": "stream",
     "text": [
      "Precision: 0.6796116504854369\n",
      "Recall: 0.625\n",
      "Accuracy: 0.6621621621621622\n",
      "Specificity: 0.7\n"
     ]
    }
   ],
   "source": [
    "# Precision: tp / (tp + fp)\n",
    "print('Precision:', tp/(tp+fp))\n",
    "\n",
    "# Recall: tp / (tp + fn)\n",
    "print('Recall:', tp/(tp + fn))\n",
    "\n",
    "# Accuracy: (tn + tp) / (tn + tp + fn + fp)\n",
    "print('Accuracy:',(tn + tp) / (tn + tp + fn + fp))\n",
    "\n",
    "# Specificity: tn / (tn + fp)\n",
    "\n",
    "print('Specificity:',tn / (tn + fp))"
   ]
  },
  {
   "cell_type": "markdown",
   "metadata": {},
   "source": [
    "**Interpretation**\n",
    "\n",
    "We can see that this grid search is still overfitting about as much with different parameters and those test scores that are the closest to the training scores are closest to the Decision Tree and Extra Tree Classifiers. \n",
    "\n",
    "\n",
    "# Overall Conclusions\n",
    "\n",
    "Due to the time and cumputational constraint these models are limited by when looking for the best features to give teachers as recommendations, we will make our working model Logistic Regression"
   ]
  },
  {
   "cell_type": "code",
   "execution_count": null,
   "metadata": {},
   "outputs": [],
   "source": []
  }
 ],
 "metadata": {
  "kernelspec": {
   "display_name": "Python 3",
   "language": "python",
   "name": "python3"
  },
  "language_info": {
   "codemirror_mode": {
    "name": "ipython",
    "version": 3
   },
   "file_extension": ".py",
   "mimetype": "text/x-python",
   "name": "python",
   "nbconvert_exporter": "python",
   "pygments_lexer": "ipython3",
   "version": "3.8.5"
  }
 },
 "nbformat": 4,
 "nbformat_minor": 4
}
