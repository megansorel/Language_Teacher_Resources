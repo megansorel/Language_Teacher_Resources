{
 "cells": [
  {
   "cell_type": "markdown",
   "metadata": {},
   "source": [
    "# Logistic Regression to Classify Subreddit Posts"
   ]
  },
  {
   "cell_type": "code",
   "execution_count": 178,
   "metadata": {},
   "outputs": [
    {
     "name": "stdout",
     "output_type": "stream",
     "text": [
      "/bin/bash: -c: line 0: syntax error near unexpected token `('\n",
      "/bin/bash: -c: line 0: `/opt/anaconda3/bin/python -m pip install squarify (algorithm for treemap)'\n",
      "Note: you may need to restart the kernel to use updated packages.\n"
     ]
    }
   ],
   "source": [
    "pip install squarify (algorithm for treemap)"
   ]
  },
  {
   "cell_type": "code",
   "execution_count": 179,
   "metadata": {},
   "outputs": [],
   "source": [
    "import pandas as pd\n",
    "import numpy as np\n",
    "import seaborn as sns\n",
    "import matplotlib.pyplot as plt\n",
    "import squarify    \n",
    "\n",
    "\n",
    "import sklearn.metrics as metrics\n",
    "from sklearn.linear_model import LogisticRegression\n",
    "\n",
    "\n",
    "from sklearn.pipeline import Pipeline\n",
    "from sklearn.model_selection import train_test_split, GridSearchCV  \n",
    "\n",
    "import warnings\n",
    "warnings.filterwarnings('ignore')\n",
    "\n",
    "from sklearn.metrics import confusion_matrix"
   ]
  },
  {
   "cell_type": "code",
   "execution_count": 180,
   "metadata": {},
   "outputs": [],
   "source": [
    "df = pd.read_csv('./prepared_data.csv')"
   ]
  },
  {
   "cell_type": "code",
   "execution_count": 181,
   "metadata": {},
   "outputs": [
    {
     "data": {
      "text/html": [
       "<div>\n",
       "<style scoped>\n",
       "    .dataframe tbody tr th:only-of-type {\n",
       "        vertical-align: middle;\n",
       "    }\n",
       "\n",
       "    .dataframe tbody tr th {\n",
       "        vertical-align: top;\n",
       "    }\n",
       "\n",
       "    .dataframe thead th {\n",
       "        text-align: right;\n",
       "    }\n",
       "</style>\n",
       "<table border=\"1\" class=\"dataframe\">\n",
       "  <thead>\n",
       "    <tr style=\"text-align: right;\">\n",
       "      <th></th>\n",
       "      <th>num_comments</th>\n",
       "      <th>num_upvotes</th>\n",
       "      <th>subreddit</th>\n",
       "      <th>comment_length</th>\n",
       "      <th>question_length</th>\n",
       "      <th>AUX_comment</th>\n",
       "      <th>NUM_comment</th>\n",
       "      <th>ADV_comment</th>\n",
       "      <th>SCONJ_comment</th>\n",
       "      <th>VERB_comment</th>\n",
       "      <th>...</th>\n",
       "      <th>way</th>\n",
       "      <th>word</th>\n",
       "      <th>work</th>\n",
       "      <th>world</th>\n",
       "      <th>year</th>\n",
       "      <th>Topic0</th>\n",
       "      <th>Topic1</th>\n",
       "      <th>Topic2</th>\n",
       "      <th>Topic3</th>\n",
       "      <th>Topic4</th>\n",
       "    </tr>\n",
       "  </thead>\n",
       "  <tbody>\n",
       "    <tr>\n",
       "      <th>0</th>\n",
       "      <td>3</td>\n",
       "      <td>3</td>\n",
       "      <td>1</td>\n",
       "      <td>184</td>\n",
       "      <td>1970</td>\n",
       "      <td>0.055556</td>\n",
       "      <td>0.055556</td>\n",
       "      <td>0.083333</td>\n",
       "      <td>0.000000</td>\n",
       "      <td>0.111111</td>\n",
       "      <td>...</td>\n",
       "      <td>0.0</td>\n",
       "      <td>0.0</td>\n",
       "      <td>0.0</td>\n",
       "      <td>0.0</td>\n",
       "      <td>0.054868</td>\n",
       "      <td>0.055424</td>\n",
       "      <td>0.470683</td>\n",
       "      <td>0.054959</td>\n",
       "      <td>0.364559</td>\n",
       "      <td>0.054375</td>\n",
       "    </tr>\n",
       "    <tr>\n",
       "      <th>1</th>\n",
       "      <td>14</td>\n",
       "      <td>3</td>\n",
       "      <td>0</td>\n",
       "      <td>543</td>\n",
       "      <td>160</td>\n",
       "      <td>0.052632</td>\n",
       "      <td>0.026316</td>\n",
       "      <td>0.078947</td>\n",
       "      <td>0.017544</td>\n",
       "      <td>0.114035</td>\n",
       "      <td>...</td>\n",
       "      <td>0.0</td>\n",
       "      <td>0.0</td>\n",
       "      <td>0.0</td>\n",
       "      <td>0.0</td>\n",
       "      <td>0.000000</td>\n",
       "      <td>0.258384</td>\n",
       "      <td>0.045055</td>\n",
       "      <td>0.044136</td>\n",
       "      <td>0.044552</td>\n",
       "      <td>0.607874</td>\n",
       "    </tr>\n",
       "    <tr>\n",
       "      <th>2</th>\n",
       "      <td>55</td>\n",
       "      <td>3</td>\n",
       "      <td>0</td>\n",
       "      <td>83</td>\n",
       "      <td>343</td>\n",
       "      <td>0.047619</td>\n",
       "      <td>0.000000</td>\n",
       "      <td>0.142857</td>\n",
       "      <td>0.000000</td>\n",
       "      <td>0.095238</td>\n",
       "      <td>...</td>\n",
       "      <td>0.0</td>\n",
       "      <td>0.0</td>\n",
       "      <td>0.0</td>\n",
       "      <td>0.0</td>\n",
       "      <td>0.000000</td>\n",
       "      <td>0.061852</td>\n",
       "      <td>0.060755</td>\n",
       "      <td>0.060420</td>\n",
       "      <td>0.060941</td>\n",
       "      <td>0.756032</td>\n",
       "    </tr>\n",
       "    <tr>\n",
       "      <th>3</th>\n",
       "      <td>3</td>\n",
       "      <td>0</td>\n",
       "      <td>1</td>\n",
       "      <td>921</td>\n",
       "      <td>185</td>\n",
       "      <td>0.037037</td>\n",
       "      <td>0.010582</td>\n",
       "      <td>0.084656</td>\n",
       "      <td>0.015873</td>\n",
       "      <td>0.121693</td>\n",
       "      <td>...</td>\n",
       "      <td>0.0</td>\n",
       "      <td>0.0</td>\n",
       "      <td>0.0</td>\n",
       "      <td>0.0</td>\n",
       "      <td>0.000000</td>\n",
       "      <td>0.740360</td>\n",
       "      <td>0.110179</td>\n",
       "      <td>0.052919</td>\n",
       "      <td>0.048468</td>\n",
       "      <td>0.048074</td>\n",
       "    </tr>\n",
       "    <tr>\n",
       "      <th>4</th>\n",
       "      <td>29</td>\n",
       "      <td>1</td>\n",
       "      <td>0</td>\n",
       "      <td>74</td>\n",
       "      <td>115</td>\n",
       "      <td>0.125000</td>\n",
       "      <td>0.000000</td>\n",
       "      <td>0.125000</td>\n",
       "      <td>0.000000</td>\n",
       "      <td>0.312500</td>\n",
       "      <td>...</td>\n",
       "      <td>0.0</td>\n",
       "      <td>0.0</td>\n",
       "      <td>0.0</td>\n",
       "      <td>0.0</td>\n",
       "      <td>0.000000</td>\n",
       "      <td>0.085808</td>\n",
       "      <td>0.083881</td>\n",
       "      <td>0.083705</td>\n",
       "      <td>0.084047</td>\n",
       "      <td>0.662560</td>\n",
       "    </tr>\n",
       "  </tbody>\n",
       "</table>\n",
       "<p>5 rows × 136 columns</p>\n",
       "</div>"
      ],
      "text/plain": [
       "   num_comments  num_upvotes  subreddit  comment_length  question_length  \\\n",
       "0             3            3          1             184             1970   \n",
       "1            14            3          0             543              160   \n",
       "2            55            3          0              83              343   \n",
       "3             3            0          1             921              185   \n",
       "4            29            1          0              74              115   \n",
       "\n",
       "   AUX_comment  NUM_comment  ADV_comment  SCONJ_comment  VERB_comment  ...  \\\n",
       "0     0.055556     0.055556     0.083333       0.000000      0.111111  ...   \n",
       "1     0.052632     0.026316     0.078947       0.017544      0.114035  ...   \n",
       "2     0.047619     0.000000     0.142857       0.000000      0.095238  ...   \n",
       "3     0.037037     0.010582     0.084656       0.015873      0.121693  ...   \n",
       "4     0.125000     0.000000     0.125000       0.000000      0.312500  ...   \n",
       "\n",
       "   way  word  work  world      year    Topic0    Topic1    Topic2    Topic3  \\\n",
       "0  0.0   0.0   0.0    0.0  0.054868  0.055424  0.470683  0.054959  0.364559   \n",
       "1  0.0   0.0   0.0    0.0  0.000000  0.258384  0.045055  0.044136  0.044552   \n",
       "2  0.0   0.0   0.0    0.0  0.000000  0.061852  0.060755  0.060420  0.060941   \n",
       "3  0.0   0.0   0.0    0.0  0.000000  0.740360  0.110179  0.052919  0.048468   \n",
       "4  0.0   0.0   0.0    0.0  0.000000  0.085808  0.083881  0.083705  0.084047   \n",
       "\n",
       "     Topic4  \n",
       "0  0.054375  \n",
       "1  0.607874  \n",
       "2  0.756032  \n",
       "3  0.048074  \n",
       "4  0.662560  \n",
       "\n",
       "[5 rows x 136 columns]"
      ]
     },
     "execution_count": 181,
     "metadata": {},
     "output_type": "execute_result"
    }
   ],
   "source": [
    "df.head()"
   ]
  },
  {
   "cell_type": "code",
   "execution_count": 182,
   "metadata": {},
   "outputs": [],
   "source": [
    "features = [c for c in df._get_numeric_data().columns if c != 'subreddit']\n",
    "\n",
    "X = df[features] \n",
    "\n",
    "y = df['subreddit']\n",
    "\n",
    "X_train, X_test, y_train, y_test = train_test_split(X, y, \n",
    "                                                    stratify = y,\n",
    "                                                    random_state = 42)"
   ]
  },
  {
   "cell_type": "code",
   "execution_count": 183,
   "metadata": {},
   "outputs": [
    {
     "data": {
      "text/plain": [
       "Index(['num_comments', 'num_upvotes', 'comment_length', 'question_length',\n",
       "       'AUX_comment', 'NUM_comment', 'ADV_comment', 'SCONJ_comment',\n",
       "       'VERB_comment', 'ADJ_comment',\n",
       "       ...\n",
       "       'way', 'word', 'work', 'world', 'year', 'Topic0', 'Topic1', 'Topic2',\n",
       "       'Topic3', 'Topic4'],\n",
       "      dtype='object', length=135)"
      ]
     },
     "execution_count": 183,
     "metadata": {},
     "output_type": "execute_result"
    }
   ],
   "source": [
    "X.columns"
   ]
  },
  {
   "cell_type": "code",
   "execution_count": 184,
   "metadata": {},
   "outputs": [
    {
     "data": {
      "text/plain": [
       "(2664,)"
      ]
     },
     "execution_count": 184,
     "metadata": {},
     "output_type": "execute_result"
    }
   ],
   "source": [
    "y.shape"
   ]
  },
  {
   "cell_type": "code",
   "execution_count": 185,
   "metadata": {},
   "outputs": [
    {
     "data": {
      "text/html": [
       "<div>\n",
       "<style scoped>\n",
       "    .dataframe tbody tr th:only-of-type {\n",
       "        vertical-align: middle;\n",
       "    }\n",
       "\n",
       "    .dataframe tbody tr th {\n",
       "        vertical-align: top;\n",
       "    }\n",
       "\n",
       "    .dataframe thead th {\n",
       "        text-align: right;\n",
       "    }\n",
       "</style>\n",
       "<table border=\"1\" class=\"dataframe\">\n",
       "  <thead>\n",
       "    <tr style=\"text-align: right;\">\n",
       "      <th></th>\n",
       "      <th>num_comments</th>\n",
       "      <th>num_upvotes</th>\n",
       "      <th>comment_length</th>\n",
       "      <th>question_length</th>\n",
       "      <th>AUX_comment</th>\n",
       "      <th>NUM_comment</th>\n",
       "      <th>ADV_comment</th>\n",
       "      <th>SCONJ_comment</th>\n",
       "      <th>VERB_comment</th>\n",
       "      <th>ADJ_comment</th>\n",
       "      <th>...</th>\n",
       "      <th>way</th>\n",
       "      <th>word</th>\n",
       "      <th>work</th>\n",
       "      <th>world</th>\n",
       "      <th>year</th>\n",
       "      <th>Topic0</th>\n",
       "      <th>Topic1</th>\n",
       "      <th>Topic2</th>\n",
       "      <th>Topic3</th>\n",
       "      <th>Topic4</th>\n",
       "    </tr>\n",
       "  </thead>\n",
       "  <tbody>\n",
       "    <tr>\n",
       "      <th>0</th>\n",
       "      <td>3</td>\n",
       "      <td>3</td>\n",
       "      <td>184</td>\n",
       "      <td>1970</td>\n",
       "      <td>0.055556</td>\n",
       "      <td>0.055556</td>\n",
       "      <td>0.083333</td>\n",
       "      <td>0.000000</td>\n",
       "      <td>0.111111</td>\n",
       "      <td>0.083333</td>\n",
       "      <td>...</td>\n",
       "      <td>0.0</td>\n",
       "      <td>0.0</td>\n",
       "      <td>0.0</td>\n",
       "      <td>0.0</td>\n",
       "      <td>0.054868</td>\n",
       "      <td>0.055424</td>\n",
       "      <td>0.470683</td>\n",
       "      <td>0.054959</td>\n",
       "      <td>0.364559</td>\n",
       "      <td>0.054375</td>\n",
       "    </tr>\n",
       "    <tr>\n",
       "      <th>1</th>\n",
       "      <td>14</td>\n",
       "      <td>3</td>\n",
       "      <td>543</td>\n",
       "      <td>160</td>\n",
       "      <td>0.052632</td>\n",
       "      <td>0.026316</td>\n",
       "      <td>0.078947</td>\n",
       "      <td>0.017544</td>\n",
       "      <td>0.114035</td>\n",
       "      <td>0.122807</td>\n",
       "      <td>...</td>\n",
       "      <td>0.0</td>\n",
       "      <td>0.0</td>\n",
       "      <td>0.0</td>\n",
       "      <td>0.0</td>\n",
       "      <td>0.000000</td>\n",
       "      <td>0.258384</td>\n",
       "      <td>0.045055</td>\n",
       "      <td>0.044136</td>\n",
       "      <td>0.044552</td>\n",
       "      <td>0.607874</td>\n",
       "    </tr>\n",
       "    <tr>\n",
       "      <th>2</th>\n",
       "      <td>55</td>\n",
       "      <td>3</td>\n",
       "      <td>83</td>\n",
       "      <td>343</td>\n",
       "      <td>0.047619</td>\n",
       "      <td>0.000000</td>\n",
       "      <td>0.142857</td>\n",
       "      <td>0.000000</td>\n",
       "      <td>0.095238</td>\n",
       "      <td>0.047619</td>\n",
       "      <td>...</td>\n",
       "      <td>0.0</td>\n",
       "      <td>0.0</td>\n",
       "      <td>0.0</td>\n",
       "      <td>0.0</td>\n",
       "      <td>0.000000</td>\n",
       "      <td>0.061852</td>\n",
       "      <td>0.060755</td>\n",
       "      <td>0.060420</td>\n",
       "      <td>0.060941</td>\n",
       "      <td>0.756032</td>\n",
       "    </tr>\n",
       "    <tr>\n",
       "      <th>3</th>\n",
       "      <td>3</td>\n",
       "      <td>0</td>\n",
       "      <td>921</td>\n",
       "      <td>185</td>\n",
       "      <td>0.037037</td>\n",
       "      <td>0.010582</td>\n",
       "      <td>0.084656</td>\n",
       "      <td>0.015873</td>\n",
       "      <td>0.121693</td>\n",
       "      <td>0.095238</td>\n",
       "      <td>...</td>\n",
       "      <td>0.0</td>\n",
       "      <td>0.0</td>\n",
       "      <td>0.0</td>\n",
       "      <td>0.0</td>\n",
       "      <td>0.000000</td>\n",
       "      <td>0.740360</td>\n",
       "      <td>0.110179</td>\n",
       "      <td>0.052919</td>\n",
       "      <td>0.048468</td>\n",
       "      <td>0.048074</td>\n",
       "    </tr>\n",
       "    <tr>\n",
       "      <th>4</th>\n",
       "      <td>29</td>\n",
       "      <td>1</td>\n",
       "      <td>74</td>\n",
       "      <td>115</td>\n",
       "      <td>0.125000</td>\n",
       "      <td>0.000000</td>\n",
       "      <td>0.125000</td>\n",
       "      <td>0.000000</td>\n",
       "      <td>0.312500</td>\n",
       "      <td>0.000000</td>\n",
       "      <td>...</td>\n",
       "      <td>0.0</td>\n",
       "      <td>0.0</td>\n",
       "      <td>0.0</td>\n",
       "      <td>0.0</td>\n",
       "      <td>0.000000</td>\n",
       "      <td>0.085808</td>\n",
       "      <td>0.083881</td>\n",
       "      <td>0.083705</td>\n",
       "      <td>0.084047</td>\n",
       "      <td>0.662560</td>\n",
       "    </tr>\n",
       "  </tbody>\n",
       "</table>\n",
       "<p>5 rows × 135 columns</p>\n",
       "</div>"
      ],
      "text/plain": [
       "   num_comments  num_upvotes  comment_length  question_length  AUX_comment  \\\n",
       "0             3            3             184             1970     0.055556   \n",
       "1            14            3             543              160     0.052632   \n",
       "2            55            3              83              343     0.047619   \n",
       "3             3            0             921              185     0.037037   \n",
       "4            29            1              74              115     0.125000   \n",
       "\n",
       "   NUM_comment  ADV_comment  SCONJ_comment  VERB_comment  ADJ_comment  ...  \\\n",
       "0     0.055556     0.083333       0.000000      0.111111     0.083333  ...   \n",
       "1     0.026316     0.078947       0.017544      0.114035     0.122807  ...   \n",
       "2     0.000000     0.142857       0.000000      0.095238     0.047619  ...   \n",
       "3     0.010582     0.084656       0.015873      0.121693     0.095238  ...   \n",
       "4     0.000000     0.125000       0.000000      0.312500     0.000000  ...   \n",
       "\n",
       "   way  word  work  world      year    Topic0    Topic1    Topic2    Topic3  \\\n",
       "0  0.0   0.0   0.0    0.0  0.054868  0.055424  0.470683  0.054959  0.364559   \n",
       "1  0.0   0.0   0.0    0.0  0.000000  0.258384  0.045055  0.044136  0.044552   \n",
       "2  0.0   0.0   0.0    0.0  0.000000  0.061852  0.060755  0.060420  0.060941   \n",
       "3  0.0   0.0   0.0    0.0  0.000000  0.740360  0.110179  0.052919  0.048468   \n",
       "4  0.0   0.0   0.0    0.0  0.000000  0.085808  0.083881  0.083705  0.084047   \n",
       "\n",
       "     Topic4  \n",
       "0  0.054375  \n",
       "1  0.607874  \n",
       "2  0.756032  \n",
       "3  0.048074  \n",
       "4  0.662560  \n",
       "\n",
       "[5 rows x 135 columns]"
      ]
     },
     "execution_count": 185,
     "metadata": {},
     "output_type": "execute_result"
    }
   ],
   "source": [
    "X.head()"
   ]
  },
  {
   "cell_type": "code",
   "execution_count": 186,
   "metadata": {},
   "outputs": [
    {
     "name": "stdout",
     "output_type": "stream",
     "text": [
      "Cross Val Score: 0.6866904761904763\n",
      "Best Params: {'C': 1, 'penalty': 'l2', 'solver': 'liblinear'}\n"
     ]
    }
   ],
   "source": [
    "#grid searching logreg model\n",
    "params = {\n",
    "    'penalty': ['l1', 'l2'],\n",
    "    'C': [1, .1],\n",
    "    'solver': ['liblinear']\n",
    "}\n",
    "\n",
    "\n",
    "\n",
    "gs = GridSearchCV(LogisticRegression(), param_grid = params)\n",
    "gs.fit(X_train, y_train)\n",
    "\n",
    "print('Cross Val Score:', gs.best_score_)\n",
    "print('Best Params:', gs.best_params_)"
   ]
  },
  {
   "cell_type": "code",
   "execution_count": 187,
   "metadata": {},
   "outputs": [
    {
     "name": "stdout",
     "output_type": "stream",
     "text": [
      "0.6711711711711712\n",
      "0.7397397397397397\n"
     ]
    }
   ],
   "source": [
    "print(gs.score(X_test, y_test))\n",
    "print(gs.score(X_train, y_train))"
   ]
  },
  {
   "cell_type": "code",
   "execution_count": 188,
   "metadata": {},
   "outputs": [
    {
     "data": {
      "text/html": [
       "<div>\n",
       "<style scoped>\n",
       "    .dataframe tbody tr th:only-of-type {\n",
       "        vertical-align: middle;\n",
       "    }\n",
       "\n",
       "    .dataframe tbody tr th {\n",
       "        vertical-align: top;\n",
       "    }\n",
       "\n",
       "    .dataframe thead th {\n",
       "        text-align: right;\n",
       "    }\n",
       "</style>\n",
       "<table border=\"1\" class=\"dataframe\">\n",
       "  <thead>\n",
       "    <tr style=\"text-align: right;\">\n",
       "      <th></th>\n",
       "      <th>mean_test_score</th>\n",
       "      <th>std_test_score</th>\n",
       "    </tr>\n",
       "  </thead>\n",
       "  <tbody>\n",
       "    <tr>\n",
       "      <th>0</th>\n",
       "      <td>0.684187</td>\n",
       "      <td>0.016266</td>\n",
       "    </tr>\n",
       "    <tr>\n",
       "      <th>3</th>\n",
       "      <td>0.667669</td>\n",
       "      <td>0.017745</td>\n",
       "    </tr>\n",
       "    <tr>\n",
       "      <th>2</th>\n",
       "      <td>0.638644</td>\n",
       "      <td>0.018840</td>\n",
       "    </tr>\n",
       "    <tr>\n",
       "      <th>1</th>\n",
       "      <td>0.686690</td>\n",
       "      <td>0.025332</td>\n",
       "    </tr>\n",
       "  </tbody>\n",
       "</table>\n",
       "</div>"
      ],
      "text/plain": [
       "   mean_test_score  std_test_score\n",
       "0         0.684187        0.016266\n",
       "3         0.667669        0.017745\n",
       "2         0.638644        0.018840\n",
       "1         0.686690        0.025332"
      ]
     },
     "execution_count": 188,
     "metadata": {},
     "output_type": "execute_result"
    }
   ],
   "source": [
    "#looking at the grid search results\n",
    "pd.DataFrame(gs.cv_results_)[['mean_test_score', 'std_test_score']].sort_values('std_test_score')"
   ]
  },
  {
   "cell_type": "code",
   "execution_count": 189,
   "metadata": {},
   "outputs": [],
   "source": [
    "# making the model with the best parameters\n",
    "\n",
    "model = LogisticRegression(n_jobs = -1, C= 1, penalty= 'l1', solver= 'liblinear')\n",
    "\n",
    "model.fit(X_train, y_train)\n",
    "preds = model.predict(X_test)\n",
    "\n",
    "residuals = y_test - preds"
   ]
  },
  {
   "cell_type": "code",
   "execution_count": 190,
   "metadata": {},
   "outputs": [
    {
     "data": {
      "image/png": "[encoded data removed]",
      "text/plain": [
       "<Figure size 432x288 with 1 Axes>"
      ]
     },
     "metadata": {
      "needs_background": "light"
     },
     "output_type": "display_data"
    }
   ],
   "source": [
    "plt.hist(residuals);"
   ]
  },
  {
   "cell_type": "code",
   "execution_count": 191,
   "metadata": {},
   "outputs": [
    {
     "name": "stdout",
     "output_type": "stream",
     "text": [
      "[[236 102]\n",
      " [107 221]]\n"
     ]
    }
   ],
   "source": [
    "# Generate confusion matrix.\n",
    "tn, fp, fn, tp = confusion_matrix(y_test,\n",
    "                                  preds).ravel()\n",
    "\n",
    "print(confusion_matrix(y_test,\n",
    "                       preds))"
   ]
  },
  {
   "cell_type": "code",
   "execution_count": 192,
   "metadata": {},
   "outputs": [
    {
     "data": {
      "image/png": "[encoded data removed]",
      "text/plain": [
       "<Figure size 432x288 with 2 Axes>"
      ]
     },
     "metadata": {
      "needs_background": "light"
     },
     "output_type": "display_data"
    }
   ],
   "source": [
    "#looking at the confusion matrix\n",
    "metrics.plot_confusion_matrix(model, X_test, y_test, cmap='Purples', \n",
    "                      values_format='d', display_labels=['AskanAmerican', 'AskEurope']);"
   ]
  },
  {
   "cell_type": "code",
   "execution_count": 193,
   "metadata": {},
   "outputs": [
    {
     "name": "stdout",
     "output_type": "stream",
     "text": [
      "Precision: 0.6842105263157895\n",
      "Recall: 0.6737804878048781\n",
      "Accuracy: 0.6861861861861862\n",
      "Specificity: 0.6982248520710059\n"
     ]
    }
   ],
   "source": [
    "# model scores\n",
    "\n",
    "print('Precision:', tp/(tp+fp))\n",
    "print('Recall:', tp/(tp + fn))\n",
    "print('Accuracy:',(tn + tp) / (tn + tp + fn + fp))\n",
    "print('Specificity:',tn / (tn + fp))"
   ]
  },
  {
   "cell_type": "markdown",
   "metadata": {},
   "source": [
    "**Interpretation**\n",
    "\n",
    "The model's overall performance can predict accurately 67\\% of the subreddit posts. \n",
    "\n",
    "The model performs better on predicting 'AskEurope' posts. This could be due to leakage in foreign langauges included in the data, or due to the fact that AskEurope has more specific topics asked about. "
   ]
  },
  {
   "cell_type": "code",
   "execution_count": 194,
   "metadata": {},
   "outputs": [
    {
     "data": {
      "text/plain": [
       "(135,)"
      ]
     },
     "execution_count": 194,
     "metadata": {},
     "output_type": "execute_result"
    }
   ],
   "source": [
    "#getting coefficients of best model \n",
    "coefs = model.coef_\n",
    "coefs[0].shape"
   ]
  },
  {
   "cell_type": "code",
   "execution_count": 195,
   "metadata": {},
   "outputs": [
    {
     "data": {
      "text/html": [
       "<div>\n",
       "<style scoped>\n",
       "    .dataframe tbody tr th:only-of-type {\n",
       "        vertical-align: middle;\n",
       "    }\n",
       "\n",
       "    .dataframe tbody tr th {\n",
       "        vertical-align: top;\n",
       "    }\n",
       "\n",
       "    .dataframe thead th {\n",
       "        text-align: right;\n",
       "    }\n",
       "</style>\n",
       "<table border=\"1\" class=\"dataframe\">\n",
       "  <thead>\n",
       "    <tr style=\"text-align: right;\">\n",
       "      <th></th>\n",
       "      <th>feature</th>\n",
       "      <th>coef</th>\n",
       "    </tr>\n",
       "  </thead>\n",
       "  <tbody>\n",
       "    <tr>\n",
       "      <th>74</th>\n",
       "      <td>language</td>\n",
       "      <td>3.363934</td>\n",
       "    </tr>\n",
       "    <tr>\n",
       "      <th>92</th>\n",
       "      <td>old</td>\n",
       "      <td>2.237866</td>\n",
       "    </tr>\n",
       "    <tr>\n",
       "      <th>41</th>\n",
       "      <td>child</td>\n",
       "      <td>2.014032</td>\n",
       "    </tr>\n",
       "    <tr>\n",
       "      <th>21</th>\n",
       "      <td>ADP_comment</td>\n",
       "      <td>1.984534</td>\n",
       "    </tr>\n",
       "    <tr>\n",
       "      <th>103</th>\n",
       "      <td>quite</td>\n",
       "      <td>1.809765</td>\n",
       "    </tr>\n",
       "    <tr>\n",
       "      <th>...</th>\n",
       "      <td>...</td>\n",
       "      <td>...</td>\n",
       "    </tr>\n",
       "    <tr>\n",
       "      <th>48</th>\n",
       "      <td>edit</td>\n",
       "      <td>-1.953696</td>\n",
       "    </tr>\n",
       "    <tr>\n",
       "      <th>114</th>\n",
       "      <td>term</td>\n",
       "      <td>-1.979684</td>\n",
       "    </tr>\n",
       "    <tr>\n",
       "      <th>62</th>\n",
       "      <td>guy</td>\n",
       "      <td>-2.754542</td>\n",
       "    </tr>\n",
       "    <tr>\n",
       "      <th>113</th>\n",
       "      <td>state</td>\n",
       "      <td>-4.484530</td>\n",
       "    </tr>\n",
       "    <tr>\n",
       "      <th>33</th>\n",
       "      <td>amendment</td>\n",
       "      <td>-6.814264</td>\n",
       "    </tr>\n",
       "  </tbody>\n",
       "</table>\n",
       "<p>135 rows × 2 columns</p>\n",
       "</div>"
      ],
      "text/plain": [
       "         feature      coef\n",
       "74      language  3.363934\n",
       "92           old  2.237866\n",
       "41         child  2.014032\n",
       "21   ADP_comment  1.984534\n",
       "103        quite  1.809765\n",
       "..           ...       ...\n",
       "48          edit -1.953696\n",
       "114         term -1.979684\n",
       "62           guy -2.754542\n",
       "113        state -4.484530\n",
       "33     amendment -6.814264\n",
       "\n",
       "[135 rows x 2 columns]"
      ]
     },
     "execution_count": 195,
     "metadata": {},
     "output_type": "execute_result"
    }
   ],
   "source": [
    "#df of best model \n",
    "\n",
    "coef_df = pd.DataFrame({'feature': X.columns,\n",
    "              'coef': coefs[0]})\n",
    "\n",
    "#top 10 biggest indicators \n",
    "coef_df.sort_values('coef').sort_values('coef', ascending=False)"
   ]
  },
  {
   "cell_type": "markdown",
   "metadata": {},
   "source": [
    "**Interpretation**\n",
    "\n",
    "The model’s predictions used mostly words to determine which subreddit a submission belonged to, for example, a subreddit that includes the word ‘amendment’ is 60%\n",
    "% more likely to be from ‘AskAnAmerican’ whereas a model with the word ‘language’ is 30% more likely to be from ‘AskEurope.’"
   ]
  },
  {
   "cell_type": "code",
   "execution_count": 198,
   "metadata": {},
   "outputs": [
    {
     "data": {
      "image/png": "[encoded data removed]",
      "text/plain": [
       "<Figure size 432x288 with 1 Axes>"
      ]
     },
     "metadata": {
      "needs_background": "light"
     },
     "output_type": "display_data"
    }
   ],
   "source": [
    "# Comparing visualizations\n",
    "height = [6.2, 4.2, 2.7, 1.99, 1.95]\n",
    "bars = (\"Amendment\", \"State\", \"Guy\", \"Term\", 'Edit')\n",
    "y_pos = np.arange(len(bars))\n",
    "\n",
    "# Create bars\n",
    "plt.bar(y_pos, height, color = 'slateblue')\n",
    "\n",
    "# Create names on the x-axis\n",
    "plt.xticks(y_pos, bars, fontsize=10)\n",
    "\n",
    "# Show graphic\n",
    "plt.show()"
   ]
  },
  {
   "cell_type": "code",
   "execution_count": 199,
   "metadata": {},
   "outputs": [
    {
     "data": {
      "image/png": "[encoded data removed]",
      "text/plain": [
       "<Figure size 432x288 with 1 Axes>"
      ]
     },
     "metadata": {
      "needs_background": "light"
     },
     "output_type": "display_data"
    }
   ],
   "source": [
    "# top 5 indicator words used by Americans \n",
    "\n",
    "df = pd.DataFrame({'Ask an American':[6.2, 4.2, 2.7, 1.99, 1.95],\\\n",
    "                   'group':[\"Amendment\", \"State\", \"Guy\", \"Term\", 'Edit'] })\n",
    "\n",
    "\n",
    "squarify.plot(sizes=df['Ask an American'], label=df['group'], alpha = 1,\\\n",
    "             color=[\"purple\",\"teal\",\"lightblue\", \"salmon\", 'orange'],\\\n",
    "             bar_kwargs={'alpha':.7}, text_kwargs={'fontsize':20})\n",
    "plt.axis('off')\n",
    "plt.show()"
   ]
  },
  {
   "cell_type": "code",
   "execution_count": 200,
   "metadata": {},
   "outputs": [
    {
     "data": {
      "text/plain": [
       "<Figure size 1440x720 with 0 Axes>"
      ]
     },
     "metadata": {},
     "output_type": "display_data"
    },
    {
     "data": {
      "image/png": "[encoded data removed]",
      "text/plain": [
       "<Figure size 432x288 with 1 Axes>"
      ]
     },
     "metadata": {
      "needs_background": "light"
     },
     "output_type": "display_data"
    }
   ],
   "source": [
    "# top 5 indicator words used by Americans \n",
    "\n",
    "d = dict(zip(df['group'], df['Ask an American']))\n",
    "\n",
    "\n",
    "\n",
    "wordcloud = WordCloud(width = 1600, height = 800,\n",
    "                     )\n",
    "plt.figure( figsize=(20,10), facecolor='k')\n",
    "wordcloud.generate_from_frequencies(frequencies=d)\n",
    "plt.figure()\n",
    "plt.imshow(wordcloud, interpolation=\"bilinear\") \n",
    "plt.tight_layout(pad=0)\n",
    "plt.axis(\"off\")\n",
    "plt.show();"
   ]
  },
  {
   "cell_type": "markdown",
   "metadata": {},
   "source": [
    "[source](https://stackoverflow.com/questions/38465478/wordcloud-from-data-frame-with-frequency-python)"
   ]
  },
  {
   "cell_type": "code",
   "execution_count": 201,
   "metadata": {},
   "outputs": [
    {
     "data": {
      "text/plain": [
       "<Figure size 1440x720 with 0 Axes>"
      ]
     },
     "metadata": {},
     "output_type": "display_data"
    },
    {
     "data": {
      "image/png": "[encoded data removed]",
      "text/plain": [
       "<Figure size 432x288 with 1 Axes>"
      ]
     },
     "metadata": {
      "needs_background": "light"
     },
     "output_type": "display_data"
    }
   ],
   "source": [
    "# top indicator words used by Europeans \n",
    "\n",
    "\n",
    "d= {'language':3.377450,\n",
    "'old':2.149021,\n",
    "'quite':1.937635,\n",
    "'similar':1.776862,\n",
    "'child':1.456640,\n",
    "   'probably': 1.35, \n",
    "   'called': 1.288, \n",
    "   'history': 1.279}\n",
    "\n",
    "import matplotlib.pyplot as plt\n",
    "from wordcloud import WordCloud\n",
    "\n",
    "wordcloud = WordCloud(width = 1200, height = 800,\n",
    "                background_color ='whitesmoke', colormap = 'Spectral')\n",
    "plt.figure( figsize=(20,10), facecolor='k')\n",
    "\n",
    "wordcloud.generate_from_frequencies(frequencies=d)\n",
    "plt.figure()\n",
    "plt.imshow(wordcloud, interpolation=\"bilinear\") \n",
    "plt.axis(\"off\")\n",
    "plt.show();"
   ]
  },
  {
   "cell_type": "markdown",
   "metadata": {},
   "source": [
    "# Logistic Regression As the Production Model"
   ]
  },
  {
   "cell_type": "markdown",
   "metadata": {},
   "source": [
    "Because my scores didn't change overly from Logistic Regression to Decision Trees, and the computation power of decision trees is much higher with more risk, Logistic Regression has been chosen for the production model. \n",
    "\n",
    "## Final Recommendations\n",
    "\n",
    "In order to support teachers and language learners, it is advised that reddit apis are set up to scrape submissions and classify them on a weekly or monthly basis depending on where the model is being implemented. \n",
    "\n",
    "Teachers can ask for specific topics or use summarized recommendations as they see fit. The current model can support them to use topics and vocab words to teach lessons illustrating cultural differences or prepare students for study abroad. Teachers can use the linguistic differences, such as adpositions use in a writer meaning the comment is 33.7\\% more likely to be from an 'AskEurope' commenter.\n",
    "\n",
    "Future plans for the model include looking into using the model for other languages, topics over time using datetimes, slang, which topics and communication styles are the most popular and discussion inducing."
   ]
  }
 ],
 "metadata": {
  "kernelspec": {
   "display_name": "Python 3",
   "language": "python",
   "name": "python3"
  },
  "language_info": {
   "codemirror_mode": {
    "name": "ipython",
    "version": 3
   },
   "file_extension": ".py",
   "mimetype": "text/x-python",
   "name": "python",
   "nbconvert_exporter": "python",
   "pygments_lexer": "ipython3",
   "version": "3.8.5"
  }
 },
 "nbformat": 4,
 "nbformat_minor": 4
}
